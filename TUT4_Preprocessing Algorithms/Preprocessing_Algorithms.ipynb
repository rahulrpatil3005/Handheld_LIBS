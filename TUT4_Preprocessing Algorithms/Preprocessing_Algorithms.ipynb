{
 "cells": [
  {
   "cell_type": "code",
   "execution_count": null,
   "id": "cf33ce4e-7a41-43f4-aeb2-0fb4b881b14b",
   "metadata": {},
   "outputs": [],
   "source": [
    "degree = 10\n",
    "base = baseline(Sample_Spectra.Intensities , deg = degree)\n",
    "\n",
    "Sample_Spectra_Baseline = figure(title = 'Corrected Baseline in hLIBS Spectra', x_axis_label = 'Wavelength' , y_axis_label = 'Intensity')\n",
    "Sample_Spectra_Baseline.line(Sample_Spectra.wavelength,Sample_Spectra.Intensities , line_width = 2, color =\"red\" )\n",
    "# Sample_Spectra_Baseline.line(Sample_Spectra.wavelength,base , line_width = 2, color =\"red\" )\n",
    "Sample_Spectra_Baseline.line(Sample_Spectra.wavelength,(Sample_Spectra.Intensities - base) , line_width = 2, color =\"green\" )\n",
    "\n",
    "\n",
    "Sample_Spectra_Baseline.width = 1200\n",
    "Sample_Spectra_Baseline.height = 600\n",
    "show(Sample_Spectra_Baseline)\n",
    "print(Sample_Spectra_Baseline)"
   ]
  }
 ],
 "metadata": {
  "kernelspec": {
   "display_name": "Python 3 (ipykernel)",
   "language": "python",
   "name": "python3"
  },
  "language_info": {
   "codemirror_mode": {
    "name": "ipython",
    "version": 3
   },
   "file_extension": ".py",
   "mimetype": "text/x-python",
   "name": "python",
   "nbconvert_exporter": "python",
   "pygments_lexer": "ipython3",
   "version": "3.12.0"
  }
 },
 "nbformat": 4,
 "nbformat_minor": 5
}
