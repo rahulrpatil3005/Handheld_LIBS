{
 "cells": [
  {
   "cell_type": "markdown",
   "id": "708ecccf-a107-4c11-a824-97e2dcbbabac",
   "metadata": {},
   "source": [
    "# Welcome to the Tutorial. This can be a good start from someone , having absoultely zero to no experience , programming in Python , Maybe , by this tutorial series  , you and me can learn together , and see how we can use Python for LIBS Spectra Data Analysis. I will be using Jupyter Lab for the Tutorial. "
   ]
  },
  {
   "cell_type": "markdown",
   "id": "160bd004-a56a-4adf-9873-31b03148911a",
   "metadata": {},
   "source": [
    "# SOME BACKGROUND"
   ]
  },
  {
   "cell_type": "markdown",
   "id": "c6d47a06-36ea-43db-8566-50e9c533aaf4",
   "metadata": {},
   "source": [
    "~ STEP 1 :- First download the latest Python Veriosn \n",
    "            https://www.python.org/downloads/\n",
    "\n",
    "Please Install the downloaded file on your computer using custom Installation settings. "
   ]
  },
  {
   "cell_type": "markdown",
   "id": "41ec6e05-e113-4c37-b68e-765d1c1cae46",
   "metadata": {},
   "source": [
    "~ STEP 2 :- After the installation is done , Open  , In MAC - Terminal or WIN - Terminal , and type \"Python3 --version\"\n",
    " for MAC or \"Python --version\" for WIN and press Enter \n",
    "\n",
    " If , the Terminal , returns with the verion of Python like \"Python 3.11.1\" , Installation has been succesful , and then we can proceed further , if not , please check if STEP 1 has been accomplished"
   ]
  },
  {
   "cell_type": "markdown",
   "id": "1aacfe08-aba6-411a-8d7e-bbfae468ab04",
   "metadata": {},
   "source": [
    "~STEP 3 :- After we are done  with the STEP 2 , I am using the Jupytr Lab for the tutorials. , type in terminal \"pip install jupyter lab\" , this will install the latest verison of Jupyter Lab on your system , automatically you will be redirected to the browser "
   ]
  },
  {
   "cell_type": "markdown",
   "id": "177ba2c9-c172-4235-9300-55fababea016",
   "metadata": {},
   "source": [
    "~ STEP 4 :- To check , if the installation of Jupyter lab has been successful , type \"jupyter lab --version\" on Terminal. If , the Terminal , returns with the verion of Jupyter Lab like \"4.1.2\" , Installation has been succesful , and then we can proceed further , if not , please check if STEP 3 has been accomplished"
   ]
  },
  {
   "cell_type": "markdown",
   "id": "9ad27c6d-f1e2-4360-8eed-b833ec11d07d",
   "metadata": {},
   "source": [
    "~ STEP 5 :- A library is a collection of code that makes everyday tasks more efficient. For my tutorial i would recommend Installing pandas , numpy - For data analysis , seaborn , matplotlib - For Visualisation.  \n",
    "\n",
    "Also , i would be Installing a library called \"peakutils\" , this woulbe be useful for recogisation of Peaks from the Spectra. https://peakutils.readthedocs.io/en/latest/\n"
   ]
  },
  {
   "cell_type": "markdown",
   "id": "b0d6fef1-aae7-4f6e-8c4b-6f9d45d46102",
   "metadata": {},
   "source": [
    "~ STEP 6 :- For installing the library , go to terminal , and type \"pip install pandas\" and after installing . Similarly , do this for numpy , seaborn , matplotlin and PeakUtils"
   ]
  },
  {
   "cell_type": "markdown",
   "id": "14de74cd-d43a-453c-a41b-423046e89a97",
   "metadata": {},
   "source": [
    "~ STEP 7 :- Now , to open the Jupyter Lab seession in the browser , go to terminal and type \"jupyter lab\" , you will be automatically redirected to the browser in a jupyter lab session. This is where you will start programming . \n",
    "\n",
    "NOTE :- To exit the session , press \"Ctrl + C\" on the termianal , this will end the running session on your system"
   ]
  },
  {
   "cell_type": "markdown",
   "id": "be32af82-9388-46d3-9bf1-d670a3cc25ea",
   "metadata": {},
   "source": [
    "~ STEP 8 :- In jupyter lab , your lines of codes or chunk of lines of codes  are called as \"Cell\" , If the \"Cell are of type Markdown - Used for Comments / Information \" and If the \"Cells are of type Code - Used for Programming\" \n",
    "\n",
    "You can get more in fo here -  https://www.datacamp.com/tutorial/installing-jupyter-notebook\n"
   ]
  },
  {
   "cell_type": "markdown",
   "id": "e701e0f5-142f-4166-b93d-3fb7377f98f1",
   "metadata": {},
   "source": [
    "# CODE BEGINS"
   ]
  },
  {
   "cell_type": "markdown",
   "id": "a64ca9ff-760b-4d7e-9cb8-29b89c23a90c",
   "metadata": {
    "editable": true,
    "slideshow": {
     "slide_type": ""
    },
    "tags": []
   },
   "source": [
    "# Importing the Useful librararies. "
   ]
  },
  {
   "cell_type": "markdown",
   "id": "61cfd157-b86e-4bc3-a3cf-63c87de1161b",
   "metadata": {},
   "source": [
    "Line [1] is completely optional , This is used to Hide the the Warnings in the Output cell. It's recommended to skip the line[1] , and proceed with the code from line[2]."
   ]
  },
  {
   "cell_type": "code",
   "execution_count": 1,
   "id": "fe24b79d-1d3e-4dcf-bc6c-d67f6ea78c29",
   "metadata": {},
   "outputs": [],
   "source": [
    "import warnings\n",
    "warnings.filterwarnings('ignore')"
   ]
  },
  {
   "cell_type": "markdown",
   "id": "356b5399-25db-40af-8a59-79ad84b80aa8",
   "metadata": {},
   "source": [
    "Line [2] is basicllay importing the Installed Libraries earlier and calling them in the IDE for interacting with them. \n",
    "\n",
    "Now , what does import \"import pandas as pd\"  mean ? \n",
    "\n",
    "-> For pandas, we usually import pandas with the pd alias, which means we refer to pandas as pd in the code instead of writing “pandas” each time. Alias is an alternate name that can be used for referencing the same thing again and again\n",
    "\n",
    "Now , what does \"from peakutils import indexes\" mean ? \n",
    "\n",
    "-> So , here peakutils is an library , The import statement allows you to import all the functions from a library into your code. Often, though, you'll only want to import a few functions, or just one. If this is the case, you can use the from statement. This essentially mean this line will import \"indexes \" function from the library \"peakutils\".\n"
   ]
  },
  {
   "cell_type": "code",
   "execution_count": 2,
   "id": "bbf405ee-aee5-4477-a558-19a3459c48fe",
   "metadata": {},
   "outputs": [],
   "source": [
    "import pandas as pd\n",
    "import numpy as np\n",
    "import seaborn as sns\n",
    "import matplotlib\n",
    "import matplotlib.pyplot as plt\n",
    "from peakutils import indexes\n",
    "\n",
    "\n",
    "\n"
   ]
  },
  {
   "cell_type": "markdown",
   "id": "5f0a7a6f-2747-45ca-963c-556323c02bfe",
   "metadata": {},
   "source": [
    "Now lets , import an .csv file , so that we can interact with the data\n",
    "\n",
    "Line [3] , basically we have created a variable called as \"spectra_data\" , and we have used pd.read_csv function , to read the content from the .csv file. Here as mentioned earlier , we are selecting a function called as read_csv from the library Pandas , which has an alias \"pd\"\n",
    "\n",
    "Now , after just typing the variable name in line below , it will print the content of the variable , which has an content of the .csv file. \n",
    "\n",
    "Please NOTE  , there are two ways 1) Copy the .csv file in your project directory , as what i have done , and then you can simply type the name of csv file with it's extension 'Spectra Data.csv' , to display the data , or else 2) Let the .csv file , be at any location on your drive , and then you can give it ,  its absolute path of the file location. eg :- 'C:/Windows/.. /Spectra Data.csv'\n",
    "\n",
    "Both works , exactly the same , although i prefer (1) - as it helps with file organisation\n",
    "\n",
    "Also , my data in the .csv format is starting from row 0 and endinging at row 23430 , now if in your case , you have to skip some rows , because of some headers or some junk information , you can use \"eg :- skiprows = 3 \" , this will slip the data for row 3 and above."
   ]
  },
  {
   "cell_type": "code",
   "execution_count": 3,
   "id": "f62f8a36-532b-4e94-a7b3-10be9aa54af1",
   "metadata": {},
   "outputs": [
    {
     "data": {
      "text/html": [
       "<div>\n",
       "<style scoped>\n",
       "    .dataframe tbody tr th:only-of-type {\n",
       "        vertical-align: middle;\n",
       "    }\n",
       "\n",
       "    .dataframe tbody tr th {\n",
       "        vertical-align: top;\n",
       "    }\n",
       "\n",
       "    .dataframe thead th {\n",
       "        text-align: right;\n",
       "    }\n",
       "</style>\n",
       "<table border=\"1\" class=\"dataframe\">\n",
       "  <thead>\n",
       "    <tr style=\"text-align: right;\">\n",
       "      <th></th>\n",
       "      <th>wavelength</th>\n",
       "      <th>CR210LA</th>\n",
       "      <th>CR240LA</th>\n",
       "      <th>CR300LA</th>\n",
       "      <th>CR460LA</th>\n",
       "      <th>CR570CP</th>\n",
       "      <th>CR440Y</th>\n",
       "      <th>CR700Y</th>\n",
       "      <th>CR1000Y</th>\n",
       "      <th>HR660Y</th>\n",
       "    </tr>\n",
       "  </thead>\n",
       "  <tbody>\n",
       "    <tr>\n",
       "      <th>0</th>\n",
       "      <td>180.000000</td>\n",
       "      <td>0.0</td>\n",
       "      <td>0.0</td>\n",
       "      <td>0.0</td>\n",
       "      <td>0.0</td>\n",
       "      <td>0.0</td>\n",
       "      <td>0.0</td>\n",
       "      <td>0.0</td>\n",
       "      <td>0.0</td>\n",
       "      <td>0.0</td>\n",
       "    </tr>\n",
       "    <tr>\n",
       "      <th>1</th>\n",
       "      <td>180.033333</td>\n",
       "      <td>0.0</td>\n",
       "      <td>0.0</td>\n",
       "      <td>0.0</td>\n",
       "      <td>0.0</td>\n",
       "      <td>0.0</td>\n",
       "      <td>0.0</td>\n",
       "      <td>0.0</td>\n",
       "      <td>0.0</td>\n",
       "      <td>0.0</td>\n",
       "    </tr>\n",
       "    <tr>\n",
       "      <th>2</th>\n",
       "      <td>180.066667</td>\n",
       "      <td>0.0</td>\n",
       "      <td>0.0</td>\n",
       "      <td>0.0</td>\n",
       "      <td>0.0</td>\n",
       "      <td>0.0</td>\n",
       "      <td>0.0</td>\n",
       "      <td>0.0</td>\n",
       "      <td>0.0</td>\n",
       "      <td>0.0</td>\n",
       "    </tr>\n",
       "    <tr>\n",
       "      <th>3</th>\n",
       "      <td>180.100000</td>\n",
       "      <td>0.0</td>\n",
       "      <td>0.0</td>\n",
       "      <td>0.0</td>\n",
       "      <td>0.0</td>\n",
       "      <td>0.0</td>\n",
       "      <td>0.0</td>\n",
       "      <td>0.0</td>\n",
       "      <td>0.0</td>\n",
       "      <td>0.0</td>\n",
       "    </tr>\n",
       "    <tr>\n",
       "      <th>4</th>\n",
       "      <td>180.133333</td>\n",
       "      <td>0.0</td>\n",
       "      <td>0.0</td>\n",
       "      <td>0.0</td>\n",
       "      <td>0.0</td>\n",
       "      <td>0.0</td>\n",
       "      <td>0.0</td>\n",
       "      <td>0.0</td>\n",
       "      <td>0.0</td>\n",
       "      <td>0.0</td>\n",
       "    </tr>\n",
       "    <tr>\n",
       "      <th>...</th>\n",
       "      <td>...</td>\n",
       "      <td>...</td>\n",
       "      <td>...</td>\n",
       "      <td>...</td>\n",
       "      <td>...</td>\n",
       "      <td>...</td>\n",
       "      <td>...</td>\n",
       "      <td>...</td>\n",
       "      <td>...</td>\n",
       "      <td>...</td>\n",
       "    </tr>\n",
       "    <tr>\n",
       "      <th>23426</th>\n",
       "      <td>960.866667</td>\n",
       "      <td>0.0</td>\n",
       "      <td>0.0</td>\n",
       "      <td>0.0</td>\n",
       "      <td>0.0</td>\n",
       "      <td>0.0</td>\n",
       "      <td>0.0</td>\n",
       "      <td>0.0</td>\n",
       "      <td>0.0</td>\n",
       "      <td>0.0</td>\n",
       "    </tr>\n",
       "    <tr>\n",
       "      <th>23427</th>\n",
       "      <td>960.900000</td>\n",
       "      <td>0.0</td>\n",
       "      <td>0.0</td>\n",
       "      <td>0.0</td>\n",
       "      <td>0.0</td>\n",
       "      <td>0.0</td>\n",
       "      <td>0.0</td>\n",
       "      <td>0.0</td>\n",
       "      <td>0.0</td>\n",
       "      <td>0.0</td>\n",
       "    </tr>\n",
       "    <tr>\n",
       "      <th>23428</th>\n",
       "      <td>960.933333</td>\n",
       "      <td>0.0</td>\n",
       "      <td>0.0</td>\n",
       "      <td>0.0</td>\n",
       "      <td>0.0</td>\n",
       "      <td>0.0</td>\n",
       "      <td>0.0</td>\n",
       "      <td>0.0</td>\n",
       "      <td>0.0</td>\n",
       "      <td>0.0</td>\n",
       "    </tr>\n",
       "    <tr>\n",
       "      <th>23429</th>\n",
       "      <td>960.966667</td>\n",
       "      <td>0.0</td>\n",
       "      <td>0.0</td>\n",
       "      <td>0.0</td>\n",
       "      <td>0.0</td>\n",
       "      <td>0.0</td>\n",
       "      <td>0.0</td>\n",
       "      <td>0.0</td>\n",
       "      <td>0.0</td>\n",
       "      <td>0.0</td>\n",
       "    </tr>\n",
       "    <tr>\n",
       "      <th>23430</th>\n",
       "      <td>961.000000</td>\n",
       "      <td>0.0</td>\n",
       "      <td>0.0</td>\n",
       "      <td>0.0</td>\n",
       "      <td>0.0</td>\n",
       "      <td>0.0</td>\n",
       "      <td>0.0</td>\n",
       "      <td>0.0</td>\n",
       "      <td>0.0</td>\n",
       "      <td>0.0</td>\n",
       "    </tr>\n",
       "  </tbody>\n",
       "</table>\n",
       "<p>23431 rows × 10 columns</p>\n",
       "</div>"
      ],
      "text/plain": [
       "       wavelength  CR210LA  CR240LA  CR300LA  CR460LA  CR570CP  CR440Y  \\\n",
       "0      180.000000      0.0      0.0      0.0      0.0      0.0     0.0   \n",
       "1      180.033333      0.0      0.0      0.0      0.0      0.0     0.0   \n",
       "2      180.066667      0.0      0.0      0.0      0.0      0.0     0.0   \n",
       "3      180.100000      0.0      0.0      0.0      0.0      0.0     0.0   \n",
       "4      180.133333      0.0      0.0      0.0      0.0      0.0     0.0   \n",
       "...           ...      ...      ...      ...      ...      ...     ...   \n",
       "23426  960.866667      0.0      0.0      0.0      0.0      0.0     0.0   \n",
       "23427  960.900000      0.0      0.0      0.0      0.0      0.0     0.0   \n",
       "23428  960.933333      0.0      0.0      0.0      0.0      0.0     0.0   \n",
       "23429  960.966667      0.0      0.0      0.0      0.0      0.0     0.0   \n",
       "23430  961.000000      0.0      0.0      0.0      0.0      0.0     0.0   \n",
       "\n",
       "       CR700Y  CR1000Y  HR660Y  \n",
       "0         0.0      0.0     0.0  \n",
       "1         0.0      0.0     0.0  \n",
       "2         0.0      0.0     0.0  \n",
       "3         0.0      0.0     0.0  \n",
       "4         0.0      0.0     0.0  \n",
       "...       ...      ...     ...  \n",
       "23426     0.0      0.0     0.0  \n",
       "23427     0.0      0.0     0.0  \n",
       "23428     0.0      0.0     0.0  \n",
       "23429     0.0      0.0     0.0  \n",
       "23430     0.0      0.0     0.0  \n",
       "\n",
       "[23431 rows x 10 columns]"
      ]
     },
     "execution_count": 3,
     "metadata": {},
     "output_type": "execute_result"
    }
   ],
   "source": [
    "spectra_data = pd.read_csv(r'Spectra Data.csv', skiprows=0)\n",
    "spectra_data"
   ]
  },
  {
   "cell_type": "markdown",
   "id": "7756f741-4fa2-42ed-9f2c-7f9d9738feeb",
   "metadata": {},
   "source": [
    "In the data above , we see 'spectra_data' has lot of information contained in itself , in column 1 - Wavelength , and from column 2 to column 10 , we see Intensities of different material samples. \n",
    "\n",
    "-------------------------------------------------------------------------------------------------------\n",
    "Now , In my alogrithm i choosed to interact with one material sample at a time. if.. else loop is used by me to choose between different material samples\n",
    "\n",
    "---------------------------------------------------------------------------------------------------------------------\n",
    "In the first line (sample = 'CR210LA') , here in '' , type any material sample of your choice , which you choose to interact with, here in a variable called as 'sample' , has a stored string value 'CR210LA'\n",
    "\n",
    "---------------------------------------------------------------------------------------------------------------------------\n",
    "# Now I will explain one condition in detail: \n",
    "\n",
    "if sample =='CR210LA': \n",
    "    Raw_Sample_Spectra = spectra_data.filter(['wavelength','CR210LA'],axis=1)\n",
    "    Sample_Spectra = Raw_Sample_Spectra.rename({'CR210LA':'Intensities'},axis=1)\n",
    "    plt.plot(spectra_data.wavelength,spectra_data.CR210LA)\n",
    "    \n",
    "----------------------------------------------------------------------------------------------------------------------------\n",
    "In line [3] Now , Here i am comparing the string value stored in sample , with a fixed string 'CR210LA' , if this condition is true , the code intended after the line will execute and then it will exit the loop, if the condition is false , it will check the next elif statement , until the condition is true. \n",
    "If , for some situation , no condition is true , it will execute , whatever is written in the else statement.\n",
    "\n",
    "In line [3],Now , since , 'spectra_data' has a lot of information , and i just want to interact with the material sample of choice , its essentially to filter out the content , which we dont want (eg: other material sample intensities.)\n",
    "\n",
    "In line [3],From the spectra_data variable , i am selecting just the content of the column 1 - wavelength and content of column 2 - CR210LA , and i am storing this data in new variable 'Raw_Sample_Spectra'. \n",
    "\n",
    "Now , From  this variable of 'Raw_Sample_Sepctra' , has two columns , Column 1 - Wavelength and Column 2 - CR210LA , Similarly as per different value in variable 'sample' , Column 2 will have different will have different name like CR240LA , CR1000Y , HR660Y etc. \n",
    "\n",
    "Now , a better idea would be to rename this columns to name to such as like \"Intensities\" , so that it would be easier for us to interact with.\n",
    "\n",
    "In line [3],This is what exactly is done , and the data with column name 'Wavelength' and 'Intensities' are stored in variable 'Sample_Spectra'\n",
    "\n",
    "In line [3],plt.plot(spectra_data.wavelength,spectra_data.CR210LA) -> This will create a line plot , with x axis = wavelngth and Y axis = Intensities.\n"
   ]
  },
  {
   "cell_type": "code",
   "execution_count": 4,
   "id": "3ff93e69-f92a-48f1-8631-3b8b1cc20a12",
   "metadata": {},
   "outputs": [
    {
     "name": "stdout",
     "output_type": "stream",
     "text": [
      "       wavelength  Intensities\n",
      "0      180.000000          0.0\n",
      "1      180.033333          0.0\n",
      "2      180.066667          0.0\n",
      "3      180.100000          0.0\n",
      "4      180.133333          0.0\n",
      "...           ...          ...\n",
      "23426  960.866667          0.0\n",
      "23427  960.900000          0.0\n",
      "23428  960.933333          0.0\n",
      "23429  960.966667          0.0\n",
      "23430  961.000000          0.0\n",
      "\n",
      "[23431 rows x 2 columns]\n"
     ]
    },
    {
     "data": {
      "image/png": "[encoded data removed]",
      "text/plain": [
       "<Figure size 640x480 with 1 Axes>"
      ]
     },
     "metadata": {},
     "output_type": "display_data"
    }
   ],
   "source": [
    "sample = 'CR210LA' # ENTER YOUR SAMPLE OF CHOICE\n",
    "if sample =='CR210LA':\n",
    "    Raw_Sample_Spectra = spectra_data.filter(['wavelength','CR210LA'],axis=1)\n",
    "    Sample_Spectra = Raw_Sample_Spectra.rename({'CR210LA':'Intensities'},axis=1)\n",
    "    plt.plot(spectra_data.wavelength,spectra_data.CR210LA)\n",
    "elif sample =='CR240LA':\n",
    "    Raw_Sample_Spectra = spectra_data.filter(['wavelength','CR240LA'],axis=1)\n",
    "    Sample_Spectra = Raw_Sample_Spectra.rename({'CR240LA':'Intensities'},axis=1)\n",
    "    plt.plot(spectra_data.wavelength,spectra_data.CR240LA)\n",
    "elif sample =='CR300LA':\n",
    "    Raw_Sample_Spectra = spectra_data.filter(['wavelength','CR300LA'],axis=1)\n",
    "    Sample_Spectra = Raw_Sample_Spectra.rename({'CR300LA':'Intensities'},axis=1)\n",
    "    plt.plot(spectra_data.wavelength,spectra_data.CR300LA)\n",
    "elif sample =='CR460LA':\n",
    "    Raw_Sample_Spectra = spectra_data.filter(['wavelength','CR460LA'],axis=1)\n",
    "    Sample_Spectra = Raw_Sample_Spectra.rename({'CR460LA':'Intensities'},axis=1)\n",
    "    plt.plot(spectra_data.wavelength,spectra_data.CR460LA)\n",
    "elif sample =='CR570CP':\n",
    "    Raw_Sample_Spectra = spectra_data.filter(['wavelength','CR570CP'],axis=1)\n",
    "    Sample_Spectra = Raw_Sample_Spectra.rename({'CR570CP':'Intensities'},axis=1)\n",
    "    plt.plot(spectra_data.wavelength,spectra_data.CR570CP)\n",
    "elif sample =='CR440Y':\n",
    "    Raw_Sample_Spectra = spectra_data.filter(['wavelength','CR440Y'],axis=1)\n",
    "    Sample_Spectra = Raw_Sample_Spectra.rename({'CR440Y':'Intensities'},axis=1)\n",
    "    plt.plot(spectra_data.wavelength,spectra_data.CR440Y)\n",
    "elif sample =='CR700Y':\n",
    "    Raw_Sample_Spectra = spectra_data.filter(['wavelength','CR700Y'],axis=1)\n",
    "    Sample_Spectra = Raw_Sample_Spectra.rename({'CR700Y':'Intensities'},axis=1)\n",
    "    plt.plot(spectra_data.wavelength,spectra_data.CR700Y)\n",
    "elif sample =='CR1000Y':\n",
    "    Raw_Sample_Spectra = spectra_data.filter(['wavelength','CR1000Y'],axis=1)\n",
    "    Sample_Spectra = Raw_Sample_Spectra.rename({'CR1000Y':'Intensities'},axis=1)\n",
    "    plt.plot(spectra_data.wavelength,spectra_data.CR1000Y)\n",
    "elif sample =='HR660Y':\n",
    "    Raw_Sample_Spectra = spectra_data.filter(['wavelength','HR660Y'],axis=1)\n",
    "    Sample_Spectra = Raw_Sample_Spectra.rename({'HR660Y':'Intensities'},axis=1)\n",
    "    plt.plot(spectra_data.wavelength,spectra_data.HR660Y)\n",
    "elif sample == '':\n",
    "    print(\"Please Enter Sample\")\n",
    "else:\n",
    "    print (\"Invalid Element Sample\")\n",
    "\n",
    "print(Sample_Spectra)\n",
    "plt.show()\n"
   ]
  },
  {
   "cell_type": "markdown",
   "id": "ac899085-cede-49e5-9eaa-e29e6f5f69d3",
   "metadata": {
    "editable": true,
    "slideshow": {
     "slide_type": ""
    },
    "tags": []
   },
   "source": [
    "Now , as we see in the figure avove , the spectral information of  'CR201LA' , may have different element composition , like Fe , Al ,Cr , Cu.  \n",
    "\n",
    "My Goal of this tutorial is to identify the Peaks for the element like Al, Cr , Cu , Fe , Mn , Mo , Ni , Si from the above spectral information. \n",
    "Ofcourse , Quantitative analysis would be difficult , but we can try to do Qualitative analysis.\n",
    "\n",
    "In line [4] , Here, Also i will , try to focus on one element at a time thats why , i have used if..elif..else statement. \n",
    "\n",
    "Now , i have visited the https://physics.nist.gov/PhysRefData/ASD/LIBS/libs-form.html  , website one of the best LIBS database to get information on element spectra. \n",
    "\n",
    "I have searched the spectra of each element , from the website and the Spectra Information of the elemnt is stored in /NIST/ folder in the directory in their specific .csv format , example: Al.csv will have all the spectral information for Aluminium \n",
    "\n"
   ]
  },
  {
   "cell_type": "code",
   "execution_count": 5,
   "id": "dc059679-4d8e-4852-8196-4d5d2b9110e9",
   "metadata": {
    "editable": true,
    "slideshow": {
     "slide_type": ""
    },
    "tags": []
   },
   "outputs": [
    {
     "name": "stdout",
     "output_type": "stream",
     "text": [
      "      Wavelength       Spectra\n",
      "0         173.39  2.520000e-10\n",
      "1         173.44  7.540000e-09\n",
      "2         173.48  1.020000e-07\n",
      "3         173.52  1.240000e-06\n",
      "4         173.56  1.350000e-05\n",
      "...          ...           ...\n",
      "7934      832.53  9.880000e-10\n",
      "7935      832.57  5.650000e-10\n",
      "7936      832.62  2.790000e-10\n",
      "7937      832.66  1.580000e-10\n",
      "7938      832.70  8.880000e-11\n",
      "\n",
      "[7939 rows x 2 columns]\n"
     ]
    },
    {
     "data": {
      "image/png": "[encoded data removed]",
      "text/plain": [
       "<Figure size 640x480 with 1 Axes>"
      ]
     },
     "metadata": {},
     "output_type": "display_data"
    }
   ],
   "source": [
    "element = 'Cu' # ENTER YOUR ELEMENT OF \n",
    "\n",
    "if element =='Al':\n",
    "    Reference_Spectra = pd.read_csv(r\"NIST/Al.csv\" ,encoding = 'windows - 1252')\n",
    "  \n",
    "elif element =='Cr':\n",
    "    Reference_Spectra = pd.read_csv(r\"NIST/Cr.csv\" , encoding = 'windows - 1252')\n",
    "    \n",
    "elif element =='Cu':\n",
    "    Reference_Spectra = pd.read_csv(r\"NIST/Cu.csv\" , encoding = 'windows - 1252')\n",
    "    \n",
    "elif element =='Fe':\n",
    "    Reference_Spectra = pd.read_csv(r\"NIST/Fe.csv\" , encoding = 'windows - 1252')\n",
    "    \n",
    "elif element =='Mn':\n",
    "    Reference_Spectra = pd.read_csv(r\"NIST/Mn.csv\" , encoding = 'windows - 1252')\n",
    "    \n",
    "elif element =='Mo':\n",
    "    Reference_Spectra = pd.read_csv(r\"NIST/Mo.csv\" , encoding = 'windows - 1252')\n",
    "    \n",
    "elif element =='Ni':\n",
    "    Reference_Spectra = pd.read_csv(r\"NIST/Ni.csv\" , encoding = 'windows - 1252')\n",
    "    \n",
    "elif element =='Si':\n",
    "    Reference_Spectra = pd.read_csv(r\"NIST/Si.csv\" , encoding = 'windows - 1252')\n",
    "\n",
    "\n",
    "    \n",
    "elif element == '':\n",
    "    print(\"Please Enter Element\")\n",
    "    \n",
    "else:\n",
    "    print (\"Invalid Element Entered\")\n",
    "\n",
    "print(Reference_Spectra)\n",
    "plt.plot(Reference_Spectra.Wavelength , Reference_Spectra.Spectra)\n",
    "plt.show()"
   ]
  },
  {
   "cell_type": "markdown",
   "id": "1292293e-ab6a-4745-b570-e7496c5f0c4b",
   "metadata": {},
   "source": [
    "# 1:- APPROACH FOR PEAK DETECTION (Peak_Util library)"
   ]
  },
  {
   "cell_type": "markdown",
   "id": "be7ce344-2499-4558-a5a3-2a50e7a7315a",
   "metadata": {},
   "source": [
    "Now, uptil now , we have selected the Material Sample ,which we want to Interact with and the data is stored in variable \"Sample_Spectra\"\n",
    "Also , we have choosen the element , which we want to detect in this 'Sample_Spectra' , and the spectral information for that element is stored in variable \"Reference_Spectra\" \n",
    "\n",
    "Now , from this 'Reference_Spectra' , Let's try to get all the Peaks this Spectra has\n",
    "\n",
    "I have used a library called as Peak_Utils \n",
    "\n",
    "https://peakutils.readthedocs.io/en/latest/reference.html\n",
    "\n",
    "The detail of the function is given below. \n",
    "\n",
    "---------------------------------------------------------------------------------------------------------------------------"
   ]
  },
  {
   "cell_type": "markdown",
   "id": "b8c65c23-0f57-40e0-a703-8978c7b52b1f",
   "metadata": {},
   "source": [
    "---------------------------------------------------------------------------------------------------------------------------\n",
    "peakutils.peak.indexes(y, thres=0.3, min_dist=1, thres_abs=False)\n",
    "\n",
    "Finds the numeric index of the peaks in y by taking its first-order difference. By using thres and min_dist parameters, it is possible to reduce the number of detected peaks. y must be signed.\n",
    "\n",
    "Parameters:\t\n",
    "\n",
    "y (ndarray (signed)) – 1D amplitude data to search for peaks.\n",
    "\n",
    "thres (float between [0., 1.]) – Normalized threshold. Only the peaks with an amplitude higher than the threshold will be detected. Percentage as compared to the highest peak, Everything above the \"thres\" value will be detected\n",
    "\n",
    "min_dist (int) – Minimum distance between each detected peak. The peak with the highest amplitude is preferred to satisfy this constraint.\n",
    "\n",
    "Returns:\t\n",
    "An array containing the numeric indexes of the peaks that were detected. When using with Pandas DataFrames, iloc should be used to access the values at the returned positions.\n",
    "\n",
    "----------------------------------------------------------------------------------------------------------------------------\n"
   ]
  },
  {
   "cell_type": "markdown",
   "id": "3cfc1ac2-cdb5-4fea-b968-b4a32be155c8",
   "metadata": {},
   "source": [
    "NOTE :- Now if we keep the minimum_distance_1 = 0 and threshold_1 = 0 , we get all the peaks in the spectra , Tuning of these parameter are most important as per your signal.\n",
    "\n",
    "Setting the value in parameter 'minimum_distance_1' , will allows to skip the peaks , which are very close to each other. \n",
    "Setting the value in parameter 'threshold_1', will allows to skip the peaks with low intensity and also seperate the Peaks , with that of noise signal. \n",
    "\n",
    "So , its important to choose the value's as per your convenience \n",
    "\n",
    "----------------------------------------------------------------------------------------------------------------------------"
   ]
  },
  {
   "cell_type": "code",
   "execution_count": 35,
   "id": "ef8e082c-14c2-4d24-85fe-62a1b7b66ffb",
   "metadata": {
    "scrolled": true
   },
   "outputs": [
    {
     "data": {
      "text/plain": [
       "array([ 136,  183,  244,  271,  288,  315,  433,  450,  479,  507,  538,\n",
       "        610,  640,  684,  702,  728,  761,  771, 1020, 2018, 2081])"
      ]
     },
     "execution_count": 35,
     "metadata": {},
     "output_type": "execute_result"
    }
   ],
   "source": [
    "minimum_distance_1 = 0  #Since , the Spectral Resolution of the Handheld LIBS Device is much smaller , We can keep this parameter as 0\n",
    "threshold_1 = 0.05 #looking for a value above 0.5% , so that Noise and  Peak with very low Intensities can be ignored \n",
    "\n",
    "Reference_Peak = indexes(Reference_Spectra.Spectra , min_dist=minimum_distance_1 , thres=threshold_1) \n",
    "Reference_Peak #Return the indices in the form of the list"
   ]
  },
  {
   "cell_type": "code",
   "execution_count": 36,
   "id": "894d8bc8-4be1-4c84-b037-d8ecf80d8aba",
   "metadata": {},
   "outputs": [
    {
     "data": {
      "text/html": [
       "<div>\n",
       "<style scoped>\n",
       "    .dataframe tbody tr th:only-of-type {\n",
       "        vertical-align: middle;\n",
       "    }\n",
       "\n",
       "    .dataframe tbody tr th {\n",
       "        vertical-align: top;\n",
       "    }\n",
       "\n",
       "    .dataframe thead th {\n",
       "        text-align: right;\n",
       "    }\n",
       "</style>\n",
       "<table border=\"1\" class=\"dataframe\">\n",
       "  <thead>\n",
       "    <tr style=\"text-align: right;\">\n",
       "      <th></th>\n",
       "      <th>Wavelength</th>\n",
       "      <th>Spectra</th>\n",
       "    </tr>\n",
       "  </thead>\n",
       "  <tbody>\n",
       "    <tr>\n",
       "      <th>136</th>\n",
       "      <td>197.98</td>\n",
       "      <td>3.310000e+09</td>\n",
       "    </tr>\n",
       "    <tr>\n",
       "      <th>183</th>\n",
       "      <td>199.96</td>\n",
       "      <td>1.220000e+10</td>\n",
       "    </tr>\n",
       "    <tr>\n",
       "      <th>244</th>\n",
       "      <td>202.52</td>\n",
       "      <td>2.460000e+09</td>\n",
       "    </tr>\n",
       "    <tr>\n",
       "      <th>271</th>\n",
       "      <td>203.66</td>\n",
       "      <td>1.380000e+10</td>\n",
       "    </tr>\n",
       "    <tr>\n",
       "      <th>288</th>\n",
       "      <td>204.38</td>\n",
       "      <td>8.880000e+09</td>\n",
       "    </tr>\n",
       "    <tr>\n",
       "      <th>315</th>\n",
       "      <td>205.51</td>\n",
       "      <td>6.740000e+09</td>\n",
       "    </tr>\n",
       "    <tr>\n",
       "      <th>433</th>\n",
       "      <td>210.48</td>\n",
       "      <td>2.990000e+09</td>\n",
       "    </tr>\n",
       "    <tr>\n",
       "      <th>450</th>\n",
       "      <td>211.20</td>\n",
       "      <td>6.240000e+09</td>\n",
       "    </tr>\n",
       "    <tr>\n",
       "      <th>479</th>\n",
       "      <td>212.42</td>\n",
       "      <td>8.100000e+09</td>\n",
       "    </tr>\n",
       "    <tr>\n",
       "      <th>507</th>\n",
       "      <td>213.59</td>\n",
       "      <td>4.400000e+10</td>\n",
       "    </tr>\n",
       "    <tr>\n",
       "      <th>538</th>\n",
       "      <td>214.90</td>\n",
       "      <td>6.730000e+09</td>\n",
       "    </tr>\n",
       "    <tr>\n",
       "      <th>610</th>\n",
       "      <td>217.93</td>\n",
       "      <td>1.220000e+10</td>\n",
       "    </tr>\n",
       "    <tr>\n",
       "      <th>640</th>\n",
       "      <td>219.19</td>\n",
       "      <td>2.150000e+10</td>\n",
       "    </tr>\n",
       "    <tr>\n",
       "      <th>684</th>\n",
       "      <td>221.05</td>\n",
       "      <td>5.390000e+09</td>\n",
       "    </tr>\n",
       "    <tr>\n",
       "      <th>702</th>\n",
       "      <td>221.80</td>\n",
       "      <td>1.150000e+10</td>\n",
       "    </tr>\n",
       "    <tr>\n",
       "      <th>728</th>\n",
       "      <td>222.90</td>\n",
       "      <td>3.870000e+09</td>\n",
       "    </tr>\n",
       "    <tr>\n",
       "      <th>761</th>\n",
       "      <td>224.29</td>\n",
       "      <td>1.360000e+10</td>\n",
       "    </tr>\n",
       "    <tr>\n",
       "      <th>771</th>\n",
       "      <td>224.71</td>\n",
       "      <td>2.130000e+10</td>\n",
       "    </tr>\n",
       "    <tr>\n",
       "      <th>1020</th>\n",
       "      <td>237.00</td>\n",
       "      <td>3.310000e+09</td>\n",
       "    </tr>\n",
       "    <tr>\n",
       "      <th>2018</th>\n",
       "      <td>324.73</td>\n",
       "      <td>1.060000e+10</td>\n",
       "    </tr>\n",
       "    <tr>\n",
       "      <th>2081</th>\n",
       "      <td>327.38</td>\n",
       "      <td>5.300000e+09</td>\n",
       "    </tr>\n",
       "  </tbody>\n",
       "</table>\n",
       "</div>"
      ],
      "text/plain": [
       "      Wavelength       Spectra\n",
       "136       197.98  3.310000e+09\n",
       "183       199.96  1.220000e+10\n",
       "244       202.52  2.460000e+09\n",
       "271       203.66  1.380000e+10\n",
       "288       204.38  8.880000e+09\n",
       "315       205.51  6.740000e+09\n",
       "433       210.48  2.990000e+09\n",
       "450       211.20  6.240000e+09\n",
       "479       212.42  8.100000e+09\n",
       "507       213.59  4.400000e+10\n",
       "538       214.90  6.730000e+09\n",
       "610       217.93  1.220000e+10\n",
       "640       219.19  2.150000e+10\n",
       "684       221.05  5.390000e+09\n",
       "702       221.80  1.150000e+10\n",
       "728       222.90  3.870000e+09\n",
       "761       224.29  1.360000e+10\n",
       "771       224.71  2.130000e+10\n",
       "1020      237.00  3.310000e+09\n",
       "2018      324.73  1.060000e+10\n",
       "2081      327.38  5.300000e+09"
      ]
     },
     "execution_count": 36,
     "metadata": {},
     "output_type": "execute_result"
    }
   ],
   "source": [
    "Selected_Reference_Spectra = Reference_Spectra.iloc[Reference_Peak] #from the indices , lets try to find the Wavelength and Spectra. \n",
    "\n",
    "Selected_Reference_Spectra\n"
   ]
  },
  {
   "cell_type": "markdown",
   "id": "fe947ffc-aed5-4136-9c02-131443ed2f32",
   "metadata": {},
   "source": [
    "# Here , I am trying to plot the detected Peaks\n",
    "\n",
    "I Have plotted the 'Line Plot' for the Reference_Spectra , from the matplotlib library. \n",
    "\n",
    "And , I have also plotted a 'scatter plot' for the Refrecence_Peak  , from the matplotlib\n"
   ]
  },
  {
   "cell_type": "code",
   "execution_count": 37,
   "id": "b72fdfd2-19f7-45dc-9391-fce4a9a8e318",
   "metadata": {
    "scrolled": true
   },
   "outputs": [
    {
     "data": {
      "text/plain": [
       "<matplotlib.collections.PathCollection at 0x125ca1310>"
      ]
     },
     "execution_count": 37,
     "metadata": {},
     "output_type": "execute_result"
    },
    {
     "data": {
      "image/png": "[encoded data removed]",
      "text/plain": [
       "<Figure size 640x480 with 1 Axes>"
      ]
     },
     "metadata": {},
     "output_type": "display_data"
    }
   ],
   "source": [
    "plt.plot(Reference_Spectra.Wavelength,Reference_Spectra.Spectra) #plot a nomral ,x ,y plot)\n",
    "plt.scatter(Selected_Reference_Spectra.Wavelength,Selected_Reference_Spectra.Spectra)"
   ]
  },
  {
   "cell_type": "markdown",
   "id": "9908c10c-ed35-4883-9e1f-4aba73775d7c",
   "metadata": {},
   "source": [
    "# Now , lets try to create an list , lets fill the list , with all the detected peaks wavelengths. "
   ]
  },
  {
   "cell_type": "code",
   "execution_count": 38,
   "id": "35d58bb0-090b-41fb-bbd6-7ffe0e968985",
   "metadata": {},
   "outputs": [
    {
     "name": "stdout",
     "output_type": "stream",
     "text": [
      "[197.98, 199.96, 202.52, 203.66, 204.38, 205.51, 210.48, 211.2, 212.42, 213.59, 214.9, 217.93, 219.19, 221.05, 221.8, 222.9, 224.29, 224.71, 237.0, 324.73, 327.38]\n"
     ]
    }
   ],
   "source": [
    "\n",
    "Refernce_Spectra_Wavelength = Reference_Spectra.iloc[Reference_Peak]\n",
    "Reference_Spectra_List = []\n",
    "\n",
    "for iteam in Refernce_Spectra_Wavelength.Wavelength:\n",
    "    iteam = float(iteam)\n",
    "    if iteam > 188.0:        #Only those iteam will be selected , whose wavelength would be greater than 188 nm ,  as our Handheld LIBS range starts from 188nm\n",
    "        Reference_Spectra_List.append(iteam)\n",
    "    \n",
    "print(Reference_Spectra_List)\n",
    "Length_Reference_Spectra_List = (len(Reference_Spectra_List))   #Used for Calculating Percentage Detection"
   ]
  },
  {
   "cell_type": "markdown",
   "id": "54ed8819-b495-4457-a9b1-94aa35fd5256",
   "metadata": {},
   "source": [
    "Now , we have a list of all wavelengths , detected for Peaks in Reference Spectra , Now for each element lets try to create a min and max of each element in the list. \n",
    "\n",
    "'Reference_Spectra_Min_Max' is list consisting of a sublist , the sublist have a min and max value or a range of element in the list.\n",
    "\n",
    "Now , for the two wavelengths , to exactly match with each other , is going to be difficult because of the spectral resultion of the sensor, It's always better , to find a span or range for wavelength , and to look for peak in that span or range, which would give us more probability in detecting a peak. \n",
    "\n",
    "Eg : - A peak of 199.06 nm can be found in between [ 199.04  and 199.08] , this gives us more room to find a wavelength \n",
    "\n",
    "-------------------------------------------------------------------------------------------------------------------------------"
   ]
  },
  {
   "cell_type": "markdown",
   "id": "78d2b627-da86-4c3d-8f2f-eb310ed707c6",
   "metadata": {},
   "source": [
    "# 0.0333 is the sprectral resolution of the Handheld LIBS Device\n",
    "\n",
    "Now , the Spectral Resolution of Data from NIST Website is 0.3 ,while the Spectral Resolution od Handheld LIBS Device is 0.03. \n",
    "\n",
    "So , I am creating a range , in Reference Spectrum , of where the Signal might be expected , for the Handheld LIBS Device.\n"
   ]
  },
  {
   "cell_type": "code",
   "execution_count": 39,
   "id": "c9c9d819-9514-44f7-87ce-c4a3a14e3d2d",
   "metadata": {},
   "outputs": [
    {
     "name": "stdout",
     "output_type": "stream",
     "text": [
      "[[197.9467, 198.0133], [199.9267, 199.9933], [202.4867, 202.5533], [203.6267, 203.6933], [204.3467, 204.4133], [205.4767, 205.5433], [210.4467, 210.5133], [211.1667, 211.23329999999999], [212.3867, 212.45329999999998], [213.5567, 213.6233], [214.8667, 214.9333], [217.8967, 217.9633], [219.1567, 219.2233], [221.01670000000001, 221.0833], [221.76670000000001, 221.8333], [222.8667, 222.9333], [224.2567, 224.3233], [224.6767, 224.7433], [236.9667, 237.0333], [324.6967, 324.7633], [327.3467, 327.4133]]\n"
     ]
    }
   ],
   "source": [
    "Reference_Spectra_Min_Max = []\n",
    "\n",
    "Reference_Spectra_Min_Max = [[num - 0.0333 , num + 0.0333] for num in Reference_Spectra_List]     \n",
    "    \n",
    "print(Reference_Spectra_Min_Max)"
   ]
  },
  {
   "cell_type": "markdown",
   "id": "bc01fe11-37cb-41c4-95b3-e65834817766",
   "metadata": {},
   "source": [
    "Once we have got the range for the Reference Spectra , where the Element  Spectra can be expected. Now let's try to find all the peak of the 'Sample_Spectra' , Here also tuning of the paramters are important as [er you analysis\n",
    "-------------------------------------------------------------------------------------------------------------------------------"
   ]
  },
  {
   "cell_type": "code",
   "execution_count": 40,
   "id": "0f9cdede-da9f-440a-9ba3-46fbb74ac646",
   "metadata": {},
   "outputs": [
    {
     "data": {
      "text/plain": [
       "array([  393,   399,   409,   571,   614,   624,   632,   678,   714,\n",
       "         723,   734,   746,   760,   766,   787,   793,   811,   821,\n",
       "         829,   837,   846,   861,   884,   891,   900,   908,   920,\n",
       "         933,   944,   950,   956,   973,   979,   993,  1016,  1057,\n",
       "        1064,  1079,  1093,  1103,  1112,  1122,  1134,  1146,  1152,\n",
       "        1162,  1175,  1188,  1194,  1205,  1211,  1229,  1248,  1258,\n",
       "        1274,  1289,  1302,  1312,  1326,  1340,  1356,  1366,  1374,\n",
       "        1390,  1396,  1407,  1415,  1421,  1428,  1438,  1445,  1453,\n",
       "        1463,  1471,  1477,  1494,  1507,  1514,  1523,  1530,  1537,\n",
       "        1551,  1558,  1565,  1573,  1581,  1591,  1598,  1605,  1613,\n",
       "        1622,  1630,  1644,  1652,  1661,  1670,  1679,  1694,  1701,\n",
       "        1707,  1720,  1736,  1746,  1752,  1759,  1765,  1771,  1778,\n",
       "        1786,  1796,  1805,  1813,  1832,  1840,  1857,  1871,  1880,\n",
       "        1889,  1896,  1904,  1917,  1926,  1934,  1949,  1962,  1970,\n",
       "        1977,  1986,  1995,  2011,  2018,  2027,  2035,  2042,  2049,\n",
       "        2064,  2071,  2079,  2089,  2099,  2106,  2119,  2133,  2141,\n",
       "        2147,  2170,  2185,  2201,  2215,  2227,  2237,  2246,  2254,\n",
       "        2266,  2273,  2297,  2303,  2325,  2338,  2347,  2357,  2363,\n",
       "        2372,  2380,  2398,  2409,  2415,  2426,  2434,  2441,  2452,\n",
       "        2463,  2476,  2484,  2493,  2500,  2511,  2557,  2581,  2612,\n",
       "        2653,  2738,  2756,  2782,  2801,  2811,  2818,  2828,  2839,\n",
       "        2847,  2858,  2869,  2884,  2912,  2961,  2973,  2986,  3002,\n",
       "        3048,  3073,  3156,  3244,  3655,  3708,  3771,  3809,  3817,\n",
       "        3827,  3835,  3846,  3864,  3871,  3878,  4077,  4138,  4302,\n",
       "        4310,  4317,  4325,  4369,  4375,  4384,  4446,  4467,  4507,\n",
       "        4562,  4568,  4582,  4589,  4636,  4683,  4718,  5654,  5718,\n",
       "        5759,  5810,  5835,  5847,  5876,  6046,  6061,  6076,  6099,\n",
       "        6113,  6121,  6139,  6150,  6165,  6180,  6198,  6213,  6235,\n",
       "        6247,  6260,  6301,  6340,  6360,  6370,  6380,  6388,  6401,\n",
       "        6412,  6421,  6432,  6460,  6472,  6485,  6494,  6505,  6516,\n",
       "        6524,  6544,  6568,  6582,  6594,  6615,  6698,  6736,  6773,\n",
       "        6790,  6814,  6834,  6847,  6876,  6883,  6898,  6910,  6918,\n",
       "        6929,  6940,  6955,  6966,  6975,  6982,  6996,  7004,  7014,\n",
       "        7031,  7045,  7053,  7063,  7078,  7115,  7123,  7136,  7147,\n",
       "        7158,  7174,  7203,  7230,  7237,  7247,  7270,  7280,  7289,\n",
       "        7362,  7381,  7400,  7415,  7448,  7468,  7508,  7524,  7556,\n",
       "        7578,  7603,  7622,  7643,  7750,  7814,  7877,  7890,  7906,\n",
       "        7964,  8036,  8045,  8078,  8095,  8104,  8120,  8134,  8143,\n",
       "        8155,  8168,  8180,  8201,  8217,  8234,  8248,  8261,  8280,\n",
       "        8290,  8317,  8335,  8344,  8357,  8369,  8380,  8390,  8404,\n",
       "        8412,  8422,  8439,  8450,  8470,  8480,  8492,  8543,  8571,\n",
       "        8579,  8592,  8604,  8615,  8621,  8630,  8641,  8679,  8696,\n",
       "        8715,  8741,  8748,  8768,  8844,  8853,  8877,  8883,  8913,\n",
       "        8935,  8963,  8975,  8983,  9002,  9008,  9035,  9120,  9143,\n",
       "        9153,  9185,  9210,  9237,  9263,  9272,  9287,  9338,  9375,\n",
       "        9430,  9438,  9449,  9462,  9473,  9494,  9505,  9512,  9519,\n",
       "        9528,  9535,  9544,  9555,  9573,  9598,  9620,  9641,  9985,\n",
       "       10054, 10061, 10077, 10092, 10103, 10118, 10137, 10147, 10164,\n",
       "       10176, 10214, 10227, 10385, 10395, 10410, 10583, 10649, 10684,\n",
       "       10713, 10741, 10750, 10799, 10811, 10821, 10829, 10843, 10851,\n",
       "       10866, 10872, 10889, 10909, 10920, 10936, 10942, 10955, 10966,\n",
       "       10982, 10991, 10999, 11006, 11020, 11032, 11043, 11050, 11064,\n",
       "       11072, 11080, 11097, 11119, 11132, 11142, 11154, 11169, 11180,\n",
       "       11191, 11205, 11211, 11219, 11229, 11238, 11249, 11259, 11267,\n",
       "       11277, 11285, 11293, 11310, 11318, 11327, 11345, 11355, 11365,\n",
       "       11383, 11394, 11405, 11421, 11446, 11459, 11473, 11485, 11496,\n",
       "       11503, 11557, 12258, 12270, 12287, 12666, 12684, 12692, 12699,\n",
       "       12705, 12711, 12725, 12816, 12909, 12966, 13034, 13055, 13093,\n",
       "       13157, 13200, 13213, 13227, 13242, 13277, 13311, 13337, 13360,\n",
       "       13377, 13402, 13416, 13438, 13452, 13462, 13474, 13485, 13500,\n",
       "       13523, 13534, 13550, 13563, 13581, 13663, 13687, 13811, 13835,\n",
       "       13852, 13886, 13917, 13931, 13947, 13969, 13987, 14002, 14012,\n",
       "       14052, 14063, 14081, 14099, 14118, 14153, 14166, 14288, 14414,\n",
       "       14434, 14514, 14528, 14539, 14556, 14568, 14581, 14591, 14602,\n",
       "       14617, 14632, 14651, 14671, 14685, 14696, 14707, 14720, 14752,\n",
       "       14770, 14783, 14818, 14831, 14860, 14923, 14940, 14952, 14963,\n",
       "       14979, 15003, 15016, 15030, 15046, 15057, 15085, 15110, 15135,\n",
       "       15150, 15166, 15215, 15260, 15291, 15314, 15338, 15387, 15414,\n",
       "       15468, 15481, 15495, 15571, 15585, 15602, 15631, 15644, 15661,\n",
       "       15672, 15696, 15712, 15723, 15770, 15785, 15802, 15815, 15870,\n",
       "       15900, 15919, 15933, 15955, 15967, 15980, 15990, 16001, 16015,\n",
       "       16042, 16054, 16073, 16116, 16133, 16160, 16207, 16225, 16245,\n",
       "       16256, 16403, 16419, 16432, 16668, 16685, 16720, 16735, 16752,\n",
       "       16820, 16871, 16926, 17005, 17034, 17087, 17097, 17111, 17143,\n",
       "       17360, 17480, 17490, 17504, 17578, 17592, 17695, 17756, 17772,\n",
       "       17917, 18429, 18443, 18618, 18643, 18896, 18909, 18928, 18945,\n",
       "       19391, 19808, 19822, 19872, 19936, 20162, 20223, 20583, 20601,\n",
       "       20639, 21966, 22270, 22976])"
      ]
     },
     "execution_count": 40,
     "metadata": {},
     "output_type": "execute_result"
    }
   ],
   "source": [
    "minimum_distance_2 = 5  #Minimum distance between each detected peak. The peak with the highest amplitude is preferred to satisfy this constraint.\n",
    "threshold_2 = 0.03 #looking for a value above 10% , so that Noise and  Peak with very low Intensities can be ignored \n",
    "\n",
    "Sample_Peak = indexes(Sample_Spectra.Intensities , min_dist=minimum_distance_2 , thres=threshold_2) \n",
    "Sample_Peak #Return the indices in the form of the list\n",
    "\n"
   ]
  },
  {
   "cell_type": "code",
   "execution_count": 41,
   "id": "3f2c3cb6-ac99-450e-bc95-8c61d947a2ee",
   "metadata": {},
   "outputs": [
    {
     "data": {
      "text/html": [
       "<div>\n",
       "<style scoped>\n",
       "    .dataframe tbody tr th:only-of-type {\n",
       "        vertical-align: middle;\n",
       "    }\n",
       "\n",
       "    .dataframe tbody tr th {\n",
       "        vertical-align: top;\n",
       "    }\n",
       "\n",
       "    .dataframe thead th {\n",
       "        text-align: right;\n",
       "    }\n",
       "</style>\n",
       "<table border=\"1\" class=\"dataframe\">\n",
       "  <thead>\n",
       "    <tr style=\"text-align: right;\">\n",
       "      <th></th>\n",
       "      <th>wavelength</th>\n",
       "      <th>Intensities</th>\n",
       "    </tr>\n",
       "  </thead>\n",
       "  <tbody>\n",
       "    <tr>\n",
       "      <th>393</th>\n",
       "      <td>193.100000</td>\n",
       "      <td>3824.837849</td>\n",
       "    </tr>\n",
       "    <tr>\n",
       "      <th>399</th>\n",
       "      <td>193.300000</td>\n",
       "      <td>272.855236</td>\n",
       "    </tr>\n",
       "    <tr>\n",
       "      <th>409</th>\n",
       "      <td>193.633333</td>\n",
       "      <td>272.569002</td>\n",
       "    </tr>\n",
       "    <tr>\n",
       "      <th>571</th>\n",
       "      <td>199.033333</td>\n",
       "      <td>1071.542624</td>\n",
       "    </tr>\n",
       "    <tr>\n",
       "      <th>614</th>\n",
       "      <td>200.466667</td>\n",
       "      <td>291.579534</td>\n",
       "    </tr>\n",
       "    <tr>\n",
       "      <th>...</th>\n",
       "      <td>...</td>\n",
       "      <td>...</td>\n",
       "    </tr>\n",
       "    <tr>\n",
       "      <th>20601</th>\n",
       "      <td>866.700000</td>\n",
       "      <td>489.253531</td>\n",
       "    </tr>\n",
       "    <tr>\n",
       "      <th>20639</th>\n",
       "      <td>867.966667</td>\n",
       "      <td>295.517208</td>\n",
       "    </tr>\n",
       "    <tr>\n",
       "      <th>21966</th>\n",
       "      <td>912.200000</td>\n",
       "      <td>3043.593601</td>\n",
       "    </tr>\n",
       "    <tr>\n",
       "      <th>22270</th>\n",
       "      <td>922.333333</td>\n",
       "      <td>1081.979327</td>\n",
       "    </tr>\n",
       "    <tr>\n",
       "      <th>22976</th>\n",
       "      <td>945.866667</td>\n",
       "      <td>277.835186</td>\n",
       "    </tr>\n",
       "  </tbody>\n",
       "</table>\n",
       "<p>697 rows × 2 columns</p>\n",
       "</div>"
      ],
      "text/plain": [
       "       wavelength  Intensities\n",
       "393    193.100000  3824.837849\n",
       "399    193.300000   272.855236\n",
       "409    193.633333   272.569002\n",
       "571    199.033333  1071.542624\n",
       "614    200.466667   291.579534\n",
       "...           ...          ...\n",
       "20601  866.700000   489.253531\n",
       "20639  867.966667   295.517208\n",
       "21966  912.200000  3043.593601\n",
       "22270  922.333333  1081.979327\n",
       "22976  945.866667   277.835186\n",
       "\n",
       "[697 rows x 2 columns]"
      ]
     },
     "execution_count": 41,
     "metadata": {},
     "output_type": "execute_result"
    }
   ],
   "source": [
    "Selected_Sample_Spectra = Sample_Spectra.iloc[Sample_Peak] \n",
    "Selected_Sample_Spectra"
   ]
  },
  {
   "cell_type": "code",
   "execution_count": 42,
   "id": "31528e1b-0a0f-4d68-819e-6cb92254e312",
   "metadata": {},
   "outputs": [
    {
     "data": {
      "text/plain": [
       "<matplotlib.collections.PathCollection at 0x125d0ca10>"
      ]
     },
     "execution_count": 42,
     "metadata": {},
     "output_type": "execute_result"
    },
    {
     "data": {
      "image/png": "[encoded data removed]",
      "text/plain": [
       "<Figure size 640x480 with 1 Axes>"
      ]
     },
     "metadata": {},
     "output_type": "display_data"
    }
   ],
   "source": [
    "plt.plot(Sample_Spectra.wavelength,Sample_Spectra.Intensities) #plot a nomral ,x ,y plot)\n",
    "plt.scatter(Selected_Sample_Spectra.wavelength,Selected_Sample_Spectra.Intensities)"
   ]
  },
  {
   "cell_type": "markdown",
   "id": "b507873a-df55-41d2-9416-2e99aa8c6129",
   "metadata": {},
   "source": [
    "Now , lets try to create an list , lets fill the list , with all the detected peaks wavelengths of the sample spectra.\n",
    "\n",
    "Remember , Sample Spectra , has all the element within like Al , Fe , Cu , Mn , Mo etc)\n"
   ]
  },
  {
   "cell_type": "code",
   "execution_count": 43,
   "id": "abacd7e2-c280-4b3a-a3cd-ca3a2db77154",
   "metadata": {},
   "outputs": [
    {
     "name": "stdout",
     "output_type": "stream",
     "text": [
      "[193.1, 193.3, 193.6333333, 199.0333333, 200.4666667, 200.8, 201.0666667, 202.6, 203.8, 204.1, 204.4666667, 204.8666667, 205.3333333, 205.5333333, 206.2333333, 206.4333333, 207.0333333, 207.3666667, 207.6333333, 207.9, 208.2, 208.7, 209.4666667, 209.7, 210.0, 210.2666667, 210.6666667, 211.1, 211.4666667, 211.6666667, 211.8666667, 212.4333333, 212.6333333, 213.1, 213.8666667, 215.2333333, 215.4666667, 215.9666667, 216.4333333, 216.7666667, 217.0666667, 217.4, 217.8, 218.2, 218.4, 218.7333333, 219.1666667, 219.6, 219.8, 220.1666667, 220.3666667, 220.9666667, 221.6, 221.9333333, 222.4666667, 222.9666667, 223.4, 223.7333333, 224.2, 224.6666667, 225.2, 225.5333333, 225.8, 226.3333333, 226.5333333, 226.9, 227.1666667, 227.3666667, 227.6, 227.9333333, 228.1666667, 228.4333333, 228.7666667, 229.0333333, 229.2333333, 229.8, 230.2333333, 230.4666667, 230.7666667, 231.0, 231.2333333, 231.7, 231.9333333, 232.1666667, 232.4333333, 232.7, 233.0333333, 233.2666667, 233.5, 233.7666667, 234.0666667, 234.3333333, 234.8, 235.0666667, 235.3666667, 235.6666667, 235.9666667, 236.4666667, 236.7, 236.9, 237.3333333, 237.8666667, 238.2, 238.4, 238.6333333, 238.8333333, 239.0333333, 239.2666667, 239.5333333, 239.8666667, 240.1666667, 240.4333333, 241.0666667, 241.3333333, 241.9, 242.3666667, 242.6666667, 242.9666667, 243.2, 243.4666667, 243.9, 244.2, 244.4666667, 244.9666667, 245.4, 245.6666667, 245.9, 246.2, 246.5, 247.0333333, 247.2666667, 247.5666667, 247.8333333, 248.0666667, 248.3, 248.8, 249.0333333, 249.3, 249.6333333, 249.9666667, 250.2, 250.6333333, 251.1, 251.3666667, 251.5666667, 252.3333333, 252.8333333, 253.3666667, 253.8333333, 254.2333333, 254.5666667, 254.8666667, 255.1333333, 255.5333333, 255.7666667, 256.5666667, 256.7666667, 257.5, 257.9333333, 258.2333333, 258.5666667, 258.7666667, 259.0666667, 259.3333333, 259.9333333, 260.3, 260.5, 260.8666667, 261.1333333, 261.3666667, 261.7333333, 262.1, 262.5333333, 262.8, 263.1, 263.3333333, 263.7, 265.2333333, 266.0333333, 267.0666667, 268.4333333, 271.2666667, 271.8666667, 272.7333333, 273.3666667, 273.7, 273.9333333, 274.2666667, 274.6333333, 274.9, 275.2666667, 275.6333333, 276.1333333, 277.0666667, 278.7, 279.1, 279.5333333, 280.0666667, 281.6, 282.4333333, 285.2, 288.1333333, 301.8333333, 303.6, 305.7, 306.9666667, 307.2333333, 307.5666667, 307.8333333, 308.2, 308.8, 309.0333333, 309.2666667, 315.9, 317.9333333, 323.4, 323.6666667, 323.9, 324.1666667, 325.6333333, 325.8333333, 326.1333333, 328.2, 328.9, 330.2333333, 332.0666667, 332.2666667, 332.7333333, 332.9666667, 334.5333333, 336.1, 337.2666667, 368.4666667, 370.6, 371.9666667, 373.6666667, 374.5, 374.9, 375.8666667, 381.5333333, 382.0333333, 382.5333333, 383.3, 383.7666667, 384.0333333, 384.6333333, 385.0, 385.5, 386.0, 386.6, 387.1, 387.8333333, 388.2333333, 388.6666667, 390.0333333, 391.3333333, 392.0, 392.3333333, 392.6666667, 392.9333333, 393.3666667, 393.7333333, 394.0333333, 394.4, 395.3333333, 395.7333333, 396.1666667, 396.4666667, 396.8333333, 397.2, 397.4666667, 398.1333333, 398.9333333, 399.4, 399.8, 400.5, 403.2666667, 404.5333333, 405.7666667, 406.3333333, 407.1333333, 407.8, 408.2333333, 409.2, 409.4333333, 409.9333333, 410.3333333, 410.6, 410.9666667, 411.3333333, 411.8333333, 412.2, 412.5, 412.7333333, 413.2, 413.4666667, 413.8, 414.3666667, 414.8333333, 415.1, 415.4333333, 415.9333333, 417.1666667, 417.4333333, 417.8666667, 418.2333333, 418.6, 419.1333333, 420.1, 421.0, 421.2333333, 421.5666667, 422.3333333, 422.6666667, 422.9666667, 425.4, 426.0333333, 426.6666667, 427.1666667, 428.2666667, 428.9333333, 430.2666667, 430.8, 431.8666667, 432.6, 433.4333333, 434.0666667, 434.7666667, 438.3333333, 440.4666667, 442.5666667, 443.0, 443.5333333, 445.4666667, 447.8666667, 448.1666667, 449.2666667, 449.8333333, 450.1333333, 450.6666667, 451.1333333, 451.4333333, 451.8333333, 452.2666667, 452.6666667, 453.3666667, 453.9, 454.4666667, 454.9333333, 455.3666667, 456.0, 456.3333333, 457.2333333, 457.8333333, 458.1333333, 458.5666667, 458.9666667, 459.3333333, 459.6666667, 460.1333333, 460.4, 460.7333333, 461.3, 461.6666667, 462.3333333, 462.6666667, 463.0666667, 464.7666667, 465.7, 465.9666667, 466.4, 466.8, 467.1666667, 467.3666667, 467.6666667, 468.0333333, 469.3, 469.8666667, 470.5, 471.3666667, 471.6, 472.2666667, 474.8, 475.1, 475.9, 476.1, 477.1, 477.8333333, 478.7666667, 479.1666667, 479.4333333, 480.0666667, 480.2666667, 481.1666667, 484.0, 484.7666667, 485.1, 486.1666667, 487.0, 487.9, 488.7666667, 489.0666667, 489.5666667, 491.2666667, 492.5, 494.3333333, 494.6, 494.9666667, 495.4, 495.7666667, 496.4666667, 496.8333333, 497.0666667, 497.3, 497.6, 497.8333333, 498.1333333, 498.5, 499.1, 499.9333333, 500.6666667, 501.3666667, 512.8333333, 515.1333333, 515.3666667, 515.9, 516.4, 516.7666667, 517.2666667, 517.9, 518.2333333, 518.8, 519.2, 520.4666667, 520.9, 526.1666667, 526.5, 527.0, 532.7666667, 534.9666667, 536.1333333, 537.1, 538.0333333, 538.3333333, 539.9666667, 540.3666667, 540.7, 540.9666667, 541.4333333, 541.7, 542.2, 542.4, 542.9666667, 543.6333333, 544.0, 544.5333333, 544.7333333, 545.1666667, 545.5333333, 546.0666667, 546.3666667, 546.6333333, 546.8666667, 547.3333333, 547.7333333, 548.1, 548.3333333, 548.8, 549.0666667, 549.3333333, 549.9, 550.6333333, 551.0666667, 551.4, 551.8, 552.3, 552.6666667, 553.0333333, 553.5, 553.7, 553.9666667, 554.3, 554.6, 554.9666667, 555.3, 555.5666667, 555.9, 556.1666667, 556.4333333, 557.0, 557.2666667, 557.5666667, 558.1666667, 558.5, 558.8333333, 559.4333333, 559.8, 560.1666667, 560.7, 561.5333333, 561.9666667, 562.4333333, 562.8333333, 563.2, 563.4333333, 565.2333333, 588.6, 589.0, 589.5666667, 602.2, 602.8, 603.0666667, 603.3, 603.5, 603.7, 604.1666667, 607.2, 610.3, 612.2, 614.4666667, 615.1666667, 616.4333333, 618.5666667, 620.0, 620.4333333, 620.9, 621.4, 622.5666667, 623.7, 624.5666667, 625.3333333, 625.9, 626.7333333, 627.2, 627.9333333, 628.4, 628.7333333, 629.1333333, 629.5, 630.0, 630.7666667, 631.1333333, 631.6666667, 632.1, 632.7, 635.4333333, 636.2333333, 640.3666667, 641.1666667, 641.7333333, 642.8666667, 643.9, 644.3666667, 644.9, 645.6333333, 646.2333333, 646.7333333, 647.0666667, 648.4, 648.7666667, 649.3666667, 649.9666667, 650.6, 651.7666667, 652.2, 656.2666667, 660.4666667, 661.1333333, 663.8, 664.2666667, 664.6333333, 665.2, 665.6, 666.0333333, 666.3666667, 666.7333333, 667.2333333, 667.7333333, 668.3666667, 669.0333333, 669.5, 669.8666667, 670.2333333, 670.6666667, 671.7333333, 672.3333333, 672.7666667, 673.9333333, 674.3666667, 675.3333333, 677.4333333, 678.0, 678.4, 678.7666667, 679.3, 680.1, 680.5333333, 681.0, 681.5333333, 681.9, 682.8333333, 683.6666667, 684.5, 685.0, 685.5333333, 687.1666667, 688.6666667, 689.7, 690.4666667, 691.2666667, 692.9, 693.8, 695.6, 696.0333333, 696.5, 699.0333333, 699.5, 700.0666667, 701.0333333, 701.4666667, 702.0333333, 702.4, 703.2, 703.7333333, 704.1, 705.6666667, 706.1666667, 706.7333333, 707.1666667, 709.0, 710.0, 710.6333333, 711.1, 711.8333333, 712.2333333, 712.6666667, 713.0, 713.3666667, 713.8333333, 714.7333333, 715.1333333, 715.7666667, 717.2, 717.7666667, 718.6666667, 720.2333333, 720.8333333, 721.5, 721.8666667, 726.7666667, 727.3, 727.7333333, 735.6, 736.1666667, 737.3333333, 737.8333333, 738.4, 740.6666667, 742.3666667, 744.2, 746.8333333, 747.8, 749.5666667, 749.9, 750.3666667, 751.4333333, 758.6666667, 762.6666667, 763.0, 763.4666667, 765.9333333, 766.4, 769.8333333, 771.8666667, 772.4, 777.2333333, 794.3, 794.7666667, 800.6, 801.4333333, 809.8666667, 810.3, 810.9333333, 811.5, 826.3666667, 840.2666667, 840.7333333, 842.4, 844.5333333, 852.0666667, 854.1, 866.1, 866.7, 867.9666667, 912.2, 922.3333333, 945.8666667]\n"
     ]
    }
   ],
   "source": [
    "Sample_Spectra_Wavelength = Sample_Spectra.iloc[Sample_Peak]\n",
    "\n",
    "Sample_Spectra_List = []\n",
    "\n",
    "for iteam in Sample_Spectra_Wavelength.wavelength:\n",
    "    iteam = float(iteam)\n",
    "    Sample_Spectra_List.append(iteam)\n",
    "    \n",
    "print(Sample_Spectra_List)\n"
   ]
  },
  {
   "cell_type": "markdown",
   "id": "0ed2b4a2-0e2e-4e9b-a1f1-ab44c45d38e3",
   "metadata": {},
   "source": [
    "# So far so now , i have two list with me \n",
    "\n",
    "1) Sample_Spectra_List = Containg wavelngths of all Peaks from data of Handheld LIBS device\n",
    "2) Reference_Spectra_Min_Max = Containing a range of wavelength , for all the peak detected in the Reference Sample\n",
    "\n",
    "   "
   ]
  },
  {
   "cell_type": "code",
   "execution_count": 44,
   "id": "dc1343d3-2bbd-460b-9181-6f8d5544de7b",
   "metadata": {},
   "outputs": [
    {
     "name": "stdout",
     "output_type": "stream",
     "text": [
      "[193.1, 193.3, 193.6333333, 199.0333333, 200.4666667, 200.8, 201.0666667, 202.6, 203.8, 204.1, 204.4666667, 204.8666667, 205.3333333, 205.5333333, 206.2333333, 206.4333333, 207.0333333, 207.3666667, 207.6333333, 207.9, 208.2, 208.7, 209.4666667, 209.7, 210.0, 210.2666667, 210.6666667, 211.1, 211.4666667, 211.6666667, 211.8666667, 212.4333333, 212.6333333, 213.1, 213.8666667, 215.2333333, 215.4666667, 215.9666667, 216.4333333, 216.7666667, 217.0666667, 217.4, 217.8, 218.2, 218.4, 218.7333333, 219.1666667, 219.6, 219.8, 220.1666667, 220.3666667, 220.9666667, 221.6, 221.9333333, 222.4666667, 222.9666667, 223.4, 223.7333333, 224.2, 224.6666667, 225.2, 225.5333333, 225.8, 226.3333333, 226.5333333, 226.9, 227.1666667, 227.3666667, 227.6, 227.9333333, 228.1666667, 228.4333333, 228.7666667, 229.0333333, 229.2333333, 229.8, 230.2333333, 230.4666667, 230.7666667, 231.0, 231.2333333, 231.7, 231.9333333, 232.1666667, 232.4333333, 232.7, 233.0333333, 233.2666667, 233.5, 233.7666667, 234.0666667, 234.3333333, 234.8, 235.0666667, 235.3666667, 235.6666667, 235.9666667, 236.4666667, 236.7, 236.9, 237.3333333, 237.8666667, 238.2, 238.4, 238.6333333, 238.8333333, 239.0333333, 239.2666667, 239.5333333, 239.8666667, 240.1666667, 240.4333333, 241.0666667, 241.3333333, 241.9, 242.3666667, 242.6666667, 242.9666667, 243.2, 243.4666667, 243.9, 244.2, 244.4666667, 244.9666667, 245.4, 245.6666667, 245.9, 246.2, 246.5, 247.0333333, 247.2666667, 247.5666667, 247.8333333, 248.0666667, 248.3, 248.8, 249.0333333, 249.3, 249.6333333, 249.9666667, 250.2, 250.6333333, 251.1, 251.3666667, 251.5666667, 252.3333333, 252.8333333, 253.3666667, 253.8333333, 254.2333333, 254.5666667, 254.8666667, 255.1333333, 255.5333333, 255.7666667, 256.5666667, 256.7666667, 257.5, 257.9333333, 258.2333333, 258.5666667, 258.7666667, 259.0666667, 259.3333333, 259.9333333, 260.3, 260.5, 260.8666667, 261.1333333, 261.3666667, 261.7333333, 262.1, 262.5333333, 262.8, 263.1, 263.3333333, 263.7, 265.2333333, 266.0333333, 267.0666667, 268.4333333, 271.2666667, 271.8666667, 272.7333333, 273.3666667, 273.7, 273.9333333, 274.2666667, 274.6333333, 274.9, 275.2666667, 275.6333333, 276.1333333, 277.0666667, 278.7, 279.1, 279.5333333, 280.0666667, 281.6, 282.4333333, 285.2, 288.1333333, 301.8333333, 303.6, 305.7, 306.9666667, 307.2333333, 307.5666667, 307.8333333, 308.2, 308.8, 309.0333333, 309.2666667, 315.9, 317.9333333, 323.4, 323.6666667, 323.9, 324.1666667, 325.6333333, 325.8333333, 326.1333333, 328.2, 328.9, 330.2333333, 332.0666667, 332.2666667, 332.7333333, 332.9666667, 334.5333333, 336.1, 337.2666667, 368.4666667, 370.6, 371.9666667, 373.6666667, 374.5, 374.9, 375.8666667, 381.5333333, 382.0333333, 382.5333333, 383.3, 383.7666667, 384.0333333, 384.6333333, 385.0, 385.5, 386.0, 386.6, 387.1, 387.8333333, 388.2333333, 388.6666667, 390.0333333, 391.3333333, 392.0, 392.3333333, 392.6666667, 392.9333333, 393.3666667, 393.7333333, 394.0333333, 394.4, 395.3333333, 395.7333333, 396.1666667, 396.4666667, 396.8333333, 397.2, 397.4666667, 398.1333333, 398.9333333, 399.4, 399.8, 400.5, 403.2666667, 404.5333333, 405.7666667, 406.3333333, 407.1333333, 407.8, 408.2333333, 409.2, 409.4333333, 409.9333333, 410.3333333, 410.6, 410.9666667, 411.3333333, 411.8333333, 412.2, 412.5, 412.7333333, 413.2, 413.4666667, 413.8, 414.3666667, 414.8333333, 415.1, 415.4333333, 415.9333333, 417.1666667, 417.4333333, 417.8666667, 418.2333333, 418.6, 419.1333333, 420.1, 421.0, 421.2333333, 421.5666667, 422.3333333, 422.6666667, 422.9666667, 425.4, 426.0333333, 426.6666667, 427.1666667, 428.2666667, 428.9333333, 430.2666667, 430.8, 431.8666667, 432.6, 433.4333333, 434.0666667, 434.7666667, 438.3333333, 440.4666667, 442.5666667, 443.0, 443.5333333, 445.4666667, 447.8666667, 448.1666667, 449.2666667, 449.8333333, 450.1333333, 450.6666667, 451.1333333, 451.4333333, 451.8333333, 452.2666667, 452.6666667, 453.3666667, 453.9, 454.4666667, 454.9333333, 455.3666667, 456.0, 456.3333333, 457.2333333, 457.8333333, 458.1333333, 458.5666667, 458.9666667, 459.3333333, 459.6666667, 460.1333333, 460.4, 460.7333333, 461.3, 461.6666667, 462.3333333, 462.6666667, 463.0666667, 464.7666667, 465.7, 465.9666667, 466.4, 466.8, 467.1666667, 467.3666667, 467.6666667, 468.0333333, 469.3, 469.8666667, 470.5, 471.3666667, 471.6, 472.2666667, 474.8, 475.1, 475.9, 476.1, 477.1, 477.8333333, 478.7666667, 479.1666667, 479.4333333, 480.0666667, 480.2666667, 481.1666667, 484.0, 484.7666667, 485.1, 486.1666667, 487.0, 487.9, 488.7666667, 489.0666667, 489.5666667, 491.2666667, 492.5, 494.3333333, 494.6, 494.9666667, 495.4, 495.7666667, 496.4666667, 496.8333333, 497.0666667, 497.3, 497.6, 497.8333333, 498.1333333, 498.5, 499.1, 499.9333333, 500.6666667, 501.3666667, 512.8333333, 515.1333333, 515.3666667, 515.9, 516.4, 516.7666667, 517.2666667, 517.9, 518.2333333, 518.8, 519.2, 520.4666667, 520.9, 526.1666667, 526.5, 527.0, 532.7666667, 534.9666667, 536.1333333, 537.1, 538.0333333, 538.3333333, 539.9666667, 540.3666667, 540.7, 540.9666667, 541.4333333, 541.7, 542.2, 542.4, 542.9666667, 543.6333333, 544.0, 544.5333333, 544.7333333, 545.1666667, 545.5333333, 546.0666667, 546.3666667, 546.6333333, 546.8666667, 547.3333333, 547.7333333, 548.1, 548.3333333, 548.8, 549.0666667, 549.3333333, 549.9, 550.6333333, 551.0666667, 551.4, 551.8, 552.3, 552.6666667, 553.0333333, 553.5, 553.7, 553.9666667, 554.3, 554.6, 554.9666667, 555.3, 555.5666667, 555.9, 556.1666667, 556.4333333, 557.0, 557.2666667, 557.5666667, 558.1666667, 558.5, 558.8333333, 559.4333333, 559.8, 560.1666667, 560.7, 561.5333333, 561.9666667, 562.4333333, 562.8333333, 563.2, 563.4333333, 565.2333333, 588.6, 589.0, 589.5666667, 602.2, 602.8, 603.0666667, 603.3, 603.5, 603.7, 604.1666667, 607.2, 610.3, 612.2, 614.4666667, 615.1666667, 616.4333333, 618.5666667, 620.0, 620.4333333, 620.9, 621.4, 622.5666667, 623.7, 624.5666667, 625.3333333, 625.9, 626.7333333, 627.2, 627.9333333, 628.4, 628.7333333, 629.1333333, 629.5, 630.0, 630.7666667, 631.1333333, 631.6666667, 632.1, 632.7, 635.4333333, 636.2333333, 640.3666667, 641.1666667, 641.7333333, 642.8666667, 643.9, 644.3666667, 644.9, 645.6333333, 646.2333333, 646.7333333, 647.0666667, 648.4, 648.7666667, 649.3666667, 649.9666667, 650.6, 651.7666667, 652.2, 656.2666667, 660.4666667, 661.1333333, 663.8, 664.2666667, 664.6333333, 665.2, 665.6, 666.0333333, 666.3666667, 666.7333333, 667.2333333, 667.7333333, 668.3666667, 669.0333333, 669.5, 669.8666667, 670.2333333, 670.6666667, 671.7333333, 672.3333333, 672.7666667, 673.9333333, 674.3666667, 675.3333333, 677.4333333, 678.0, 678.4, 678.7666667, 679.3, 680.1, 680.5333333, 681.0, 681.5333333, 681.9, 682.8333333, 683.6666667, 684.5, 685.0, 685.5333333, 687.1666667, 688.6666667, 689.7, 690.4666667, 691.2666667, 692.9, 693.8, 695.6, 696.0333333, 696.5, 699.0333333, 699.5, 700.0666667, 701.0333333, 701.4666667, 702.0333333, 702.4, 703.2, 703.7333333, 704.1, 705.6666667, 706.1666667, 706.7333333, 707.1666667, 709.0, 710.0, 710.6333333, 711.1, 711.8333333, 712.2333333, 712.6666667, 713.0, 713.3666667, 713.8333333, 714.7333333, 715.1333333, 715.7666667, 717.2, 717.7666667, 718.6666667, 720.2333333, 720.8333333, 721.5, 721.8666667, 726.7666667, 727.3, 727.7333333, 735.6, 736.1666667, 737.3333333, 737.8333333, 738.4, 740.6666667, 742.3666667, 744.2, 746.8333333, 747.8, 749.5666667, 749.9, 750.3666667, 751.4333333, 758.6666667, 762.6666667, 763.0, 763.4666667, 765.9333333, 766.4, 769.8333333, 771.8666667, 772.4, 777.2333333, 794.3, 794.7666667, 800.6, 801.4333333, 809.8666667, 810.3, 810.9333333, 811.5, 826.3666667, 840.2666667, 840.7333333, 842.4, 844.5333333, 852.0666667, 854.1, 866.1, 866.7, 867.9666667, 912.2, 922.3333333, 945.8666667]\n"
     ]
    }
   ],
   "source": [
    "print(Sample_Spectra_List)"
   ]
  },
  {
   "cell_type": "code",
   "execution_count": 45,
   "id": "48dc5a0e-6348-41b5-a13b-b63d934d3a88",
   "metadata": {},
   "outputs": [
    {
     "name": "stdout",
     "output_type": "stream",
     "text": [
      "[[197.9467, 198.0133], [199.9267, 199.9933], [202.4867, 202.5533], [203.6267, 203.6933], [204.3467, 204.4133], [205.4767, 205.5433], [210.4467, 210.5133], [211.1667, 211.23329999999999], [212.3867, 212.45329999999998], [213.5567, 213.6233], [214.8667, 214.9333], [217.8967, 217.9633], [219.1567, 219.2233], [221.01670000000001, 221.0833], [221.76670000000001, 221.8333], [222.8667, 222.9333], [224.2567, 224.3233], [224.6767, 224.7433], [236.9667, 237.0333], [324.6967, 324.7633], [327.3467, 327.4133]]\n"
     ]
    }
   ],
   "source": [
    "print(Reference_Spectra_Min_Max)"
   ]
  },
  {
   "cell_type": "markdown",
   "id": "94c3a5c9-2634-41c3-a203-0c22c5dfa4fe",
   "metadata": {},
   "source": [
    "# Finally , My  idea is see , if each iteam in (Reference_Spectra_Min_Max) , matches with each element in (Sample_Spectra_List) , and then caluclate the exact matching Percentage \n"
   ]
  },
  {
   "cell_type": "code",
   "execution_count": 84,
   "id": "2b6834d7-af69-4f6b-8301-74b358d79f70",
   "metadata": {},
   "outputs": [
    {
     "name": "stdout",
     "output_type": "stream",
     "text": [
      "[205.5333333, 212.4333333, 219.1666667]\n",
      "[205.51, 212.42, 219.19]\n",
      "3\n"
     ]
    }
   ],
   "source": [
    "plot_spectra_wavelength_list=[]\n",
    "plot_reference_wavelength_list = []\n",
    "count = 0\n",
    "for cell in Reference_Spectra_Min_Max: \n",
    "    for iteam in Sample_Spectra_List:\n",
    "        if iteam >= cell[0] and iteam < cell[1]:\n",
    "            count = count + 1\n",
    "            plot_spectra_wavelength_list.append(iteam)\n",
    "            plot_reference_wavelength_list.append(cell[0] + 0.0333)\n",
    "            \n",
    "print(plot_spectra_wavelength_list)\n",
    "print(plot_reference_wavelength_list)\n",
    "\n",
    "print(count)"
   ]
  },
  {
   "cell_type": "markdown",
   "id": "2e8ee4cc-9af9-4541-bfdf-0c460fae1d1c",
   "metadata": {},
   "source": [
    "# RESULTS"
   ]
  },
  {
   "cell_type": "code",
   "execution_count": 85,
   "id": "0907b6eb-3b8c-4346-9401-d9f62d1efaba",
   "metadata": {
    "editable": true,
    "slideshow": {
     "slide_type": ""
    },
    "tags": []
   },
   "outputs": [
    {
     "name": "stdout",
     "output_type": "stream",
     "text": [
      "CR210LA Ananlysis of Cu was done , and the 3 number of spectral lines from the material sample CR210LA matched with the 21 choosen Reference element of Cu therefore , we can say 14.285714285714285% matched as per the parameters set by the user\n"
     ]
    }
   ],
   "source": [
    "percentage = (count / Length_Reference_Spectra_List) * 100\n",
    "percentage\n",
    "\n",
    "print (sample + ' Ananlysis of ' + element + ' was done , and the ' + str(count) +  ' number of spectral lines from the material sample ' + sample + ' matched with the ' + str(Length_Reference_Spectra_List) + ' choosen Reference element of '+ element + ' therefore , we can say' ,  str(percentage) + '%' + ' matched as per the parameters set by the user')"
   ]
  },
  {
   "cell_type": "markdown",
   "id": "b3471536-33aa-474d-8d67-9be6d1fdf52a",
   "metadata": {},
   "source": [
    "Find the Correponding Intensities , for the wavelengths available in \"plot_spectra_wavelength_list\" and also for the wavelengths available in \"plot_refernce_intensities_list\""
   ]
  },
  {
   "cell_type": "code",
   "execution_count": 86,
   "id": "031ab3f6-6fb8-4777-b406-bc2cabc198c1",
   "metadata": {},
   "outputs": [
    {
     "name": "stdout",
     "output_type": "stream",
     "text": [
      "[1181.857536, 706.5342327, 294.8325125]\n",
      "[6740000000.0, 8100000000.0, 21500000000.0]\n"
     ]
    }
   ],
   "source": [
    "plot_spectra_intensities_list=[]\n",
    "for iteam in plot_spectra_wavelength_list:\n",
    "    Inte = Selected_Sample_Spectra.loc[Selected_Sample_Spectra['wavelength'] == iteam, 'Intensities'].iloc[0]\n",
    "    plot_spectra_intensities_list.append(Inte)\n",
    "\n",
    "print(plot_spectra_intensities_list)\n",
    "\n",
    "\n",
    "\n",
    "plot_reference_intensities_list=[]\n",
    "for iteam in plot_reference_wavelength_list:\n",
    "    Refe = Selected_Reference_Spectra.loc[Selected_Reference_Spectra['Wavelength'] == iteam, 'Spectra'].iloc[0]\n",
    "    plot_reference_intensities_list.append(Refe)\n",
    "    \n",
    "print(plot_reference_intensities_list)"
   ]
  },
  {
   "cell_type": "code",
   "execution_count": 89,
   "id": "559ad0ee-9d34-4cab-bb3b-dadd31379a72",
   "metadata": {},
   "outputs": [
    {
     "ename": "TypeError",
     "evalue": "'list' object is not callable",
     "output_type": "error",
     "traceback": [
      "\u001b[0;31m---------------------------------------------------------------------------\u001b[0m",
      "\u001b[0;31mTypeError\u001b[0m                                 Traceback (most recent call last)",
      "Cell \u001b[0;32mIn[89], line 1\u001b[0m\n\u001b[0;32m----> 1\u001b[0m \u001b[38;5;28;01mfor\u001b[39;00m i \u001b[38;5;129;01min\u001b[39;00m \u001b[38;5;28;43mrange\u001b[39;49m\u001b[43m \u001b[49m\u001b[43m(\u001b[49m\u001b[38;5;241;43m0\u001b[39;49m\u001b[43m,\u001b[49m\u001b[38;5;241;43m3\u001b[39;49m\u001b[43m)\u001b[49m:\n\u001b[1;32m      2\u001b[0m     \u001b[38;5;28mprint\u001b[39m(i)\n",
      "\u001b[0;31mTypeError\u001b[0m: 'list' object is not callable"
     ]
    }
   ],
   "source": []
  },
  {
   "cell_type": "code",
   "execution_count": null,
   "id": "fbc91ef1-223f-467f-8003-909f7b3bf983",
   "metadata": {},
   "outputs": [],
   "source": []
  }
 ],
 "metadata": {
  "kernelspec": {
   "display_name": "Python 3 (ipykernel)",
   "language": "python",
   "name": "python3"
  },
  "language_info": {
   "codemirror_mode": {
    "name": "ipython",
    "version": 3
   },
   "file_extension": ".py",
   "mimetype": "text/x-python",
   "name": "python",
   "nbconvert_exporter": "python",
   "pygments_lexer": "ipython3",
   "version": "3.12.0"
  }
 },
 "nbformat": 4,
 "nbformat_minor": 5
}
