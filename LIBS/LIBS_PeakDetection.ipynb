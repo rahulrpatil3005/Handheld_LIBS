{
 "cells": [
  {
   "cell_type": "markdown",
   "id": "708ecccf-a107-4c11-a824-97e2dcbbabac",
   "metadata": {},
   "source": [
    "# Welcome to the Tutorial. This can be a good start from someone , having absoultely zero to no experience , programming in Python , Maybe , by this tutorial series  , you and me can learn together , and see how we can use Python for LIBS Spectra Data Analysis. I will be using Jupyter Lab for the Tutorial. "
   ]
  },
  {
   "cell_type": "markdown",
   "id": "160bd004-a56a-4adf-9873-31b03148911a",
   "metadata": {},
   "source": [
    "# SOME BACKGROUND"
   ]
  },
  {
   "cell_type": "markdown",
   "id": "c6d47a06-36ea-43db-8566-50e9c533aaf4",
   "metadata": {},
   "source": [
    "~ STEP 1 :- First download the latest Python Veriosn \n",
    "            https://www.python.org/downloads/\n",
    "\n",
    "Please Install the downloaded file on your computer using custom Installation settings. "
   ]
  },
  {
   "cell_type": "markdown",
   "id": "41ec6e05-e113-4c37-b68e-765d1c1cae46",
   "metadata": {},
   "source": [
    "~ STEP 2 :- After the installation is done , Open  , In MAC - Terminal or WIN - Terminal , and type \"Python3 --version\"\n",
    " for MAC or \"Python --version\" for WIN and press Enter \n",
    "\n",
    " If , the Terminal , returns with the verion of Python like \"Python 3.11.1\" , Installation has been succesful , and then we can proceed further , if not , please check if STEP 1 has been accomplished"
   ]
  },
  {
   "cell_type": "markdown",
   "id": "1aacfe08-aba6-411a-8d7e-bbfae468ab04",
   "metadata": {},
   "source": [
    "~STEP 3 :- After we are done  with the STEP 2 , I am using the Jupytr Lab for the tutorials. , type in terminal \"pip install jupyter lab\" , this will install the latest verison of Jupyter Lab on your system , automatically you will be redirected to the browser "
   ]
  },
  {
   "cell_type": "markdown",
   "id": "177ba2c9-c172-4235-9300-55fababea016",
   "metadata": {},
   "source": [
    "~ STEP 4 :- To check , if the installation of Jupyter lab has been successful , type \"jupyter lab --version\" on Terminal. If , the Terminal , returns with the verion of Jupyter Lab like \"4.1.2\" , Installation has been succesful , and then we can proceed further , if not , please check if STEP 3 has been accomplished"
   ]
  },
  {
   "cell_type": "markdown",
   "id": "9ad27c6d-f1e2-4360-8eed-b833ec11d07d",
   "metadata": {},
   "source": [
    "~ STEP 5 :- A library is a collection of code that makes everyday tasks more efficient. For my tutorial i would recommend Installing pandas , numpy - For data analysis , seaborn , matplotlib - For Visualisation.  \n",
    "\n",
    "Also , i would be Installing a library called \"peakutils\" , this woulbe be useful for recogisation of Peaks from the Spectra. https://peakutils.readthedocs.io/en/latest/\n"
   ]
  },
  {
   "cell_type": "markdown",
   "id": "b0d6fef1-aae7-4f6e-8c4b-6f9d45d46102",
   "metadata": {},
   "source": [
    "~ STEP 6 :- For installing the library , go to terminal , and type \"pip install pandas\" and after installing . Similarly , do this for numpy , seaborn , matplotlin and PeakUtils"
   ]
  },
  {
   "cell_type": "markdown",
   "id": "14de74cd-d43a-453c-a41b-423046e89a97",
   "metadata": {},
   "source": [
    "~ STEP 7 :- Now , to open the Jupyter Lab seession in the browser , go to terminal and type \"jupyter lab\" , you will be automatically redirected to the browser in a jupyter lab session. This is where you will start programming . \n",
    "\n",
    "NOTE :- To exit the session , press \"Ctrl + C\" on the termianal , this will end the running session on your system"
   ]
  },
  {
   "cell_type": "markdown",
   "id": "be32af82-9388-46d3-9bf1-d670a3cc25ea",
   "metadata": {},
   "source": [
    "~ STEP 8 :- In jupyter lab , your lines of codes or chunk of lines of codes  are called as \"Cell\" , If the \"Cell are of type Markdown - Used for Comments / Information \" and If the \"Cells are of type Code - Used for Programming\" \n",
    "\n",
    "You can get more in fo here -  https://www.datacamp.com/tutorial/installing-jupyter-notebook\n"
   ]
  },
  {
   "cell_type": "markdown",
   "id": "e701e0f5-142f-4166-b93d-3fb7377f98f1",
   "metadata": {},
   "source": [
    "# CODE BEGINS"
   ]
  },
  {
   "cell_type": "markdown",
   "id": "a64ca9ff-760b-4d7e-9cb8-29b89c23a90c",
   "metadata": {
    "editable": true,
    "slideshow": {
     "slide_type": ""
    },
    "tags": []
   },
   "source": [
    "# Importing the Useful librararies. "
   ]
  },
  {
   "cell_type": "markdown",
   "id": "61cfd157-b86e-4bc3-a3cf-63c87de1161b",
   "metadata": {},
   "source": [
    "Line [1] is completely optional , This is used to Hide the the Warnings in the Output cell. It's recommended to skip the line[1] , and proceed with the code from line[2]."
   ]
  },
  {
   "cell_type": "code",
   "execution_count": 1,
   "id": "fe24b79d-1d3e-4dcf-bc6c-d67f6ea78c29",
   "metadata": {},
   "outputs": [],
   "source": [
    "import warnings\n",
    "warnings.filterwarnings('ignore')"
   ]
  },
  {
   "cell_type": "markdown",
   "id": "356b5399-25db-40af-8a59-79ad84b80aa8",
   "metadata": {},
   "source": [
    "Line [2] is basicllay importing the Installed Libraries earlier and calling them in the IDE for interacting with them. \n",
    "\n",
    "Now , what does import \"import pandas as pd\"  mean ? \n",
    "\n",
    "-> For pandas, we usually import pandas with the pd alias, which means we refer to pandas as pd in the code instead of writing “pandas” each time. Alias is an alternate name that can be used for referencing the same thing again and again\n",
    "\n",
    "Now , what does \"from peakutils import indexes\" mean ? \n",
    "\n",
    "-> So , here peakutils is an library , The import statement allows you to import all the functions from a library into your code. Often, though, you'll only want to import a few functions, or just one. If this is the case, you can use the from statement. This essentially mean this line will import \"indexes \" function from the library \"peakutils\".\n"
   ]
  },
  {
   "cell_type": "code",
   "execution_count": 2,
   "id": "bbf405ee-aee5-4477-a558-19a3459c48fe",
   "metadata": {},
   "outputs": [
    {
     "data": {
      "text/html": [
       "    <style>\n",
       "        .bk-notebook-logo {\n",
       "            display: block;\n",
       "            width: 20px;\n",
       "            height: 20px;\n",
       "            background-image: url(data:image/png;base64,iVBORw0KGgoAAAANSUhEUgAAABQAAAAUCAYAAACNiR0NAAAABHNCSVQICAgIfAhkiAAAAAlwSFlzAAALEgAACxIB0t1+/AAAABx0RVh0U29mdHdhcmUAQWRvYmUgRmlyZXdvcmtzIENTNui8sowAAAOkSURBVDiNjZRtaJVlGMd/1/08zzln5zjP1LWcU9N0NkN8m2CYjpgQYQXqSs0I84OLIC0hkEKoPtiH3gmKoiJDU7QpLgoLjLIQCpEsNJ1vqUOdO7ppbuec5+V+rj4ctwzd8IIbbi6u+8f1539dt3A78eXC7QizUF7gyV1fD1Yqg4JWz84yffhm0qkFqBogB9rM8tZdtwVsPUhWhGcFJngGeWrPzHm5oaMmkfEg1usvLFyc8jLRqDOMru7AyC8saQr7GG7f5fvDeH7Ej8CM66nIF+8yngt6HWaKh7k49Soy9nXurCi1o3qUbS3zWfrYeQDTB/Qj6kX6Ybhw4B+bOYoLKCC9H3Nu/leUTZ1JdRWkkn2ldcCamzrcf47KKXdAJllSlxAOkRgyHsGC/zRday5Qld9DyoM4/q/rUoy/CXh3jzOu3bHUVZeU+DEn8FInkPBFlu3+nW3Nw0mk6vCDiWg8CeJaxEwuHS3+z5RgY+YBR6V1Z1nxSOfoaPa4LASWxxdNp+VWTk7+4vzaou8v8PN+xo+KY2xsw6une2frhw05CTYOmQvsEhjhWjn0bmXPjpE1+kplmmkP3suftwTubK9Vq22qKmrBhpY4jvd5afdRA3wGjFAgcnTK2s4hY0/GPNIb0nErGMCRxWOOX64Z8RAC4oCXdklmEvcL8o0BfkNK4lUg9HTl+oPlQxdNo3Mg4Nv175e/1LDGzZen30MEjRUtmXSfiTVu1kK8W4txyV6BMKlbgk3lMwYCiusNy9fVfvvwMxv8Ynl6vxoByANLTWplvuj/nF9m2+PDtt1eiHPBr1oIfhCChQMBw6Aw0UulqTKZdfVvfG7VcfIqLG9bcldL/+pdWTLxLUy8Qq38heUIjh4XlzZxzQm19lLFlr8vdQ97rjZVOLf8nclzckbcD4wxXMidpX30sFd37Fv/GtwwhzhxGVAprjbg0gCAEeIgwCZyTV2Z1REEW8O4py0wsjeloKoMr6iCY6dP92H6Vw/oTyICIthibxjm/DfN9lVz8IqtqKYLUXfoKVMVQVVJOElGjrnnUt9T9wbgp8AyYKaGlqingHZU/uG2NTZSVqwHQTWkx9hxjkpWDaCg6Ckj5qebgBVbT3V3NNXMSiWSDdGV3hrtzla7J+duwPOToIg42ChPQOQjspnSlp1V+Gjdged7+8UN5CRAV7a5EdFNwCjEaBR27b3W890TE7g24NAP/mMDXRWrGoFPQI9ls/MWO2dWFAar/xcOIImbbpA3zgAAAABJRU5ErkJggg==);\n",
       "        }\n",
       "    </style>\n",
       "    <div>\n",
       "        <a href=\"https://bokeh.org\" target=\"_blank\" class=\"bk-notebook-logo\"></a>\n",
       "        <span id=\"b51142ef-b6fc-470a-8410-95a2cdf90b8d\">Loading BokehJS ...</span>\n",
       "    </div>\n"
      ]
     },
     "metadata": {},
     "output_type": "display_data"
    },
    {
     "data": {
      "application/javascript": [
       "(function(root) {\n",
       "  function now() {\n",
       "    return new Date();\n",
       "  }\n",
       "\n",
       "  const force = true;\n",
       "\n",
       "  if (typeof root._bokeh_onload_callbacks === \"undefined\" || force === true) {\n",
       "    root._bokeh_onload_callbacks = [];\n",
       "    root._bokeh_is_loading = undefined;\n",
       "  }\n",
       "\n",
       "const JS_MIME_TYPE = 'application/javascript';\n",
       "  const HTML_MIME_TYPE = 'text/html';\n",
       "  const EXEC_MIME_TYPE = 'application/vnd.bokehjs_exec.v0+json';\n",
       "  const CLASS_NAME = 'output_bokeh rendered_html';\n",
       "\n",
       "  /**\n",
       "   * Render data to the DOM node\n",
       "   */\n",
       "  function render(props, node) {\n",
       "    const script = document.createElement(\"script\");\n",
       "    node.appendChild(script);\n",
       "  }\n",
       "\n",
       "  /**\n",
       "   * Handle when an output is cleared or removed\n",
       "   */\n",
       "  function handleClearOutput(event, handle) {\n",
       "    function drop(id) {\n",
       "      const view = Bokeh.index.get_by_id(id)\n",
       "      if (view != null) {\n",
       "        view.model.document.clear()\n",
       "        Bokeh.index.delete(view)\n",
       "      }\n",
       "    }\n",
       "\n",
       "    const cell = handle.cell;\n",
       "\n",
       "    const id = cell.output_area._bokeh_element_id;\n",
       "    const server_id = cell.output_area._bokeh_server_id;\n",
       "\n",
       "    // Clean up Bokeh references\n",
       "    if (id != null) {\n",
       "      drop(id)\n",
       "    }\n",
       "\n",
       "    if (server_id !== undefined) {\n",
       "      // Clean up Bokeh references\n",
       "      const cmd_clean = \"from bokeh.io.state import curstate; print(curstate().uuid_to_server['\" + server_id + \"'].get_sessions()[0].document.roots[0]._id)\";\n",
       "      cell.notebook.kernel.execute(cmd_clean, {\n",
       "        iopub: {\n",
       "          output: function(msg) {\n",
       "            const id = msg.content.text.trim()\n",
       "            drop(id)\n",
       "          }\n",
       "        }\n",
       "      });\n",
       "      // Destroy server and session\n",
       "      const cmd_destroy = \"import bokeh.io.notebook as ion; ion.destroy_server('\" + server_id + \"')\";\n",
       "      cell.notebook.kernel.execute(cmd_destroy);\n",
       "    }\n",
       "  }\n",
       "\n",
       "  /**\n",
       "   * Handle when a new output is added\n",
       "   */\n",
       "  function handleAddOutput(event, handle) {\n",
       "    const output_area = handle.output_area;\n",
       "    const output = handle.output;\n",
       "\n",
       "    // limit handleAddOutput to display_data with EXEC_MIME_TYPE content only\n",
       "    if ((output.output_type != \"display_data\") || (!Object.prototype.hasOwnProperty.call(output.data, EXEC_MIME_TYPE))) {\n",
       "      return\n",
       "    }\n",
       "\n",
       "    const toinsert = output_area.element.find(\".\" + CLASS_NAME.split(' ')[0]);\n",
       "\n",
       "    if (output.metadata[EXEC_MIME_TYPE][\"id\"] !== undefined) {\n",
       "      toinsert[toinsert.length - 1].firstChild.textContent = output.data[JS_MIME_TYPE];\n",
       "      // store reference to embed id on output_area\n",
       "      output_area._bokeh_element_id = output.metadata[EXEC_MIME_TYPE][\"id\"];\n",
       "    }\n",
       "    if (output.metadata[EXEC_MIME_TYPE][\"server_id\"] !== undefined) {\n",
       "      const bk_div = document.createElement(\"div\");\n",
       "      bk_div.innerHTML = output.data[HTML_MIME_TYPE];\n",
       "      const script_attrs = bk_div.children[0].attributes;\n",
       "      for (let i = 0; i < script_attrs.length; i++) {\n",
       "        toinsert[toinsert.length - 1].firstChild.setAttribute(script_attrs[i].name, script_attrs[i].value);\n",
       "        toinsert[toinsert.length - 1].firstChild.textContent = bk_div.children[0].textContent\n",
       "      }\n",
       "      // store reference to server id on output_area\n",
       "      output_area._bokeh_server_id = output.metadata[EXEC_MIME_TYPE][\"server_id\"];\n",
       "    }\n",
       "  }\n",
       "\n",
       "  function register_renderer(events, OutputArea) {\n",
       "\n",
       "    function append_mime(data, metadata, element) {\n",
       "      // create a DOM node to render to\n",
       "      const toinsert = this.create_output_subarea(\n",
       "        metadata,\n",
       "        CLASS_NAME,\n",
       "        EXEC_MIME_TYPE\n",
       "      );\n",
       "      this.keyboard_manager.register_events(toinsert);\n",
       "      // Render to node\n",
       "      const props = {data: data, metadata: metadata[EXEC_MIME_TYPE]};\n",
       "      render(props, toinsert[toinsert.length - 1]);\n",
       "      element.append(toinsert);\n",
       "      return toinsert\n",
       "    }\n",
       "\n",
       "    /* Handle when an output is cleared or removed */\n",
       "    events.on('clear_output.CodeCell', handleClearOutput);\n",
       "    events.on('delete.Cell', handleClearOutput);\n",
       "\n",
       "    /* Handle when a new output is added */\n",
       "    events.on('output_added.OutputArea', handleAddOutput);\n",
       "\n",
       "    /**\n",
       "     * Register the mime type and append_mime function with output_area\n",
       "     */\n",
       "    OutputArea.prototype.register_mime_type(EXEC_MIME_TYPE, append_mime, {\n",
       "      /* Is output safe? */\n",
       "      safe: true,\n",
       "      /* Index of renderer in `output_area.display_order` */\n",
       "      index: 0\n",
       "    });\n",
       "  }\n",
       "\n",
       "  // register the mime type if in Jupyter Notebook environment and previously unregistered\n",
       "  if (root.Jupyter !== undefined) {\n",
       "    const events = require('base/js/events');\n",
       "    const OutputArea = require('notebook/js/outputarea').OutputArea;\n",
       "\n",
       "    if (OutputArea.prototype.mime_types().indexOf(EXEC_MIME_TYPE) == -1) {\n",
       "      register_renderer(events, OutputArea);\n",
       "    }\n",
       "  }\n",
       "  if (typeof (root._bokeh_timeout) === \"undefined\" || force === true) {\n",
       "    root._bokeh_timeout = Date.now() + 5000;\n",
       "    root._bokeh_failed_load = false;\n",
       "  }\n",
       "\n",
       "  const NB_LOAD_WARNING = {'data': {'text/html':\n",
       "     \"<div style='background-color: #fdd'>\\n\"+\n",
       "     \"<p>\\n\"+\n",
       "     \"BokehJS does not appear to have successfully loaded. If loading BokehJS from CDN, this \\n\"+\n",
       "     \"may be due to a slow or bad network connection. Possible fixes:\\n\"+\n",
       "     \"</p>\\n\"+\n",
       "     \"<ul>\\n\"+\n",
       "     \"<li>re-rerun `output_notebook()` to attempt to load from CDN again, or</li>\\n\"+\n",
       "     \"<li>use INLINE resources instead, as so:</li>\\n\"+\n",
       "     \"</ul>\\n\"+\n",
       "     \"<code>\\n\"+\n",
       "     \"from bokeh.resources import INLINE\\n\"+\n",
       "     \"output_notebook(resources=INLINE)\\n\"+\n",
       "     \"</code>\\n\"+\n",
       "     \"</div>\"}};\n",
       "\n",
       "  function display_loaded() {\n",
       "    const el = document.getElementById(\"b51142ef-b6fc-470a-8410-95a2cdf90b8d\");\n",
       "    if (el != null) {\n",
       "      el.textContent = \"BokehJS is loading...\";\n",
       "    }\n",
       "    if (root.Bokeh !== undefined) {\n",
       "      if (el != null) {\n",
       "        el.textContent = \"BokehJS \" + root.Bokeh.version + \" successfully loaded.\";\n",
       "      }\n",
       "    } else if (Date.now() < root._bokeh_timeout) {\n",
       "      setTimeout(display_loaded, 100)\n",
       "    }\n",
       "  }\n",
       "\n",
       "  function run_callbacks() {\n",
       "    try {\n",
       "      root._bokeh_onload_callbacks.forEach(function(callback) {\n",
       "        if (callback != null)\n",
       "          callback();\n",
       "      });\n",
       "    } finally {\n",
       "      delete root._bokeh_onload_callbacks\n",
       "    }\n",
       "    console.debug(\"Bokeh: all callbacks have finished\");\n",
       "  }\n",
       "\n",
       "  function load_libs(css_urls, js_urls, callback) {\n",
       "    if (css_urls == null) css_urls = [];\n",
       "    if (js_urls == null) js_urls = [];\n",
       "\n",
       "    root._bokeh_onload_callbacks.push(callback);\n",
       "    if (root._bokeh_is_loading > 0) {\n",
       "      console.debug(\"Bokeh: BokehJS is being loaded, scheduling callback at\", now());\n",
       "      return null;\n",
       "    }\n",
       "    if (js_urls == null || js_urls.length === 0) {\n",
       "      run_callbacks();\n",
       "      return null;\n",
       "    }\n",
       "    console.debug(\"Bokeh: BokehJS not loaded, scheduling load and callback at\", now());\n",
       "    root._bokeh_is_loading = css_urls.length + js_urls.length;\n",
       "\n",
       "    function on_load() {\n",
       "      root._bokeh_is_loading--;\n",
       "      if (root._bokeh_is_loading === 0) {\n",
       "        console.debug(\"Bokeh: all BokehJS libraries/stylesheets loaded\");\n",
       "        run_callbacks()\n",
       "      }\n",
       "    }\n",
       "\n",
       "    function on_error(url) {\n",
       "      console.error(\"failed to load \" + url);\n",
       "    }\n",
       "\n",
       "    for (let i = 0; i < css_urls.length; i++) {\n",
       "      const url = css_urls[i];\n",
       "      const element = document.createElement(\"link\");\n",
       "      element.onload = on_load;\n",
       "      element.onerror = on_error.bind(null, url);\n",
       "      element.rel = \"stylesheet\";\n",
       "      element.type = \"text/css\";\n",
       "      element.href = url;\n",
       "      console.debug(\"Bokeh: injecting link tag for BokehJS stylesheet: \", url);\n",
       "      document.body.appendChild(element);\n",
       "    }\n",
       "\n",
       "    for (let i = 0; i < js_urls.length; i++) {\n",
       "      const url = js_urls[i];\n",
       "      const element = document.createElement('script');\n",
       "      element.onload = on_load;\n",
       "      element.onerror = on_error.bind(null, url);\n",
       "      element.async = false;\n",
       "      element.src = url;\n",
       "      console.debug(\"Bokeh: injecting script tag for BokehJS library: \", url);\n",
       "      document.head.appendChild(element);\n",
       "    }\n",
       "  };\n",
       "\n",
       "  function inject_raw_css(css) {\n",
       "    const element = document.createElement(\"style\");\n",
       "    element.appendChild(document.createTextNode(css));\n",
       "    document.body.appendChild(element);\n",
       "  }\n",
       "\n",
       "  const js_urls = [\"https://cdn.bokeh.org/bokeh/release/bokeh-3.3.4.min.js\", \"https://cdn.bokeh.org/bokeh/release/bokeh-gl-3.3.4.min.js\", \"https://cdn.bokeh.org/bokeh/release/bokeh-widgets-3.3.4.min.js\", \"https://cdn.bokeh.org/bokeh/release/bokeh-tables-3.3.4.min.js\", \"https://cdn.bokeh.org/bokeh/release/bokeh-mathjax-3.3.4.min.js\"];\n",
       "  const css_urls = [];\n",
       "\n",
       "  const inline_js = [    function(Bokeh) {\n",
       "      Bokeh.set_log_level(\"info\");\n",
       "    },\n",
       "function(Bokeh) {\n",
       "    }\n",
       "  ];\n",
       "\n",
       "  function run_inline_js() {\n",
       "    if (root.Bokeh !== undefined || force === true) {\n",
       "          for (let i = 0; i < inline_js.length; i++) {\n",
       "      inline_js[i].call(root, root.Bokeh);\n",
       "    }\n",
       "if (force === true) {\n",
       "        display_loaded();\n",
       "      }} else if (Date.now() < root._bokeh_timeout) {\n",
       "      setTimeout(run_inline_js, 100);\n",
       "    } else if (!root._bokeh_failed_load) {\n",
       "      console.log(\"Bokeh: BokehJS failed to load within specified timeout.\");\n",
       "      root._bokeh_failed_load = true;\n",
       "    } else if (force !== true) {\n",
       "      const cell = $(document.getElementById(\"b51142ef-b6fc-470a-8410-95a2cdf90b8d\")).parents('.cell').data().cell;\n",
       "      cell.output_area.append_execute_result(NB_LOAD_WARNING)\n",
       "    }\n",
       "  }\n",
       "\n",
       "  if (root._bokeh_is_loading === 0) {\n",
       "    console.debug(\"Bokeh: BokehJS loaded, going straight to plotting\");\n",
       "    run_inline_js();\n",
       "  } else {\n",
       "    load_libs(css_urls, js_urls, function() {\n",
       "      console.debug(\"Bokeh: BokehJS plotting callback run at\", now());\n",
       "      run_inline_js();\n",
       "    });\n",
       "  }\n",
       "}(window));"
      ],
      "application/vnd.bokehjs_load.v0+json": "(function(root) {\n  function now() {\n    return new Date();\n  }\n\n  const force = true;\n\n  if (typeof root._bokeh_onload_callbacks === \"undefined\" || force === true) {\n    root._bokeh_onload_callbacks = [];\n    root._bokeh_is_loading = undefined;\n  }\n\n\n  if (typeof (root._bokeh_timeout) === \"undefined\" || force === true) {\n    root._bokeh_timeout = Date.now() + 5000;\n    root._bokeh_failed_load = false;\n  }\n\n  const NB_LOAD_WARNING = {'data': {'text/html':\n     \"<div style='background-color: #fdd'>\\n\"+\n     \"<p>\\n\"+\n     \"BokehJS does not appear to have successfully loaded. If loading BokehJS from CDN, this \\n\"+\n     \"may be due to a slow or bad network connection. Possible fixes:\\n\"+\n     \"</p>\\n\"+\n     \"<ul>\\n\"+\n     \"<li>re-rerun `output_notebook()` to attempt to load from CDN again, or</li>\\n\"+\n     \"<li>use INLINE resources instead, as so:</li>\\n\"+\n     \"</ul>\\n\"+\n     \"<code>\\n\"+\n     \"from bokeh.resources import INLINE\\n\"+\n     \"output_notebook(resources=INLINE)\\n\"+\n     \"</code>\\n\"+\n     \"</div>\"}};\n\n  function display_loaded() {\n    const el = document.getElementById(\"b51142ef-b6fc-470a-8410-95a2cdf90b8d\");\n    if (el != null) {\n      el.textContent = \"BokehJS is loading...\";\n    }\n    if (root.Bokeh !== undefined) {\n      if (el != null) {\n        el.textContent = \"BokehJS \" + root.Bokeh.version + \" successfully loaded.\";\n      }\n    } else if (Date.now() < root._bokeh_timeout) {\n      setTimeout(display_loaded, 100)\n    }\n  }\n\n  function run_callbacks() {\n    try {\n      root._bokeh_onload_callbacks.forEach(function(callback) {\n        if (callback != null)\n          callback();\n      });\n    } finally {\n      delete root._bokeh_onload_callbacks\n    }\n    console.debug(\"Bokeh: all callbacks have finished\");\n  }\n\n  function load_libs(css_urls, js_urls, callback) {\n    if (css_urls == null) css_urls = [];\n    if (js_urls == null) js_urls = [];\n\n    root._bokeh_onload_callbacks.push(callback);\n    if (root._bokeh_is_loading > 0) {\n      console.debug(\"Bokeh: BokehJS is being loaded, scheduling callback at\", now());\n      return null;\n    }\n    if (js_urls == null || js_urls.length === 0) {\n      run_callbacks();\n      return null;\n    }\n    console.debug(\"Bokeh: BokehJS not loaded, scheduling load and callback at\", now());\n    root._bokeh_is_loading = css_urls.length + js_urls.length;\n\n    function on_load() {\n      root._bokeh_is_loading--;\n      if (root._bokeh_is_loading === 0) {\n        console.debug(\"Bokeh: all BokehJS libraries/stylesheets loaded\");\n        run_callbacks()\n      }\n    }\n\n    function on_error(url) {\n      console.error(\"failed to load \" + url);\n    }\n\n    for (let i = 0; i < css_urls.length; i++) {\n      const url = css_urls[i];\n      const element = document.createElement(\"link\");\n      element.onload = on_load;\n      element.onerror = on_error.bind(null, url);\n      element.rel = \"stylesheet\";\n      element.type = \"text/css\";\n      element.href = url;\n      console.debug(\"Bokeh: injecting link tag for BokehJS stylesheet: \", url);\n      document.body.appendChild(element);\n    }\n\n    for (let i = 0; i < js_urls.length; i++) {\n      const url = js_urls[i];\n      const element = document.createElement('script');\n      element.onload = on_load;\n      element.onerror = on_error.bind(null, url);\n      element.async = false;\n      element.src = url;\n      console.debug(\"Bokeh: injecting script tag for BokehJS library: \", url);\n      document.head.appendChild(element);\n    }\n  };\n\n  function inject_raw_css(css) {\n    const element = document.createElement(\"style\");\n    element.appendChild(document.createTextNode(css));\n    document.body.appendChild(element);\n  }\n\n  const js_urls = [\"https://cdn.bokeh.org/bokeh/release/bokeh-3.3.4.min.js\", \"https://cdn.bokeh.org/bokeh/release/bokeh-gl-3.3.4.min.js\", \"https://cdn.bokeh.org/bokeh/release/bokeh-widgets-3.3.4.min.js\", \"https://cdn.bokeh.org/bokeh/release/bokeh-tables-3.3.4.min.js\", \"https://cdn.bokeh.org/bokeh/release/bokeh-mathjax-3.3.4.min.js\"];\n  const css_urls = [];\n\n  const inline_js = [    function(Bokeh) {\n      Bokeh.set_log_level(\"info\");\n    },\nfunction(Bokeh) {\n    }\n  ];\n\n  function run_inline_js() {\n    if (root.Bokeh !== undefined || force === true) {\n          for (let i = 0; i < inline_js.length; i++) {\n      inline_js[i].call(root, root.Bokeh);\n    }\nif (force === true) {\n        display_loaded();\n      }} else if (Date.now() < root._bokeh_timeout) {\n      setTimeout(run_inline_js, 100);\n    } else if (!root._bokeh_failed_load) {\n      console.log(\"Bokeh: BokehJS failed to load within specified timeout.\");\n      root._bokeh_failed_load = true;\n    } else if (force !== true) {\n      const cell = $(document.getElementById(\"b51142ef-b6fc-470a-8410-95a2cdf90b8d\")).parents('.cell').data().cell;\n      cell.output_area.append_execute_result(NB_LOAD_WARNING)\n    }\n  }\n\n  if (root._bokeh_is_loading === 0) {\n    console.debug(\"Bokeh: BokehJS loaded, going straight to plotting\");\n    run_inline_js();\n  } else {\n    load_libs(css_urls, js_urls, function() {\n      console.debug(\"Bokeh: BokehJS plotting callback run at\", now());\n      run_inline_js();\n    });\n  }\n}(window));"
     },
     "metadata": {},
     "output_type": "display_data"
    }
   ],
   "source": [
    "import pandas as pd\n",
    "import numpy as np\n",
    "import seaborn as sns\n",
    "import matplotlib\n",
    "import matplotlib.pyplot as plt\n",
    "from peakutils import indexes\n",
    "from  scipy.signal import find_peaks as fp\n",
    "\n",
    "from bokeh.plotting import figure , show\n",
    "\n",
    "from bokeh.io import output_notebook\n",
    "from bokeh.models import LabelSet\n",
    "\n",
    "output_notebook()\n"
   ]
  },
  {
   "cell_type": "markdown",
   "id": "5f0a7a6f-2747-45ca-963c-556323c02bfe",
   "metadata": {},
   "source": [
    "Now lets , import an .csv file , so that we can interact with the data\n",
    "\n",
    "Line [3] , basically we have created a variable called as \"spectra_data\" , and we have used pd.read_csv function , to read the content from the .csv file. Here as mentioned earlier , we are selecting a function called as read_csv from the library Pandas , which has an alias \"pd\"\n",
    "\n",
    "Now , after just typing the variable name in line below , it will print the content of the variable , which has an content of the .csv file. \n",
    "\n",
    "Please NOTE  , there are two ways 1) Copy the .csv file in your project directory , as what i have done , and then you can simply type the name of csv file with it's extension 'Spectra Data.csv' , to display the data , or else 2) Let the .csv file , be at any location on your drive , and then you can give it ,  its absolute path of the file location. eg :- 'C:/Windows/.. /Spectra Data.csv'\n",
    "\n",
    "Both works , exactly the same , although i prefer (1) - as it helps with file organisation\n",
    "\n",
    "Also , my data in the .csv format is starting from row 0 and endinging at row 23430 , now if in your case , you have to skip some rows , because of some headers or some junk information , you can use \"eg :- skiprows = 3 \" , this will slip the data for row 3 and above."
   ]
  },
  {
   "cell_type": "code",
   "execution_count": 3,
   "id": "f62f8a36-532b-4e94-a7b3-10be9aa54af1",
   "metadata": {},
   "outputs": [
    {
     "data": {
      "text/html": [
       "<div>\n",
       "<style scoped>\n",
       "    .dataframe tbody tr th:only-of-type {\n",
       "        vertical-align: middle;\n",
       "    }\n",
       "\n",
       "    .dataframe tbody tr th {\n",
       "        vertical-align: top;\n",
       "    }\n",
       "\n",
       "    .dataframe thead th {\n",
       "        text-align: right;\n",
       "    }\n",
       "</style>\n",
       "<table border=\"1\" class=\"dataframe\">\n",
       "  <thead>\n",
       "    <tr style=\"text-align: right;\">\n",
       "      <th></th>\n",
       "      <th>wavelength</th>\n",
       "      <th>CR210LA</th>\n",
       "      <th>CR240LA</th>\n",
       "      <th>CR300LA</th>\n",
       "      <th>CR460LA</th>\n",
       "      <th>CR570CP</th>\n",
       "      <th>CR440Y</th>\n",
       "      <th>CR700Y</th>\n",
       "      <th>CR1000Y</th>\n",
       "      <th>HR660Y</th>\n",
       "    </tr>\n",
       "  </thead>\n",
       "  <tbody>\n",
       "    <tr>\n",
       "      <th>0</th>\n",
       "      <td>180.000000</td>\n",
       "      <td>0.0</td>\n",
       "      <td>0.0</td>\n",
       "      <td>0.0</td>\n",
       "      <td>0.0</td>\n",
       "      <td>0.0</td>\n",
       "      <td>0.0</td>\n",
       "      <td>0.0</td>\n",
       "      <td>0.0</td>\n",
       "      <td>0.0</td>\n",
       "    </tr>\n",
       "    <tr>\n",
       "      <th>1</th>\n",
       "      <td>180.033333</td>\n",
       "      <td>0.0</td>\n",
       "      <td>0.0</td>\n",
       "      <td>0.0</td>\n",
       "      <td>0.0</td>\n",
       "      <td>0.0</td>\n",
       "      <td>0.0</td>\n",
       "      <td>0.0</td>\n",
       "      <td>0.0</td>\n",
       "      <td>0.0</td>\n",
       "    </tr>\n",
       "    <tr>\n",
       "      <th>2</th>\n",
       "      <td>180.066667</td>\n",
       "      <td>0.0</td>\n",
       "      <td>0.0</td>\n",
       "      <td>0.0</td>\n",
       "      <td>0.0</td>\n",
       "      <td>0.0</td>\n",
       "      <td>0.0</td>\n",
       "      <td>0.0</td>\n",
       "      <td>0.0</td>\n",
       "      <td>0.0</td>\n",
       "    </tr>\n",
       "    <tr>\n",
       "      <th>3</th>\n",
       "      <td>180.100000</td>\n",
       "      <td>0.0</td>\n",
       "      <td>0.0</td>\n",
       "      <td>0.0</td>\n",
       "      <td>0.0</td>\n",
       "      <td>0.0</td>\n",
       "      <td>0.0</td>\n",
       "      <td>0.0</td>\n",
       "      <td>0.0</td>\n",
       "      <td>0.0</td>\n",
       "    </tr>\n",
       "    <tr>\n",
       "      <th>4</th>\n",
       "      <td>180.133333</td>\n",
       "      <td>0.0</td>\n",
       "      <td>0.0</td>\n",
       "      <td>0.0</td>\n",
       "      <td>0.0</td>\n",
       "      <td>0.0</td>\n",
       "      <td>0.0</td>\n",
       "      <td>0.0</td>\n",
       "      <td>0.0</td>\n",
       "      <td>0.0</td>\n",
       "    </tr>\n",
       "    <tr>\n",
       "      <th>...</th>\n",
       "      <td>...</td>\n",
       "      <td>...</td>\n",
       "      <td>...</td>\n",
       "      <td>...</td>\n",
       "      <td>...</td>\n",
       "      <td>...</td>\n",
       "      <td>...</td>\n",
       "      <td>...</td>\n",
       "      <td>...</td>\n",
       "      <td>...</td>\n",
       "    </tr>\n",
       "    <tr>\n",
       "      <th>23426</th>\n",
       "      <td>960.866667</td>\n",
       "      <td>0.0</td>\n",
       "      <td>0.0</td>\n",
       "      <td>0.0</td>\n",
       "      <td>0.0</td>\n",
       "      <td>0.0</td>\n",
       "      <td>0.0</td>\n",
       "      <td>0.0</td>\n",
       "      <td>0.0</td>\n",
       "      <td>0.0</td>\n",
       "    </tr>\n",
       "    <tr>\n",
       "      <th>23427</th>\n",
       "      <td>960.900000</td>\n",
       "      <td>0.0</td>\n",
       "      <td>0.0</td>\n",
       "      <td>0.0</td>\n",
       "      <td>0.0</td>\n",
       "      <td>0.0</td>\n",
       "      <td>0.0</td>\n",
       "      <td>0.0</td>\n",
       "      <td>0.0</td>\n",
       "      <td>0.0</td>\n",
       "    </tr>\n",
       "    <tr>\n",
       "      <th>23428</th>\n",
       "      <td>960.933333</td>\n",
       "      <td>0.0</td>\n",
       "      <td>0.0</td>\n",
       "      <td>0.0</td>\n",
       "      <td>0.0</td>\n",
       "      <td>0.0</td>\n",
       "      <td>0.0</td>\n",
       "      <td>0.0</td>\n",
       "      <td>0.0</td>\n",
       "      <td>0.0</td>\n",
       "    </tr>\n",
       "    <tr>\n",
       "      <th>23429</th>\n",
       "      <td>960.966667</td>\n",
       "      <td>0.0</td>\n",
       "      <td>0.0</td>\n",
       "      <td>0.0</td>\n",
       "      <td>0.0</td>\n",
       "      <td>0.0</td>\n",
       "      <td>0.0</td>\n",
       "      <td>0.0</td>\n",
       "      <td>0.0</td>\n",
       "      <td>0.0</td>\n",
       "    </tr>\n",
       "    <tr>\n",
       "      <th>23430</th>\n",
       "      <td>961.000000</td>\n",
       "      <td>0.0</td>\n",
       "      <td>0.0</td>\n",
       "      <td>0.0</td>\n",
       "      <td>0.0</td>\n",
       "      <td>0.0</td>\n",
       "      <td>0.0</td>\n",
       "      <td>0.0</td>\n",
       "      <td>0.0</td>\n",
       "      <td>0.0</td>\n",
       "    </tr>\n",
       "  </tbody>\n",
       "</table>\n",
       "<p>23431 rows × 10 columns</p>\n",
       "</div>"
      ],
      "text/plain": [
       "       wavelength  CR210LA  CR240LA  CR300LA  CR460LA  CR570CP  CR440Y  \\\n",
       "0      180.000000      0.0      0.0      0.0      0.0      0.0     0.0   \n",
       "1      180.033333      0.0      0.0      0.0      0.0      0.0     0.0   \n",
       "2      180.066667      0.0      0.0      0.0      0.0      0.0     0.0   \n",
       "3      180.100000      0.0      0.0      0.0      0.0      0.0     0.0   \n",
       "4      180.133333      0.0      0.0      0.0      0.0      0.0     0.0   \n",
       "...           ...      ...      ...      ...      ...      ...     ...   \n",
       "23426  960.866667      0.0      0.0      0.0      0.0      0.0     0.0   \n",
       "23427  960.900000      0.0      0.0      0.0      0.0      0.0     0.0   \n",
       "23428  960.933333      0.0      0.0      0.0      0.0      0.0     0.0   \n",
       "23429  960.966667      0.0      0.0      0.0      0.0      0.0     0.0   \n",
       "23430  961.000000      0.0      0.0      0.0      0.0      0.0     0.0   \n",
       "\n",
       "       CR700Y  CR1000Y  HR660Y  \n",
       "0         0.0      0.0     0.0  \n",
       "1         0.0      0.0     0.0  \n",
       "2         0.0      0.0     0.0  \n",
       "3         0.0      0.0     0.0  \n",
       "4         0.0      0.0     0.0  \n",
       "...       ...      ...     ...  \n",
       "23426     0.0      0.0     0.0  \n",
       "23427     0.0      0.0     0.0  \n",
       "23428     0.0      0.0     0.0  \n",
       "23429     0.0      0.0     0.0  \n",
       "23430     0.0      0.0     0.0  \n",
       "\n",
       "[23431 rows x 10 columns]"
      ]
     },
     "execution_count": 3,
     "metadata": {},
     "output_type": "execute_result"
    }
   ],
   "source": [
    "spectra_data = pd.read_csv(r'Spectra Data.csv', skiprows=0)\n",
    "spectra_data"
   ]
  },
  {
   "cell_type": "markdown",
   "id": "7756f741-4fa2-42ed-9f2c-7f9d9738feeb",
   "metadata": {},
   "source": [
    "In the data above , we see 'spectra_data' has lot of information contained in itself , in column 1 - Wavelength , and from column 2 to column 10 , we see Intensities of different material samples. \n",
    "\n",
    "-------------------------------------------------------------------------------------------------------\n",
    "Now , In my alogrithm i choosed to interact with one material sample at a time. if.. else loop is used by me to choose between different material samples\n",
    "\n",
    "---------------------------------------------------------------------------------------------------------------------\n",
    "In the first line (sample = 'CR210LA') , here in '' , type any material sample of your choice , which you choose to interact with, here in a variable called as 'sample' , has a stored string value 'CR210LA'\n",
    "\n",
    "---------------------------------------------------------------------------------------------------------------------------\n",
    "# Now I will explain one condition in detail: \n",
    "\n",
    "if sample =='CR210LA': \n",
    "    Raw_Sample_Spectra = spectra_data.filter(['wavelength','CR210LA'],axis=1)\n",
    "    Sample_Spectra = Raw_Sample_Spectra.rename({'CR210LA':'Intensities'},axis=1)\n",
    "    plt.plot(spectra_data.wavelength,spectra_data.CR210LA)\n",
    "    \n",
    "----------------------------------------------------------------------------------------------------------------------------\n",
    "In line [3] Now , Here i am comparing the string value stored in sample , with a fixed string 'CR210LA' , if this condition is true , the code intended after the line will execute and then it will exit the loop, if the condition is false , it will check the next elif statement , until the condition is true. \n",
    "If , for some situation , no condition is true , it will execute , whatever is written in the else statement.\n",
    "\n",
    "In line [3],Now , since , 'spectra_data' has a lot of information , and i just want to interact with the material sample of choice , its essentially to filter out the content , which we dont want (eg: other material sample intensities.)\n",
    "\n",
    "In line [3],From the spectra_data variable , i am selecting just the content of the column 1 - wavelength and content of column 2 - CR210LA , and i am storing this data in new variable 'Raw_Sample_Spectra'. \n",
    "\n",
    "Now , From  this variable of 'Raw_Sample_Sepctra' , has two columns , Column 1 - Wavelength and Column 2 - CR210LA , Similarly as per different value in variable 'sample' , Column 2 will have different will have different name like CR240LA , CR1000Y , HR660Y etc. \n",
    "\n",
    "Now , a better idea would be to rename this columns to name to such as like \"Intensities\" , so that it would be easier for us to interact with.\n",
    "\n",
    "In line [3],This is what exactly is done , and the data with column name 'Wavelength' and 'Intensities' are stored in variable 'Sample_Spectra'\n",
    "\n",
    "In line [3],plt.plot(spectra_data.wavelength,spectra_data.CR210LA) -> This will create a line plot , with x axis = wavelngth and Y axis = Intensities.\n"
   ]
  },
  {
   "cell_type": "code",
   "execution_count": 4,
   "id": "3ff93e69-f92a-48f1-8631-3b8b1cc20a12",
   "metadata": {},
   "outputs": [
    {
     "name": "stdout",
     "output_type": "stream",
     "text": [
      "       wavelength  Intensities\n",
      "0      180.000000          0.0\n",
      "1      180.033333          0.0\n",
      "2      180.066667          0.0\n",
      "3      180.100000          0.0\n",
      "4      180.133333          0.0\n",
      "...           ...          ...\n",
      "23426  960.866667          0.0\n",
      "23427  960.900000          0.0\n",
      "23428  960.933333          0.0\n",
      "23429  960.966667          0.0\n",
      "23430  961.000000          0.0\n",
      "\n",
      "[23431 rows x 2 columns]\n"
     ]
    },
    {
     "data": {
      "image/png": "[encoded data removed]",
      "text/plain": [
       "<Figure size 640x480 with 1 Axes>"
      ]
     },
     "metadata": {},
     "output_type": "display_data"
    }
   ],
   "source": [
    "sample = 'CR210LA' # ENTER YOUR SAMPLE OF CHOICE\n",
    "if sample =='CR210LA':\n",
    "    Raw_Sample_Spectra = spectra_data.filter(['wavelength','CR210LA'],axis=1)\n",
    "    Sample_Spectra = Raw_Sample_Spectra.rename({'CR210LA':'Intensities'},axis=1)\n",
    "    plt.plot(spectra_data.wavelength,spectra_data.CR210LA)\n",
    "elif sample =='CR240LA':\n",
    "    Raw_Sample_Spectra = spectra_data.filter(['wavelength','CR240LA'],axis=1)\n",
    "    Sample_Spectra = Raw_Sample_Spectra.rename({'CR240LA':'Intensities'},axis=1)\n",
    "    plt.plot(spectra_data.wavelength,spectra_data.CR240LA)\n",
    "elif sample =='CR300LA':\n",
    "    Raw_Sample_Spectra = spectra_data.filter(['wavelength','CR300LA'],axis=1)\n",
    "    Sample_Spectra = Raw_Sample_Spectra.rename({'CR300LA':'Intensities'},axis=1)\n",
    "    plt.plot(spectra_data.wavelength,spectra_data.CR300LA)\n",
    "elif sample =='CR460LA':\n",
    "    Raw_Sample_Spectra = spectra_data.filter(['wavelength','CR460LA'],axis=1)\n",
    "    Sample_Spectra = Raw_Sample_Spectra.rename({'CR460LA':'Intensities'},axis=1)\n",
    "    plt.plot(spectra_data.wavelength,spectra_data.CR460LA)\n",
    "elif sample =='CR570CP':\n",
    "    Raw_Sample_Spectra = spectra_data.filter(['wavelength','CR570CP'],axis=1)\n",
    "    Sample_Spectra = Raw_Sample_Spectra.rename({'CR570CP':'Intensities'},axis=1)\n",
    "    plt.plot(spectra_data.wavelength,spectra_data.CR570CP)\n",
    "elif sample =='CR440Y':\n",
    "    Raw_Sample_Spectra = spectra_data.filter(['wavelength','CR440Y'],axis=1)\n",
    "    Sample_Spectra = Raw_Sample_Spectra.rename({'CR440Y':'Intensities'},axis=1)\n",
    "    plt.plot(spectra_data.wavelength,spectra_data.CR440Y)\n",
    "elif sample =='CR700Y':\n",
    "    Raw_Sample_Spectra = spectra_data.filter(['wavelength','CR700Y'],axis=1)\n",
    "    Sample_Spectra = Raw_Sample_Spectra.rename({'CR700Y':'Intensities'},axis=1)\n",
    "    plt.plot(spectra_data.wavelength,spectra_data.CR700Y)\n",
    "elif sample =='CR1000Y':\n",
    "    Raw_Sample_Spectra = spectra_data.filter(['wavelength','CR1000Y'],axis=1)\n",
    "    Sample_Spectra = Raw_Sample_Spectra.rename({'CR1000Y':'Intensities'},axis=1)\n",
    "    plt.plot(spectra_data.wavelength,spectra_data.CR1000Y)\n",
    "elif sample =='HR660Y':\n",
    "    Raw_Sample_Spectra = spectra_data.filter(['wavelength','HR660Y'],axis=1)\n",
    "    Sample_Spectra = Raw_Sample_Spectra.rename({'HR660Y':'Intensities'},axis=1)\n",
    "    plt.plot(spectra_data.wavelength,spectra_data.HR660Y)\n",
    "elif sample == '':\n",
    "    print(\"Please Enter Sample\")\n",
    "else:\n",
    "    print (\"Invalid Element Sample\")\n",
    "\n",
    "print(Sample_Spectra)\n",
    "plt.show()\n"
   ]
  },
  {
   "cell_type": "markdown",
   "id": "ac899085-cede-49e5-9eaa-e29e6f5f69d3",
   "metadata": {
    "editable": true,
    "slideshow": {
     "slide_type": ""
    },
    "tags": []
   },
   "source": [
    "Now , as we see in the figure avove , the spectral information of  'CR201LA' , may have different element composition , like Fe , Al ,Cr , Cu.  \n",
    "\n",
    "My Goal of this tutorial is to identify the Peaks for the element like Al, Cr , Cu , Fe , Mn , Mo , Ni , Si from the above spectral information. \n",
    "Ofcourse , Quantitative analysis would be difficult , but we can try to do Qualitative analysis.\n",
    "\n",
    "In line [4] , Here, Also i will , try to focus on one element at a time thats why , i have used if..elif..else statement. \n",
    "\n",
    "Now , i have visited the https://physics.nist.gov/PhysRefData/ASD/LIBS/libs-form.html  , website one of the best LIBS database to get information on element spectra. \n",
    "\n",
    "I have searched the spectra of each element , from the website and the Spectra Information of the elemnt is stored in /NIST/ folder in the directory in their specific .csv format , example: Al.csv will have all the spectral information for Aluminium \n",
    "\n"
   ]
  },
  {
   "cell_type": "code",
   "execution_count": 5,
   "id": "dc059679-4d8e-4852-8196-4d5d2b9110e9",
   "metadata": {
    "editable": true,
    "slideshow": {
     "slide_type": ""
    },
    "tags": []
   },
   "outputs": [
    {
     "name": "stdout",
     "output_type": "stream",
     "text": [
      "     Wavelength       Spectra\n",
      "0        170.91  6.110000e-07\n",
      "1        170.96  1.830000e-05\n",
      "2           171  2.460000e-04\n",
      "3        171.04  2.960000e-03\n",
      "4        171.08  3.210000e-02\n",
      "...         ...           ...\n",
      "7618     966.21  1.050000e-16\n",
      "7619     966.26  5.710000e-17\n",
      "7620      966.3  3.490000e-17\n",
      "7621     966.34  2.130000e-17\n",
      "7622     966.38  1.290000e-17\n",
      "\n",
      "[7623 rows x 2 columns]\n"
     ]
    },
    {
     "data": {
      "image/png": "[encoded data removed]",
      "text/plain": [
       "<Figure size 640x480 with 1 Axes>"
      ]
     },
     "metadata": {},
     "output_type": "display_data"
    }
   ],
   "source": [
    "element = 'Al' # ENTER YOUR ELEMENT OF \n",
    "\n",
    "if element =='Al':\n",
    "    Reference_Spectra = pd.read_csv(r\"NIST/Al.csv\" ,encoding = 'windows - 1252')\n",
    "  \n",
    "elif element =='Cr':\n",
    "    Reference_Spectra = pd.read_csv(r\"NIST/Cr.csv\" , encoding = 'windows - 1252')\n",
    "    \n",
    "elif element =='Cu':\n",
    "    Reference_Spectra = pd.read_csv(r\"NIST/Cu.csv\" , encoding = 'windows - 1252')\n",
    "    \n",
    "elif element =='Fe':\n",
    "    Reference_Spectra = pd.read_csv(r\"NIST/Fe.csv\" , encoding = 'windows - 1252')\n",
    "    \n",
    "elif element =='Mn':\n",
    "    Reference_Spectra = pd.read_csv(r\"NIST/Mn.csv\" , encoding = 'windows - 1252')\n",
    "    \n",
    "elif element =='Mo':\n",
    "    Reference_Spectra = pd.read_csv(r\"NIST/Mo.csv\" , encoding = 'windows - 1252')\n",
    "    \n",
    "elif element =='Ni':\n",
    "    Reference_Spectra = pd.read_csv(r\"NIST/Ni.csv\" , encoding = 'windows - 1252')\n",
    "    \n",
    "elif element =='Si':\n",
    "    Reference_Spectra = pd.read_csv(r\"NIST/Si.csv\" , encoding = 'windows - 1252')\n",
    "\n",
    "\n",
    "    \n",
    "elif element == '':\n",
    "    print(\"Please Enter Element\")\n",
    "    \n",
    "else:\n",
    "    print (\"Invalid Element Entered\")\n",
    "\n",
    "print(Reference_Spectra)\n",
    "plt.plot(Reference_Spectra.Wavelength , Reference_Spectra.Spectra)\n",
    "plt.show()"
   ]
  },
  {
   "cell_type": "markdown",
   "id": "1292293e-ab6a-4745-b570-e7496c5f0c4b",
   "metadata": {},
   "source": [
    "# 1:- APPROACH FOR PEAK DETECTION (Peak_Util library)"
   ]
  },
  {
   "cell_type": "markdown",
   "id": "be7ce344-2499-4558-a5a3-2a50e7a7315a",
   "metadata": {},
   "source": [
    "Now, uptil now , we have selected the Material Sample ,which we want to Interact with and the data is stored in variable \"Sample_Spectra\"\n",
    "Also , we have choosen the element , which we want to detect in this 'Sample_Spectra' , and the spectral information for that element is stored in variable \"Reference_Spectra\" \n",
    "\n",
    "Now , from this 'Reference_Spectra' , Let's try to get all the Peaks this Spectra has\n",
    "\n",
    "I have used a library called as Peak_Utils \n",
    "\n",
    "https://peakutils.readthedocs.io/en/latest/reference.html\n",
    "\n",
    "The detail of the function is given below. \n",
    "\n",
    "---------------------------------------------------------------------------------------------------------------------------"
   ]
  },
  {
   "cell_type": "markdown",
   "id": "b8c65c23-0f57-40e0-a703-8978c7b52b1f",
   "metadata": {},
   "source": [
    "---------------------------------------------------------------------------------------------------------------------------\n",
    "peakutils.peak.indexes(y, thres=0.3, min_dist=1, thres_abs=False)\n",
    "\n",
    "Finds the numeric index of the peaks in y by taking its first-order difference. By using thres and min_dist parameters, it is possible to reduce the number of detected peaks. y must be signed.\n",
    "\n",
    "Parameters:\t\n",
    "\n",
    "y (ndarray (signed)) – 1D amplitude data to search for peaks.\n",
    "\n",
    "thres (float between [0., 1.]) – Normalized threshold. Only the peaks with an amplitude higher than the threshold will be detected. Percentage as compared to the highest peak, Everything above the \"thres\" value will be detected\n",
    "\n",
    "min_dist (int) – Minimum distance between each detected peak. The peak with the highest amplitude is preferred to satisfy this constraint.\n",
    "\n",
    "Returns:\t\n",
    "An array containing the numeric indexes of the peaks that were detected. When using with Pandas DataFrames, iloc should be used to access the values at the returned positions.\n",
    "\n",
    "----------------------------------------------------------------------------------------------------------------------------\n"
   ]
  },
  {
   "cell_type": "markdown",
   "id": "3cfc1ac2-cdb5-4fea-b968-b4a32be155c8",
   "metadata": {},
   "source": [
    "NOTE :- Now if we keep the minimum_distance_1 = 0 and threshold_1 = 0 , we get all the peaks in the spectra , Tuning of these parameter are most important as per your signal.\n",
    "\n",
    "Setting the value in parameter 'minimum_distance_1' , will allows to skip the peaks , which are very close to each other. \n",
    "Setting the value in parameter 'threshold_1', will allows to skip the peaks with low intensity and also seperate the Peaks , with that of noise signal. \n",
    "\n",
    "So , its important to choose the value's as per your convenience \n",
    "\n",
    "----------------------------------------------------------------------------------------------------------------------------"
   ]
  },
  {
   "cell_type": "code",
   "execution_count": 6,
   "id": "ef8e082c-14c2-4d24-85fe-62a1b7b66ffb",
   "metadata": {
    "scrolled": true
   },
   "outputs": [
    {
     "data": {
      "text/plain": [
       "array([  28,   37,  119,  299,  309,  551, 1003, 1089, 1102, 1300, 1314,\n",
       "       1485, 1871, 1896, 2493, 2535])"
      ]
     },
     "execution_count": 6,
     "metadata": {},
     "output_type": "execute_result"
    }
   ],
   "source": [
    "minimum_distance_1 = 5  #Since , the Spectral Resolution of the Handheld LIBS Device is much smaller , We can keep this parameter as 0\n",
    "threshold_1 = 0.05 #looking for a value above 0.5% , so that Noise and  Peak with very low Intensities can be ignored \n",
    "\n",
    "Reference_Peak = indexes(Reference_Spectra.Spectra , min_dist=minimum_distance_1 , thres=threshold_1) \n",
    "Reference_Peak #Return the indices in the form of the list"
   ]
  },
  {
   "cell_type": "code",
   "execution_count": 7,
   "id": "894d8bc8-4be1-4c84-b037-d8ecf80d8aba",
   "metadata": {},
   "outputs": [
    {
     "data": {
      "text/html": [
       "<div>\n",
       "<style scoped>\n",
       "    .dataframe tbody tr th:only-of-type {\n",
       "        vertical-align: middle;\n",
       "    }\n",
       "\n",
       "    .dataframe tbody tr th {\n",
       "        vertical-align: top;\n",
       "    }\n",
       "\n",
       "    .dataframe thead th {\n",
       "        text-align: right;\n",
       "    }\n",
       "</style>\n",
       "<table border=\"1\" class=\"dataframe\">\n",
       "  <thead>\n",
       "    <tr style=\"text-align: right;\">\n",
       "      <th></th>\n",
       "      <th>Wavelength</th>\n",
       "      <th>Spectra</th>\n",
       "    </tr>\n",
       "  </thead>\n",
       "  <tbody>\n",
       "    <tr>\n",
       "      <th>28</th>\n",
       "      <td>172.1</td>\n",
       "      <td>7.880000e+09</td>\n",
       "    </tr>\n",
       "    <tr>\n",
       "      <th>37</th>\n",
       "      <td>172.49</td>\n",
       "      <td>1.170000e+10</td>\n",
       "    </tr>\n",
       "    <tr>\n",
       "      <th>119</th>\n",
       "      <td>176.4</td>\n",
       "      <td>8.450000e+09</td>\n",
       "    </tr>\n",
       "    <tr>\n",
       "      <th>299</th>\n",
       "      <td>185.79</td>\n",
       "      <td>1.450000e+09</td>\n",
       "    </tr>\n",
       "    <tr>\n",
       "      <th>309</th>\n",
       "      <td>186.22</td>\n",
       "      <td>2.190000e+09</td>\n",
       "    </tr>\n",
       "    <tr>\n",
       "      <th>551</th>\n",
       "      <td>199.06</td>\n",
       "      <td>1.010000e+09</td>\n",
       "    </tr>\n",
       "    <tr>\n",
       "      <th>1003</th>\n",
       "      <td>221</td>\n",
       "      <td>8.320000e+08</td>\n",
       "    </tr>\n",
       "    <tr>\n",
       "      <th>1089</th>\n",
       "      <td>226.35</td>\n",
       "      <td>7.660000e+08</td>\n",
       "    </tr>\n",
       "    <tr>\n",
       "      <th>1102</th>\n",
       "      <td>226.91</td>\n",
       "      <td>1.330000e+09</td>\n",
       "    </tr>\n",
       "    <tr>\n",
       "      <th>1300</th>\n",
       "      <td>236.73</td>\n",
       "      <td>9.360000e+08</td>\n",
       "    </tr>\n",
       "    <tr>\n",
       "      <th>1314</th>\n",
       "      <td>237.32</td>\n",
       "      <td>1.880000e+09</td>\n",
       "    </tr>\n",
       "    <tr>\n",
       "      <th>1485</th>\n",
       "      <td>257.52</td>\n",
       "      <td>9.380000e+08</td>\n",
       "    </tr>\n",
       "    <tr>\n",
       "      <th>1871</th>\n",
       "      <td>308.2</td>\n",
       "      <td>1.430000e+09</td>\n",
       "    </tr>\n",
       "    <tr>\n",
       "      <th>1896</th>\n",
       "      <td>309.26</td>\n",
       "      <td>2.940000e+09</td>\n",
       "    </tr>\n",
       "    <tr>\n",
       "      <th>2493</th>\n",
       "      <td>394.38</td>\n",
       "      <td>8.960000e+08</td>\n",
       "    </tr>\n",
       "    <tr>\n",
       "      <th>2535</th>\n",
       "      <td>396.16</td>\n",
       "      <td>1.760000e+09</td>\n",
       "    </tr>\n",
       "  </tbody>\n",
       "</table>\n",
       "</div>"
      ],
      "text/plain": [
       "     Wavelength       Spectra\n",
       "28        172.1  7.880000e+09\n",
       "37       172.49  1.170000e+10\n",
       "119       176.4  8.450000e+09\n",
       "299      185.79  1.450000e+09\n",
       "309      186.22  2.190000e+09\n",
       "551      199.06  1.010000e+09\n",
       "1003        221  8.320000e+08\n",
       "1089     226.35  7.660000e+08\n",
       "1102     226.91  1.330000e+09\n",
       "1300     236.73  9.360000e+08\n",
       "1314     237.32  1.880000e+09\n",
       "1485     257.52  9.380000e+08\n",
       "1871      308.2  1.430000e+09\n",
       "1896     309.26  2.940000e+09\n",
       "2493     394.38  8.960000e+08\n",
       "2535     396.16  1.760000e+09"
      ]
     },
     "execution_count": 7,
     "metadata": {},
     "output_type": "execute_result"
    }
   ],
   "source": [
    "Selected_Reference_Spectra = Reference_Spectra.iloc[Reference_Peak] #from the indices , lets try to find the Wavelength and Spectra. \n",
    "\n",
    "Selected_Reference_Spectra\n"
   ]
  },
  {
   "cell_type": "markdown",
   "id": "fe947ffc-aed5-4136-9c02-131443ed2f32",
   "metadata": {},
   "source": [
    "# Here , I am trying to plot the detected Peaks\n",
    "\n",
    "I Have plotted the 'Line Plot' for the Reference_Spectra , from the matplotlib library. \n",
    "\n",
    "And , I have also plotted a 'scatter plot' for the Refrecence_Peak  , from the matplotlib\n"
   ]
  },
  {
   "cell_type": "code",
   "execution_count": null,
   "id": "b72fdfd2-19f7-45dc-9391-fce4a9a8e318",
   "metadata": {
    "scrolled": true
   },
   "outputs": [
    {
     "data": {
      "text/plain": [
       "<matplotlib.collections.PathCollection at 0x12e989dc0>"
      ]
     },
     "execution_count": 8,
     "metadata": {},
     "output_type": "execute_result"
    }
   ],
   "source": [
    "plt.plot(Reference_Spectra.Wavelength,Reference_Spectra.Spectra) #plot a nomral ,x ,y plot)\n",
    "plt.scatter(Selected_Reference_Spectra.Wavelength,Selected_Reference_Spectra.Spectra)"
   ]
  },
  {
   "cell_type": "markdown",
   "id": "9908c10c-ed35-4883-9e1f-4aba73775d7c",
   "metadata": {},
   "source": [
    "# Now , lets try to create an list , lets fill the list , with all the detected peaks wavelengths. "
   ]
  },
  {
   "cell_type": "code",
   "execution_count": null,
   "id": "35d58bb0-090b-41fb-bbd6-7ffe0e968985",
   "metadata": {},
   "outputs": [],
   "source": [
    "\n",
    "Refernce_Spectra_Wavelength = Reference_Spectra.iloc[Reference_Peak]\n",
    "Reference_Spectra_List = []\n",
    "\n",
    "for iteam in Refernce_Spectra_Wavelength.Wavelength:\n",
    "    iteam = float(iteam)\n",
    "    if iteam > 188.0:        #Only those iteam will be selected , whose wavelength would be greater than 188 nm ,  as our Handheld LIBS range starts from 188nm\n",
    "        Reference_Spectra_List.append(iteam)\n",
    "    \n",
    "print(Reference_Spectra_List)\n",
    "Length_Reference_Spectra_List = (len(Reference_Spectra_List))   #Used for Calculating Percentage Detection"
   ]
  },
  {
   "cell_type": "markdown",
   "id": "54ed8819-b495-4457-a9b1-94aa35fd5256",
   "metadata": {},
   "source": [
    "Now , we have a list of all wavelengths , detected for Peaks in Reference Spectra , Now for each element lets try to create a min and max of each element in the list. \n",
    "\n",
    "'Reference_Spectra_Min_Max' is list consisting of a sublist , the sublist have a min and max value or a range of element in the list.\n",
    "\n",
    "Now , for the two wavelengths , to exactly match with each other , is going to be difficult because of the spectral resultion of the sensor, It's always better , to find a span or range for wavelength , and to look for peak in that span or range, which would give us more probability in detecting a peak. \n",
    "\n",
    "Eg : - A peak of 199.06 nm can be found in between [ 199.04  and 199.08] , this gives us more room to find a wavelength \n",
    "\n",
    "-------------------------------------------------------------------------------------------------------------------------------"
   ]
  },
  {
   "cell_type": "markdown",
   "id": "78d2b627-da86-4c3d-8f2f-eb310ed707c6",
   "metadata": {},
   "source": [
    "# 0.0333 is the sprectral resolution of the Handheld LIBS Device\n",
    "\n",
    "Now , the Spectral Resolution of Data from NIST Website is 0.3 ,while the Spectral Resolution od Handheld LIBS Device is 0.03. \n",
    "\n",
    "So , I am creating a range , in Reference Spectrum , of where the Signal might be expected , for the Handheld LIBS Device.\n"
   ]
  },
  {
   "cell_type": "code",
   "execution_count": null,
   "id": "c9c9d819-9514-44f7-87ce-c4a3a14e3d2d",
   "metadata": {},
   "outputs": [],
   "source": [
    "Reference_Spectra_Min_Max = []\n",
    "\n",
    "Reference_Spectra_Min_Max = [[num - 0.0333 , num + 0.0333] for num in Reference_Spectra_List]     \n",
    "    \n",
    "print(Reference_Spectra_Min_Max)"
   ]
  },
  {
   "cell_type": "markdown",
   "id": "bc01fe11-37cb-41c4-95b3-e65834817766",
   "metadata": {},
   "source": [
    "Once we have got the range for the Reference Spectra , where the Element  Spectra can be expected. Now let's try to find all the peak of the 'Sample_Spectra' , Here also tuning of the paramters are important as [er you analysis\n",
    "-------------------------------------------------------------------------------------------------------------------------------"
   ]
  },
  {
   "cell_type": "code",
   "execution_count": null,
   "id": "0f9cdede-da9f-440a-9ba3-46fbb74ac646",
   "metadata": {},
   "outputs": [],
   "source": [
    "# METHOD 1 - PeakUtils\n",
    "\n",
    "# minimum_distance_2 = 0  #Minimum distance between each detected peak. The peak with the highest amplitude is preferred to satisfy this constraint.\n",
    "# threshold_2 = 0.05 #looking for a value above 5% , so that Noise and  Peak with very low Intensities can be ignored, absolute heights considered.\n",
    "\n",
    "# Sample_Peak = indexes(Sample_Spectra.Intensities , min_dist=minimum_distance_2 , thres=threshold_2) \n",
    "# Sample_Peak #Return the indices in the form of the list\n",
    "\n",
    "\n",
    "####################################################################################################################################################\n",
    "\n",
    "#METHOD 2 - Scipy \n",
    "height_2 = None\n",
    "Peak_Prominenace = 800\n",
    "minimum_distance_3 = None   #minimum distance between two peaks\n",
    "\n",
    "Sample_Peak , _ = fp(Sample_Spectra.Intensities,height=height_2,prominence=Peak_Prominenace,distance=minimum_distance_3)\n",
    "Sample_Peak\n",
    "\n"
   ]
  },
  {
   "cell_type": "code",
   "execution_count": null,
   "id": "3f2c3cb6-ac99-450e-bc95-8c61d947a2ee",
   "metadata": {},
   "outputs": [],
   "source": [
    "Selected_Sample_Spectra = Sample_Spectra.iloc[Sample_Peak] \n",
    "Selected_Sample_Spectra"
   ]
  },
  {
   "cell_type": "code",
   "execution_count": null,
   "id": "31528e1b-0a0f-4d68-819e-6cb92254e312",
   "metadata": {},
   "outputs": [],
   "source": [
    "plt.plot(Sample_Spectra.wavelength,Sample_Spectra.Intensities) #plot a nomral ,x ,y plot)\n",
    "plt.scatter(Selected_Sample_Spectra.wavelength,Selected_Sample_Spectra.Intensities)"
   ]
  },
  {
   "cell_type": "markdown",
   "id": "b507873a-df55-41d2-9416-2e99aa8c6129",
   "metadata": {},
   "source": [
    "Now , lets try to create an list , lets fill the list , with all the detected peaks wavelengths of the sample spectra.\n",
    "\n",
    "Remember , Sample Spectra , has all the element within like Al , Fe , Cu , Mn , Mo etc)\n"
   ]
  },
  {
   "cell_type": "code",
   "execution_count": null,
   "id": "abacd7e2-c280-4b3a-a3cd-ca3a2db77154",
   "metadata": {},
   "outputs": [],
   "source": [
    "Sample_Spectra_Wavelength = Sample_Spectra.iloc[Sample_Peak]\n",
    "\n",
    "Sample_Spectra_List = []\n",
    "\n",
    "for iteam in Sample_Spectra_Wavelength.wavelength:\n",
    "    iteam = float(iteam)\n",
    "    Sample_Spectra_List.append(iteam)\n",
    "    \n",
    "print(Sample_Spectra_List)\n"
   ]
  },
  {
   "cell_type": "markdown",
   "id": "0ed2b4a2-0e2e-4e9b-a1f1-ab44c45d38e3",
   "metadata": {},
   "source": [
    "# So far so now , i have two list with me \n",
    "\n",
    "1) Sample_Spectra_List = Containg wavelngths of all Peaks from data of Handheld LIBS device\n",
    "2) Reference_Spectra_Min_Max = Containing a range of wavelength , for all the peak detected in the Reference Sample\n",
    "\n",
    "   "
   ]
  },
  {
   "cell_type": "code",
   "execution_count": null,
   "id": "dc1343d3-2bbd-460b-9181-6f8d5544de7b",
   "metadata": {},
   "outputs": [],
   "source": [
    "print(Sample_Spectra_List)"
   ]
  },
  {
   "cell_type": "code",
   "execution_count": null,
   "id": "48dc5a0e-6348-41b5-a13b-b63d934d3a88",
   "metadata": {},
   "outputs": [],
   "source": [
    "print(Reference_Spectra_Min_Max)"
   ]
  },
  {
   "cell_type": "markdown",
   "id": "94c3a5c9-2634-41c3-a203-0c22c5dfa4fe",
   "metadata": {},
   "source": [
    "# Finally , My  idea is see , if each iteam in (Reference_Spectra_Min_Max) , matches with each element in (Sample_Spectra_List) , and then caluclate the exact matching Percentage \n"
   ]
  },
  {
   "cell_type": "code",
   "execution_count": null,
   "id": "2b6834d7-af69-4f6b-8301-74b358d79f70",
   "metadata": {},
   "outputs": [],
   "source": [
    "plot_spectra_wavelength_list=[]\n",
    "plot_reference_wavelength_list = []\n",
    "count = 0\n",
    "for cell in Reference_Spectra_Min_Max: \n",
    "    for iteam in Sample_Spectra_List:\n",
    "        if iteam >= cell[0] and iteam < cell[1]:\n",
    "            count = count + 1\n",
    "            plot_spectra_wavelength_list.append(iteam)\n",
    "            plot_reference_wavelength_list.append(cell[0] + 0.0333)\n",
    "            \n",
    "print(plot_spectra_wavelength_list)\n",
    "print(plot_reference_wavelength_list)\n",
    "\n",
    "print(count)"
   ]
  },
  {
   "cell_type": "markdown",
   "id": "2e8ee4cc-9af9-4541-bfdf-0c460fae1d1c",
   "metadata": {},
   "source": [
    "# RESULTS"
   ]
  },
  {
   "cell_type": "code",
   "execution_count": null,
   "id": "0907b6eb-3b8c-4346-9401-d9f62d1efaba",
   "metadata": {
    "editable": true,
    "slideshow": {
     "slide_type": ""
    },
    "tags": []
   },
   "outputs": [],
   "source": [
    "percentage = (count / Length_Reference_Spectra_List) * 100\n",
    "percentage\n",
    "\n",
    "print (sample + ' Ananlysis of ' + element + ' was done , and the ' + str(count) +  ' number of spectral lines from the material sample ' + sample + ' matched with the ' + str(Length_Reference_Spectra_List) + ' choosen Reference element of '+ element + ' therefore , we can say' ,  str(percentage) + '%' + ' matched as per the parameters set by the user')"
   ]
  },
  {
   "cell_type": "markdown",
   "id": "b3471536-33aa-474d-8d67-9be6d1fdf52a",
   "metadata": {},
   "source": [
    "Find the Correponding Intensities , for the wavelengths available in \"plot_spectra_wavelength_list\" and also for the wavelengths available in \"plot_refernce_intensities_list\""
   ]
  },
  {
   "cell_type": "code",
   "execution_count": null,
   "id": "031ab3f6-6fb8-4777-b406-bc2cabc198c1",
   "metadata": {
    "editable": true,
    "slideshow": {
     "slide_type": ""
    },
    "tags": []
   },
   "outputs": [],
   "source": [
    "plot_spectra_intensities_list=[]\n",
    "for iteam in plot_spectra_wavelength_list:\n",
    "    Inte = Selected_Sample_Spectra.loc[Selected_Sample_Spectra['wavelength'] == iteam, 'Intensities'].iloc[0]\n",
    "    plot_spectra_intensities_list.append(Inte)\n",
    "print(plot_spectra_intensities_list)\n",
    "\n"
   ]
  },
  {
   "cell_type": "markdown",
   "id": "2b7f63fb-98bf-425f-a3a2-ce5bba2fd242",
   "metadata": {},
   "source": [
    "# Getting the Wavelength / Intensity chart for the Detected Peaks"
   ]
  },
  {
   "cell_type": "markdown",
   "id": "256b49e7-b43c-4008-a260-9c01eb1cd2f3",
   "metadata": {},
   "source": [
    "# Generate a Interactive Plot"
   ]
  },
  {
   "cell_type": "code",
   "execution_count": null,
   "id": "8447cc9b-3d42-4c83-af27-7f844e764d18",
   "metadata": {},
   "outputs": [],
   "source": [
    "spectra_df = pd.DataFrame({'wavelength': plot_spectra_wavelength_list, 'intensities': plot_spectra_intensities_list})\n",
    "print(spectra_df)   "
   ]
  },
  {
   "cell_type": "markdown",
   "id": "7f333237-fd12-4c75-b351-40ea32abdc88",
   "metadata": {},
   "source": [
    "# Plotting Labels , Need to convert them in Strings"
   ]
  },
  {
   "cell_type": "code",
   "execution_count": null,
   "id": "39f41b96-e16d-43e1-8e7e-fed9a8f4d53d",
   "metadata": {},
   "outputs": [],
   "source": [
    "plot_labels = []\n",
    "plot_labels = str (plot_spectra_wavelength_list)\n",
    "print(plot_labels)\n",
    "\n",
    "#type (plot_labels[1])\n"
   ]
  },
  {
   "cell_type": "code",
   "execution_count": null,
   "id": "4a2f16af-f1c2-4cf2-98c6-724a814c8e60",
   "metadata": {},
   "outputs": [],
   "source": [
    "p = figure(title = 'Peak Detection' , x_axis_label = 'Wavelength' , y_axis_label = 'Intensities')\n",
    "p.line(Sample_Spectra.wavelength,Sample_Spectra.Intensities , line_width = 2, color =\"red\" )\n",
    "p.circle(spectra_df.wavelength, spectra_df.intensities , color = 'green' , size = 12)\n",
    "\n",
    "p.width = 1200\n",
    "p.height = 600\n",
    "\n",
    "show(p)\n",
    "\n"
   ]
  },
  {
   "cell_type": "code",
   "execution_count": null,
   "id": "b8f7d927-ffde-47b6-bfd0-c67b6bed1e32",
   "metadata": {},
   "outputs": [],
   "source": []
  },
  {
   "cell_type": "code",
   "execution_count": null,
   "id": "50e5f8ef-1432-4351-89a1-88c937a8e8d4",
   "metadata": {},
   "outputs": [],
   "source": []
  },
  {
   "cell_type": "code",
   "execution_count": null,
   "id": "07942e22-795f-428e-9aba-a967291025d4",
   "metadata": {},
   "outputs": [],
   "source": []
  },
  {
   "cell_type": "code",
   "execution_count": null,
   "id": "e0fe1200-9822-42ff-85c5-4bd275dd8b62",
   "metadata": {},
   "outputs": [],
   "source": []
  }
 ],
 "metadata": {
  "kernelspec": {
   "display_name": "Python 3 (ipykernel)",
   "language": "python",
   "name": "python3"
  },
  "language_info": {
   "codemirror_mode": {
    "name": "ipython",
    "version": 3
   },
   "file_extension": ".py",
   "mimetype": "text/x-python",
   "name": "python",
   "nbconvert_exporter": "python",
   "pygments_lexer": "ipython3",
   "version": "3.12.0"
  }
 },
 "nbformat": 4,
 "nbformat_minor": 5
}
