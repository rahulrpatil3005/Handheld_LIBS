{
 "cells": [
  {
   "cell_type": "markdown",
   "id": "708ecccf-a107-4c11-a824-97e2dcbbabac",
   "metadata": {},
   "source": [
    "# Welcome to the Tutorial. This can be a good start from someone , having absoultely zero to no experience , programming in Python , Maybe , by this tutorial series  , you and me can learn together , and see how we can use Python for LIBS Spectra Data Analysis. I will be using Jupyter Lab for the Tutorial. "
   ]
  },
  {
   "cell_type": "markdown",
   "id": "160bd004-a56a-4adf-9873-31b03148911a",
   "metadata": {},
   "source": [
    "# SOME BACKGROUND"
   ]
  },
  {
   "cell_type": "markdown",
   "id": "c6d47a06-36ea-43db-8566-50e9c533aaf4",
   "metadata": {},
   "source": [
    "~ STEP 1 :- First download the latest Python Veriosn \n",
    "            https://www.python.org/downloads/\n",
    "\n",
    "Please Install the downloaded file on your computer using custom Installation settings. "
   ]
  },
  {
   "cell_type": "markdown",
   "id": "41ec6e05-e113-4c37-b68e-765d1c1cae46",
   "metadata": {},
   "source": [
    "~ STEP 2 :- After the installation is done , Open  , In MAC - Terminal or WIN - Terminal , and type \"Python3 --version\"\n",
    " for MAC or \"Python --version\" for WIN and press Enter \n",
    "\n",
    " If , the Terminal , returns with the verion of Python like \"Python 3.11.1\" , Installation has been succesful , and then we can proceed further , if not , please check if STEP 1 has been accomplished"
   ]
  },
  {
   "cell_type": "markdown",
   "id": "1aacfe08-aba6-411a-8d7e-bbfae468ab04",
   "metadata": {},
   "source": [
    "~STEP 3 :- After we are done  with the STEP 2 , I am using the Jupytr Lab for the tutorials. , type in terminal \"pip install jupyter lab\" , this will install the latest verison of Jupyter Lab on your system , automatically you will be redirected to the browser "
   ]
  },
  {
   "cell_type": "markdown",
   "id": "177ba2c9-c172-4235-9300-55fababea016",
   "metadata": {},
   "source": [
    "~ STEP 4 :- To check , if the installation of Jupyter lab has been successful , type \"jupyter lab --version\" on Terminal. If , the Terminal , returns with the verion of Jupyter Lab like \"4.1.2\" , Installation has been succesful , and then we can proceed further , if not , please check if STEP 3 has been accomplished"
   ]
  },
  {
   "cell_type": "markdown",
   "id": "9ad27c6d-f1e2-4360-8eed-b833ec11d07d",
   "metadata": {},
   "source": [
    "~ STEP 5 :- A library is a collection of code that makes everyday tasks more efficient. For my tutorial i would recommend Installing pandas , numpy - For data analysis , seaborn , matplotlib - For Visualisation.  \n",
    "\n",
    "Also , i would be Installing a library called \"peakutils\" , this woulbe be useful for recogisation of Peaks from the Spectra. https://peakutils.readthedocs.io/en/latest/\n"
   ]
  },
  {
   "cell_type": "markdown",
   "id": "b0d6fef1-aae7-4f6e-8c4b-6f9d45d46102",
   "metadata": {},
   "source": [
    "~ STEP 6 :- For installing the library , go to terminal , and type \"pip install pandas\" and after installing . Similarly , do this for numpy , seaborn , matplotlin and PeakUtils"
   ]
  },
  {
   "cell_type": "markdown",
   "id": "14de74cd-d43a-453c-a41b-423046e89a97",
   "metadata": {},
   "source": [
    "~ STEP 7 :- Now , to open the Jupyter Lab seession in the browser , go to terminal and type \"jupyter lab\" , you will be automatically redirected to the browser in a jupyter lab session. This is where you will start programming . \n",
    "\n",
    "NOTE :- To exit the session , press \"Ctrl + C\" on the termianal , this will end the running session on your system"
   ]
  },
  {
   "cell_type": "markdown",
   "id": "be32af82-9388-46d3-9bf1-d670a3cc25ea",
   "metadata": {},
   "source": [
    "~ STEP 8 :- In jupyter lab , your lines of codes or chunk of lines of codes  are called as \"Cell\" , If the \"Cell are of type Markdown - Used for Comments / Information \" and If the \"Cells are of type Code - Used for Programming\" \n",
    "\n",
    "You can get more in fo here -  https://www.datacamp.com/tutorial/installing-jupyter-notebook\n"
   ]
  },
  {
   "cell_type": "markdown",
   "id": "e701e0f5-142f-4166-b93d-3fb7377f98f1",
   "metadata": {},
   "source": [
    "# CODE BEGINS"
   ]
  },
  {
   "cell_type": "markdown",
   "id": "a64ca9ff-760b-4d7e-9cb8-29b89c23a90c",
   "metadata": {
    "editable": true,
    "slideshow": {
     "slide_type": ""
    },
    "tags": []
   },
   "source": [
    "# Importing the Useful librararies. "
   ]
  },
  {
   "cell_type": "markdown",
   "id": "61cfd157-b86e-4bc3-a3cf-63c87de1161b",
   "metadata": {},
   "source": [
    "Line [1] is completely optional , This is used to Hide the the Warnings in the Output cell. It's recommended to skip the line[1] , and proceed with the code from line[2]."
   ]
  },
  {
   "cell_type": "code",
   "execution_count": 1,
   "id": "fe24b79d-1d3e-4dcf-bc6c-d67f6ea78c29",
   "metadata": {},
   "outputs": [],
   "source": [
    "import warnings\n",
    "warnings.filterwarnings('ignore')"
   ]
  },
  {
   "cell_type": "markdown",
   "id": "356b5399-25db-40af-8a59-79ad84b80aa8",
   "metadata": {},
   "source": [
    "Line [2] is basicllay importing the Installed Libraries earlier and calling them in the IDE for interacting with them. \n",
    "\n",
    "Now , what does import \"import pandas as pd\"  mean ? \n",
    "\n",
    "-> For pandas, we usually import pandas with the pd alias, which means we refer to pandas as pd in the code instead of writing “pandas” each time. Alias is an alternate name that can be used for referencing the same thing again and again\n",
    "\n",
    "Now , what does \"from peakutils import indexes\" mean ? \n",
    "\n",
    "-> So , here peakutils is an library , The import statement allows you to import all the functions from a library into your code. Often, though, you'll only want to import a few functions, or just one. If this is the case, you can use the from statement. This essentially mean this line will import \"indexes \" function from the library \"peakutils\".\n"
   ]
  },
  {
   "cell_type": "code",
   "execution_count": 3,
   "id": "bbf405ee-aee5-4477-a558-19a3459c48fe",
   "metadata": {},
   "outputs": [],
   "source": [
    "import pandas as pd\n",
    "import numpy as np\n",
    "import seaborn as sns\n",
    "import matplotlib\n",
    "import matplotlib.pyplot as plt\n",
    "\n",
    "from peakutils import indexes\n",
    "\n",
    "\n",
    "\n"
   ]
  },
  {
   "cell_type": "markdown",
   "id": "5f0a7a6f-2747-45ca-963c-556323c02bfe",
   "metadata": {},
   "source": [
    "Now lets , import an .csv file , so that we can interact with the data\n",
    "\n",
    "Line [3] , basically we have created a variable called as \"spectra_data\" , and we have used pd.read_csv function , to read the content from the .csv file. Here as mentioned earlier , we are selecting a function called as read_csv from the library Pandas , which has an alias \"pd\"\n",
    "\n",
    "Now , after just typing the variable name in line below , it will print the content of the variable , which has an content of the .csv file. \n",
    "\n",
    "Please NOTE  , there are two ways 1) Copy the .csv file in your project directory , as what i have done , and then you can simply type the name of csv file with it's extension 'Spectra Data.csv' , to display the data , or else 2) Let the .csv file , be at any location on your drive , and then you can give it ,  its absolute path of the file location. eg :- 'C:/Windows/.. /Spectra Data.csv'\n",
    "\n",
    "Both works , exactly the same , although i prefer (1) - as it helps with file organisation\n",
    "\n",
    "Also , my data in the .csv format is starting from row 0 and endinging at row 23430 , now if in your case , you have to skip some rows , because of some headers or some junk information , you can use \"eg :- skiprows = 3 \" , this will slip the data for row 3 and above."
   ]
  },
  {
   "cell_type": "code",
   "execution_count": 4,
   "id": "f62f8a36-532b-4e94-a7b3-10be9aa54af1",
   "metadata": {},
   "outputs": [
    {
     "data": {
      "text/html": [
       "<div>\n",
       "<style scoped>\n",
       "    .dataframe tbody tr th:only-of-type {\n",
       "        vertical-align: middle;\n",
       "    }\n",
       "\n",
       "    .dataframe tbody tr th {\n",
       "        vertical-align: top;\n",
       "    }\n",
       "\n",
       "    .dataframe thead th {\n",
       "        text-align: right;\n",
       "    }\n",
       "</style>\n",
       "<table border=\"1\" class=\"dataframe\">\n",
       "  <thead>\n",
       "    <tr style=\"text-align: right;\">\n",
       "      <th></th>\n",
       "      <th>wavelength</th>\n",
       "      <th>CR210LA</th>\n",
       "      <th>CR240LA</th>\n",
       "      <th>CR300LA</th>\n",
       "      <th>CR460LA</th>\n",
       "      <th>CR570CP</th>\n",
       "      <th>CR440Y</th>\n",
       "      <th>CR700Y</th>\n",
       "      <th>CR1000Y</th>\n",
       "      <th>HR660Y</th>\n",
       "    </tr>\n",
       "  </thead>\n",
       "  <tbody>\n",
       "    <tr>\n",
       "      <th>0</th>\n",
       "      <td>180.000000</td>\n",
       "      <td>0.0</td>\n",
       "      <td>0.0</td>\n",
       "      <td>0.0</td>\n",
       "      <td>0.0</td>\n",
       "      <td>0.0</td>\n",
       "      <td>0.0</td>\n",
       "      <td>0.0</td>\n",
       "      <td>0.0</td>\n",
       "      <td>0.0</td>\n",
       "    </tr>\n",
       "    <tr>\n",
       "      <th>1</th>\n",
       "      <td>180.033333</td>\n",
       "      <td>0.0</td>\n",
       "      <td>0.0</td>\n",
       "      <td>0.0</td>\n",
       "      <td>0.0</td>\n",
       "      <td>0.0</td>\n",
       "      <td>0.0</td>\n",
       "      <td>0.0</td>\n",
       "      <td>0.0</td>\n",
       "      <td>0.0</td>\n",
       "    </tr>\n",
       "    <tr>\n",
       "      <th>2</th>\n",
       "      <td>180.066667</td>\n",
       "      <td>0.0</td>\n",
       "      <td>0.0</td>\n",
       "      <td>0.0</td>\n",
       "      <td>0.0</td>\n",
       "      <td>0.0</td>\n",
       "      <td>0.0</td>\n",
       "      <td>0.0</td>\n",
       "      <td>0.0</td>\n",
       "      <td>0.0</td>\n",
       "    </tr>\n",
       "    <tr>\n",
       "      <th>3</th>\n",
       "      <td>180.100000</td>\n",
       "      <td>0.0</td>\n",
       "      <td>0.0</td>\n",
       "      <td>0.0</td>\n",
       "      <td>0.0</td>\n",
       "      <td>0.0</td>\n",
       "      <td>0.0</td>\n",
       "      <td>0.0</td>\n",
       "      <td>0.0</td>\n",
       "      <td>0.0</td>\n",
       "    </tr>\n",
       "    <tr>\n",
       "      <th>4</th>\n",
       "      <td>180.133333</td>\n",
       "      <td>0.0</td>\n",
       "      <td>0.0</td>\n",
       "      <td>0.0</td>\n",
       "      <td>0.0</td>\n",
       "      <td>0.0</td>\n",
       "      <td>0.0</td>\n",
       "      <td>0.0</td>\n",
       "      <td>0.0</td>\n",
       "      <td>0.0</td>\n",
       "    </tr>\n",
       "    <tr>\n",
       "      <th>...</th>\n",
       "      <td>...</td>\n",
       "      <td>...</td>\n",
       "      <td>...</td>\n",
       "      <td>...</td>\n",
       "      <td>...</td>\n",
       "      <td>...</td>\n",
       "      <td>...</td>\n",
       "      <td>...</td>\n",
       "      <td>...</td>\n",
       "      <td>...</td>\n",
       "    </tr>\n",
       "    <tr>\n",
       "      <th>23426</th>\n",
       "      <td>960.866667</td>\n",
       "      <td>0.0</td>\n",
       "      <td>0.0</td>\n",
       "      <td>0.0</td>\n",
       "      <td>0.0</td>\n",
       "      <td>0.0</td>\n",
       "      <td>0.0</td>\n",
       "      <td>0.0</td>\n",
       "      <td>0.0</td>\n",
       "      <td>0.0</td>\n",
       "    </tr>\n",
       "    <tr>\n",
       "      <th>23427</th>\n",
       "      <td>960.900000</td>\n",
       "      <td>0.0</td>\n",
       "      <td>0.0</td>\n",
       "      <td>0.0</td>\n",
       "      <td>0.0</td>\n",
       "      <td>0.0</td>\n",
       "      <td>0.0</td>\n",
       "      <td>0.0</td>\n",
       "      <td>0.0</td>\n",
       "      <td>0.0</td>\n",
       "    </tr>\n",
       "    <tr>\n",
       "      <th>23428</th>\n",
       "      <td>960.933333</td>\n",
       "      <td>0.0</td>\n",
       "      <td>0.0</td>\n",
       "      <td>0.0</td>\n",
       "      <td>0.0</td>\n",
       "      <td>0.0</td>\n",
       "      <td>0.0</td>\n",
       "      <td>0.0</td>\n",
       "      <td>0.0</td>\n",
       "      <td>0.0</td>\n",
       "    </tr>\n",
       "    <tr>\n",
       "      <th>23429</th>\n",
       "      <td>960.966667</td>\n",
       "      <td>0.0</td>\n",
       "      <td>0.0</td>\n",
       "      <td>0.0</td>\n",
       "      <td>0.0</td>\n",
       "      <td>0.0</td>\n",
       "      <td>0.0</td>\n",
       "      <td>0.0</td>\n",
       "      <td>0.0</td>\n",
       "      <td>0.0</td>\n",
       "    </tr>\n",
       "    <tr>\n",
       "      <th>23430</th>\n",
       "      <td>961.000000</td>\n",
       "      <td>0.0</td>\n",
       "      <td>0.0</td>\n",
       "      <td>0.0</td>\n",
       "      <td>0.0</td>\n",
       "      <td>0.0</td>\n",
       "      <td>0.0</td>\n",
       "      <td>0.0</td>\n",
       "      <td>0.0</td>\n",
       "      <td>0.0</td>\n",
       "    </tr>\n",
       "  </tbody>\n",
       "</table>\n",
       "<p>23431 rows × 10 columns</p>\n",
       "</div>"
      ],
      "text/plain": [
       "       wavelength  CR210LA  CR240LA  CR300LA  CR460LA  CR570CP  CR440Y  \\\n",
       "0      180.000000      0.0      0.0      0.0      0.0      0.0     0.0   \n",
       "1      180.033333      0.0      0.0      0.0      0.0      0.0     0.0   \n",
       "2      180.066667      0.0      0.0      0.0      0.0      0.0     0.0   \n",
       "3      180.100000      0.0      0.0      0.0      0.0      0.0     0.0   \n",
       "4      180.133333      0.0      0.0      0.0      0.0      0.0     0.0   \n",
       "...           ...      ...      ...      ...      ...      ...     ...   \n",
       "23426  960.866667      0.0      0.0      0.0      0.0      0.0     0.0   \n",
       "23427  960.900000      0.0      0.0      0.0      0.0      0.0     0.0   \n",
       "23428  960.933333      0.0      0.0      0.0      0.0      0.0     0.0   \n",
       "23429  960.966667      0.0      0.0      0.0      0.0      0.0     0.0   \n",
       "23430  961.000000      0.0      0.0      0.0      0.0      0.0     0.0   \n",
       "\n",
       "       CR700Y  CR1000Y  HR660Y  \n",
       "0         0.0      0.0     0.0  \n",
       "1         0.0      0.0     0.0  \n",
       "2         0.0      0.0     0.0  \n",
       "3         0.0      0.0     0.0  \n",
       "4         0.0      0.0     0.0  \n",
       "...       ...      ...     ...  \n",
       "23426     0.0      0.0     0.0  \n",
       "23427     0.0      0.0     0.0  \n",
       "23428     0.0      0.0     0.0  \n",
       "23429     0.0      0.0     0.0  \n",
       "23430     0.0      0.0     0.0  \n",
       "\n",
       "[23431 rows x 10 columns]"
      ]
     },
     "execution_count": 4,
     "metadata": {},
     "output_type": "execute_result"
    }
   ],
   "source": [
    "spectra_data = pd.read_csv(r'Spectra Data.csv', skiprows=0)\n",
    "spectra_data"
   ]
  },
  {
   "cell_type": "markdown",
   "id": "7756f741-4fa2-42ed-9f2c-7f9d9738feeb",
   "metadata": {},
   "source": [
    "In the data above , we see 'spectra_data' has lot of information contained in itself , in column 1 - Wavelength , and from column 2 to column 10 , we see Intensities of different material samples. \n",
    "\n",
    "-------------------------------------------------------------------------------------------------------\n",
    "Now , In my alogrithm i choosed to interact with one material sample at a time. if.. else loop is used by me to choose between different material samples\n",
    "\n",
    "---------------------------------------------------------------------------------------------------------------------\n",
    "In the first line (sample = 'CR210LA') , here in '' , type any material sample of your choice , which you choose to interact with, here in a variable called as 'sample' , has a stored string value 'CR210LA'\n",
    "\n",
    "---------------------------------------------------------------------------------------------------------------------------\n",
    "# Now I will explain one condition in detail: \n",
    "\n",
    "if sample =='CR210LA': \n",
    "    Raw_Sample_Spectra = spectra_data.filter(['wavelength','CR210LA'],axis=1)\n",
    "    Sample_Spectra = Raw_Sample_Spectra.rename({'CR210LA':'Intensities'},axis=1)\n",
    "    plt.plot(spectra_data.wavelength,spectra_data.CR210LA)\n",
    "    \n",
    "----------------------------------------------------------------------------------------------------------------------------\n",
    "In line [3] Now , Here i am comparing the string value stored in sample , with a fixed string 'CR210LA' , if this condition is true , the code intended after the line will execute and then it will exit the loop, if the condition is false , it will check the next elif statement , until the condition is true. \n",
    "If , for some situation , no condition is true , it will execute , whatever is written in the else statement.\n",
    "\n",
    "In line [3],Now , since , 'spectra_data' has a lot of information , and i just want to interact with the material sample of choice , its essentially to filter out the content , which we dont want (eg: other material sample intensities.)\n",
    "\n",
    "In line [3],From the spectra_data variable , i am selecting just the content of the column 1 - wavelength and content of column 2 - CR210LA , and i am storing this data in new variable 'Raw_Sample_Spectra'. \n",
    "\n",
    "Now , From  this variable of 'Raw_Sample_Sepctra' , has two columns , Column 1 - Wavelength and Column 2 - CR210LA , Similarly as per different value in variable 'sample' , Column 2 will have different will have different name like CR240LA , CR1000Y , HR660Y etc. \n",
    "\n",
    "Now , a better idea would be to rename this columns to name to such as like \"Intensities\" , so that it would be easier for us to interact with.\n",
    "\n",
    "In line [3],This is what exactly is done , and the data with column name 'Wavelength' and 'Intensities' are stored in variable 'Sample_Spectra'\n",
    "\n",
    "In line [3],plt.plot(spectra_data.wavelength,spectra_data.CR210LA) -> This will create a line plot , with x axis = wavelngth and Y axis = Intensities.\n"
   ]
  },
  {
   "cell_type": "code",
   "execution_count": 4,
   "id": "3ff93e69-f92a-48f1-8631-3b8b1cc20a12",
   "metadata": {},
   "outputs": [
    {
     "name": "stdout",
     "output_type": "stream",
     "text": [
      "       wavelength  Intensities\n",
      "0      180.000000          0.0\n",
      "1      180.033333          0.0\n",
      "2      180.066667          0.0\n",
      "3      180.100000          0.0\n",
      "4      180.133333          0.0\n",
      "...           ...          ...\n",
      "23426  960.866667          0.0\n",
      "23427  960.900000          0.0\n",
      "23428  960.933333          0.0\n",
      "23429  960.966667          0.0\n",
      "23430  961.000000          0.0\n",
      "\n",
      "[23431 rows x 2 columns]\n"
     ]
    },
    {
     "data": {
      "image/png": "[encoded data removed]",
      "text/plain": [
       "<Figure size 640x480 with 1 Axes>"
      ]
     },
     "metadata": {},
     "output_type": "display_data"
    }
   ],
   "source": [
    "sample = 'CR210LA' # ENTER YOUR SAMPLE OF CHOICE\n",
    "if sample =='CR210LA':\n",
    "    Raw_Sample_Spectra = spectra_data.filter(['wavelength','CR210LA'],axis=1)\n",
    "    Sample_Spectra = Raw_Sample_Spectra.rename({'CR210LA':'Intensities'},axis=1)\n",
    "    plt.plot(spectra_data.wavelength,spectra_data.CR210LA)\n",
    "elif sample =='CR240LA':\n",
    "    Raw_Sample_Spectra = spectra_data.filter(['wavelength','CR240LA'],axis=1)\n",
    "    Sample_Spectra = Raw_Sample_Spectra.rename({'CR240LA':'Intensities'},axis=1)\n",
    "    plt.plot(spectra_data.wavelength,spectra_data.CR240LA)\n",
    "elif sample =='CR300LA':\n",
    "    Raw_Sample_Spectra = spectra_data.filter(['wavelength','CR300LA'],axis=1)\n",
    "    Sample_Spectra = Raw_Sample_Spectra.rename({'CR300LA':'Intensities'},axis=1)\n",
    "    plt.plot(spectra_data.wavelength,spectra_data.CR300LA)\n",
    "elif sample =='CR460LA':\n",
    "    Raw_Sample_Spectra = spectra_data.filter(['wavelength','CR460LA'],axis=1)\n",
    "    Sample_Spectra = Raw_Sample_Spectra.rename({'CR460LA':'Intensities'},axis=1)\n",
    "    plt.plot(spectra_data.wavelength,spectra_data.CR460LA)\n",
    "elif sample =='CR570CP':\n",
    "    Raw_Sample_Spectra = spectra_data.filter(['wavelength','CR570CP'],axis=1)\n",
    "    Sample_Spectra = Raw_Sample_Spectra.rename({'CR570CP':'Intensities'},axis=1)\n",
    "    plt.plot(spectra_data.wavelength,spectra_data.CR570CP)\n",
    "elif sample =='CR440Y':\n",
    "    Raw_Sample_Spectra = spectra_data.filter(['wavelength','CR440Y'],axis=1)\n",
    "    Sample_Spectra = Raw_Sample_Spectra.rename({'CR440Y':'Intensities'},axis=1)\n",
    "    plt.plot(spectra_data.wavelength,spectra_data.CR440Y)\n",
    "elif sample =='CR700Y':\n",
    "    Raw_Sample_Spectra = spectra_data.filter(['wavelength','CR700Y'],axis=1)\n",
    "    Sample_Spectra = Raw_Sample_Spectra.rename({'CR700Y':'Intensities'},axis=1)\n",
    "    plt.plot(spectra_data.wavelength,spectra_data.CR700Y)\n",
    "elif sample =='CR1000Y':\n",
    "    Raw_Sample_Spectra = spectra_data.filter(['wavelength','CR1000Y'],axis=1)\n",
    "    Sample_Spectra = Raw_Sample_Spectra.rename({'CR1000Y':'Intensities'},axis=1)\n",
    "    plt.plot(spectra_data.wavelength,spectra_data.CR1000Y)\n",
    "elif sample =='HR660Y':\n",
    "    Raw_Sample_Spectra = spectra_data.filter(['wavelength','HR660Y'],axis=1)\n",
    "    Sample_Spectra = Raw_Sample_Spectra.rename({'HR660Y':'Intensities'},axis=1)\n",
    "    plt.plot(spectra_data.wavelength,spectra_data.HR660Y)\n",
    "elif sample == '':\n",
    "    print(\"Please Enter Sample\")\n",
    "else:\n",
    "    print (\"Invalid Element Sample\")\n",
    "\n",
    "print(Sample_Spectra)\n",
    "plt.show()\n"
   ]
  },
  {
   "cell_type": "markdown",
   "id": "ac899085-cede-49e5-9eaa-e29e6f5f69d3",
   "metadata": {
    "editable": true,
    "slideshow": {
     "slide_type": ""
    },
    "tags": []
   },
   "source": [
    "Now , as we see in the figure avove , the spectral information of  'CR201LA' , may have different element composition , like Fe , Al ,Cr , Cu.  \n",
    "\n",
    "My Goal of this tutorial is to identify the Peaks for the element like Al, Cr , Cu , Fe , Mn , Mo , Ni , Si from the above spectral information. \n",
    "Ofcourse , Quantitative analysis would be difficult , but we can try to do Qualitative analysis.\n",
    "\n",
    "In line [4] , Here, Also i will , try to focus on one element at a time thats why , i have used if..elif..else statement. \n",
    "\n",
    "Now , i have visited the https://physics.nist.gov/PhysRefData/ASD/LIBS/libs-form.html  , website one of the best LIBS database to get information on element spectra. \n",
    "\n",
    "I have searched the spectra of each element , from the website and the Spectra Information of the elemnt is stored in /NIST/ folder in the directory in their specific .csv format , example: Al.csv will have all the spectral information for Aluminium \n",
    "\n"
   ]
  },
  {
   "cell_type": "code",
   "execution_count": 5,
   "id": "dc059679-4d8e-4852-8196-4d5d2b9110e9",
   "metadata": {
    "editable": true,
    "slideshow": {
     "slide_type": ""
    },
    "tags": []
   },
   "outputs": [
    {
     "name": "stdout",
     "output_type": "stream",
     "text": [
      "     Wavelength       Spectra\n",
      "0        170.91  6.110000e-07\n",
      "1        170.96  1.830000e-05\n",
      "2           171  2.460000e-04\n",
      "3        171.04  2.960000e-03\n",
      "4        171.08  3.210000e-02\n",
      "...         ...           ...\n",
      "7618     966.21  1.050000e-16\n",
      "7619     966.26  5.710000e-17\n",
      "7620      966.3  3.490000e-17\n",
      "7621     966.34  2.130000e-17\n",
      "7622     966.38  1.290000e-17\n",
      "\n",
      "[7623 rows x 2 columns]\n"
     ]
    },
    {
     "data": {
      "image/png": "[encoded data removed]",
      "text/plain": [
       "<Figure size 640x480 with 1 Axes>"
      ]
     },
     "metadata": {},
     "output_type": "display_data"
    }
   ],
   "source": [
    "element = 'Al' # ENTER YOUR ELEMENT OF \n",
    "\n",
    "if element =='Al':\n",
    "    Reference_Spectra = pd.read_csv(r\"NIST/Al.csv\" ,encoding = 'windows - 1252')\n",
    "  \n",
    "elif element =='Cr':\n",
    "    Reference_Spectra = pd.read_csv(r\"NIST/Cr.csv\" , encoding = 'windows - 1252')\n",
    "    \n",
    "elif element =='Cu':\n",
    "    Reference_Spectra = pd.read_csv(r\"NIST/Cu.csv\" , encoding = 'windows - 1252')\n",
    "    \n",
    "elif element =='Fe':\n",
    "    Reference_Spectra = pd.read_csv(r\"NIST/Fe.csv\" , encoding = 'windows - 1252')\n",
    "    \n",
    "\n",
    "elif element =='Mn':\n",
    "    Reference_Spectra = pd.read_csv(r\"NIST/Mn.csv\" , encoding = 'windows - 1252')\n",
    "    \n",
    "elif element =='Mo':\n",
    "    Reference_Spectra = pd.read_csv(r\"NIST/Mo.csv\" , encoding = 'windows - 1252')\n",
    "    \n",
    "elif element =='Ni':\n",
    "    Reference_Spectra = pd.read_csv(r\"NIST/Ni.csv\" , encoding = 'windows - 1252')\n",
    "    \n",
    "elif element =='Si':\n",
    "    Reference_Spectra = pd.read_csv(r\"NIST/Si.csv\" , encoding = 'windows - 1252')\n",
    "    \n",
    "elif element == '':\n",
    "    print(\"Please Enter Element\")\n",
    "    \n",
    "else:\n",
    "    print (\"Invalid Element Entered\")\n",
    "\n",
    "print(Reference_Spectra)\n",
    "plt.plot(Reference_Spectra.Wavelength , Reference_Spectra.Spectra)\n",
    "plt.show()"
   ]
  },
  {
   "cell_type": "markdown",
   "id": "be7ce344-2499-4558-a5a3-2a50e7a7315a",
   "metadata": {},
   "source": [
    "Now, uptil now , we have selected the Material Sample ,which we want to Interact with and the data is stored in variable \"Sample_Spectra\"\n",
    "Also , we have choosen the element , which we want to detect in this 'Sample_Spectra' , and the spectral information for that element is stored in variable \"Reference_Spectra\" \n",
    "\n",
    "Now , from this 'Reference_Spectra' , Let's try to get all the Peaks this Spectra has\n",
    "\n",
    "I have used a library called as Peak_Utils \n",
    "\n",
    "https://peakutils.readthedocs.io/en/latest/reference.html\n",
    "\n",
    "The detail of the function is given below. \n",
    "---------------------------------------------------------------------------------------------------------------------------"
   ]
  },
  {
   "cell_type": "markdown",
   "id": "b8c65c23-0f57-40e0-a703-8978c7b52b1f",
   "metadata": {},
   "source": [
    "---------------------------------------------------------------------------------------------------------------------------\n",
    "peakutils.peak.indexes(y, thres=0.3, min_dist=1, thres_abs=False)\n",
    "\n",
    "Finds the numeric index of the peaks in y by taking its first order difference. By using thres and min_dist parameters, it is possible to reduce the number of detected peaks. y must be signed.\n",
    "\n",
    "Parameters:\t\n",
    "\n",
    "y (ndarray (signed)) – 1D amplitude data to search for peaks.\n",
    "\n",
    "thres (float between [0., 1.]) – Normalized threshold. Only the peaks with amplitude higher than the threshold will be detected.\n",
    "\n",
    "min_dist (int) – Minimum distance between each detected peak. The peak with the highest amplitude is preferred to satisfy this constraint.\n",
    "\n",
    "thres_abs (boolean) – If True, the thres value will be interpreted as an absolute value, instead of a normalized threshold.\n",
    "\n",
    "Returns:\t\n",
    "Array containing the numeric indexes of the peaks that were detected. When using with Pandas DataFrames, iloc should be used to access the values at the returned positions.\n",
    "\n",
    "----------------------------------------------------------------------------------------------------------------------------\n"
   ]
  },
  {
   "cell_type": "markdown",
   "id": "3cfc1ac2-cdb5-4fea-b968-b4a32be155c8",
   "metadata": {},
   "source": [
    "# NOTE :- Now if we keep the minimum_distance_1 = 0 and threshold_1 = 0 , we get all the peaks in the spectra , Tuning of these parameter are most important as per your signal.\n",
    "\n",
    "Setting the value in parameter 'minimum_distance_1' , will allows to skip the peaks , which are very close to each other. \n",
    "Setting the value in parameter 'threshold_1', will allows to skip the peaks with low intensity and also seperate the Peaks , with that of noise signal. \n",
    "\n",
    "So , its important to choose the value's as per your convenience \n",
    "\n",
    "----------------------------------------------------------------------------------------------------------------------------"
   ]
  },
  {
   "cell_type": "code",
   "execution_count": 6,
   "id": "ef8e082c-14c2-4d24-85fe-62a1b7b66ffb",
   "metadata": {
    "scrolled": true
   },
   "outputs": [
    {
     "data": {
      "text/plain": [
       "array([  37,  309,  551, 1102, 1314, 1485, 1896, 2535])"
      ]
     },
     "execution_count": 6,
     "metadata": {},
     "output_type": "execute_result"
    }
   ],
   "source": [
    "minimum_distance_1 = 100  #Minimum distance between each detected peak. The peak with the highest amplitude is preferred to satisfy this constraint.\n",
    "threshold_1 = 0.05 #looking for a value above 0.5% , so that Noise and  Peak with very low Intensities can be ignored \n",
    "\n",
    "Reference_Peak = indexes(Reference_Spectra.Spectra , min_dist=minimum_distance_1 , thres=threshold_1) \n",
    "Reference_Peak #Return the indices in the form of the list"
   ]
  },
  {
   "cell_type": "code",
   "execution_count": 7,
   "id": "894d8bc8-4be1-4c84-b037-d8ecf80d8aba",
   "metadata": {},
   "outputs": [
    {
     "data": {
      "text/html": [
       "<div>\n",
       "<style scoped>\n",
       "    .dataframe tbody tr th:only-of-type {\n",
       "        vertical-align: middle;\n",
       "    }\n",
       "\n",
       "    .dataframe tbody tr th {\n",
       "        vertical-align: top;\n",
       "    }\n",
       "\n",
       "    .dataframe thead th {\n",
       "        text-align: right;\n",
       "    }\n",
       "</style>\n",
       "<table border=\"1\" class=\"dataframe\">\n",
       "  <thead>\n",
       "    <tr style=\"text-align: right;\">\n",
       "      <th></th>\n",
       "      <th>Wavelength</th>\n",
       "      <th>Spectra</th>\n",
       "    </tr>\n",
       "  </thead>\n",
       "  <tbody>\n",
       "    <tr>\n",
       "      <th>37</th>\n",
       "      <td>172.49</td>\n",
       "      <td>1.170000e+10</td>\n",
       "    </tr>\n",
       "    <tr>\n",
       "      <th>309</th>\n",
       "      <td>186.22</td>\n",
       "      <td>2.190000e+09</td>\n",
       "    </tr>\n",
       "    <tr>\n",
       "      <th>551</th>\n",
       "      <td>199.06</td>\n",
       "      <td>1.010000e+09</td>\n",
       "    </tr>\n",
       "    <tr>\n",
       "      <th>1102</th>\n",
       "      <td>226.91</td>\n",
       "      <td>1.330000e+09</td>\n",
       "    </tr>\n",
       "    <tr>\n",
       "      <th>1314</th>\n",
       "      <td>237.32</td>\n",
       "      <td>1.880000e+09</td>\n",
       "    </tr>\n",
       "    <tr>\n",
       "      <th>1485</th>\n",
       "      <td>257.52</td>\n",
       "      <td>9.380000e+08</td>\n",
       "    </tr>\n",
       "    <tr>\n",
       "      <th>1896</th>\n",
       "      <td>309.26</td>\n",
       "      <td>2.940000e+09</td>\n",
       "    </tr>\n",
       "    <tr>\n",
       "      <th>2535</th>\n",
       "      <td>396.16</td>\n",
       "      <td>1.760000e+09</td>\n",
       "    </tr>\n",
       "  </tbody>\n",
       "</table>\n",
       "</div>"
      ],
      "text/plain": [
       "     Wavelength       Spectra\n",
       "37       172.49  1.170000e+10\n",
       "309      186.22  2.190000e+09\n",
       "551      199.06  1.010000e+09\n",
       "1102     226.91  1.330000e+09\n",
       "1314     237.32  1.880000e+09\n",
       "1485     257.52  9.380000e+08\n",
       "1896     309.26  2.940000e+09\n",
       "2535     396.16  1.760000e+09"
      ]
     },
     "execution_count": 7,
     "metadata": {},
     "output_type": "execute_result"
    }
   ],
   "source": [
    "Selected_Reference_Spectra = Reference_Spectra.iloc[Reference_Peak] #from the indices , lets try to find the Wavelength and Spectra. \n",
    "#Selected_Reference_Spectra.Wavelength = Selected_Reference_Spectra.Wavelength.astype(float)\n",
    "#df = Selected_Reference_Spectra[Selected_Reference_Spectra['Wavelength'] > 180.0] #As measured data from handheld LIBS is above 180nm Range\n",
    "\n",
    "Selected_Reference_Spectra\n"
   ]
  },
  {
   "cell_type": "markdown",
   "id": "fe947ffc-aed5-4136-9c02-131443ed2f32",
   "metadata": {},
   "source": [
    "# Here , I am trying to plot the detected Peaks\n",
    "\n",
    "I Have plotted the 'Line Plot' for the Reference_Spectra , from the matplotlib library. \n",
    "\n",
    "And , I have also plotted a 'scatter plot' for the Refrecence_Peak  , from the matplotlib\n"
   ]
  },
  {
   "cell_type": "code",
   "execution_count": 8,
   "id": "b72fdfd2-19f7-45dc-9391-fce4a9a8e318",
   "metadata": {
    "scrolled": true
   },
   "outputs": [
    {
     "data": {
      "text/plain": [
       "<matplotlib.collections.PathCollection at 0x12dc239e0>"
      ]
     },
     "execution_count": 8,
     "metadata": {},
     "output_type": "execute_result"
    },
    {
     "data": {
      "image/png": "[encoded data removed]",
      "text/plain": [
       "<Figure size 640x480 with 1 Axes>"
      ]
     },
     "metadata": {},
     "output_type": "display_data"
    }
   ],
   "source": [
    "plt.plot(Reference_Spectra.Wavelength,Reference_Spectra.Spectra) #plot a nomral ,x ,y plot)\n",
    "plt.scatter(Selected_Reference_Spectra.Wavelength,Selected_Reference_Spectra.Spectra)"
   ]
  },
  {
   "cell_type": "markdown",
   "id": "9908c10c-ed35-4883-9e1f-4aba73775d7c",
   "metadata": {},
   "source": [
    "# Now , lets try to create an list , lets fill the list , with all the detected peaks wavelengths. "
   ]
  },
  {
   "cell_type": "code",
   "execution_count": 9,
   "id": "35d58bb0-090b-41fb-bbd6-7ffe0e968985",
   "metadata": {},
   "outputs": [
    {
     "name": "stdout",
     "output_type": "stream",
     "text": [
      "[199.06, 226.91, 237.32, 257.52, 309.26, 396.16]\n",
      "6\n"
     ]
    }
   ],
   "source": [
    "\n",
    "Refernce_Spectra_Wavelength = Reference_Spectra.iloc[Reference_Peak]\n",
    "Reference_Spectra_List = []\n",
    "\n",
    "for iteam in Refernce_Spectra_Wavelength.Wavelength:\n",
    "    iteam = float(iteam)\n",
    "    if iteam > 188.0:        #Only those iteam will be selected , whose wavelength would be greater than 188 nm ,  as our Handheld LIBS range starts from 188nm\n",
    "        Reference_Spectra_List.append(iteam)\n",
    "    \n",
    "print(Reference_Spectra_List)\n",
    "\n",
    "Length_Reference_Spectra_List = (len(Reference_Spectra_List))   \n",
    "\n",
    "print(Length_Reference_Spectra_List)\n"
   ]
  },
  {
   "cell_type": "markdown",
   "id": "54ed8819-b495-4457-a9b1-94aa35fd5256",
   "metadata": {},
   "source": [
    "Now , we have a list of all wavelengths , detected for Peaks in Reference Spectra , Now for each element lets try to create a min and max of each element in the list. \n",
    "\n",
    "'Reference_Spectra_Min_Max' is list consisting of a sublist , the sublist have a min and max value or a range of element in the list.\n",
    "\n",
    "Now , for the two wavelengths , to exactly match with each other , is going to be difficult , because of physical constarints in optics , instruments etc, It's always better , to find a span or range for wavelength , and to look for peak in that span or range, which would give us more probability in detecting a peak. A offset of 1nm is selected for the same (Completely Randomly Selected). \n",
    "\n",
    "Eg : - A peak of 199.06 nm can be found in between [ 199.04  and 199.08] , this gives us more room to find a wavelength \n",
    "\n",
    "-------------------------------------------------------------------------------------------------------------------------------"
   ]
  },
  {
   "cell_type": "code",
   "execution_count": 30,
   "id": "4567b335-e768-4f88-8e84-9ba3f9fbee3a",
   "metadata": {},
   "outputs": [],
   "source": [
    "# 0.02 is like a offset in both end , and this can be changed as per your requirement."
   ]
  },
  {
   "cell_type": "code",
   "execution_count": 31,
   "id": "c9c9d819-9514-44f7-87ce-c4a3a14e3d2d",
   "metadata": {},
   "outputs": [
    {
     "name": "stdout",
     "output_type": "stream",
     "text": [
      "[[199.04, 199.08], [226.89, 226.93], [237.29999999999998, 237.34], [257.5, 257.53999999999996], [309.24, 309.28], [396.14000000000004, 396.18]]\n"
     ]
    }
   ],
   "source": [
    "Reference_Spectra_Min_Max = []\n",
    "\n",
    "Reference_Spectra_Min_Max = [[num - 0.02 , num + 0.02] for num in Reference_Spectra_List]     \n",
    "    \n",
    "print(Reference_Spectra_Min_Max)"
   ]
  },
  {
   "cell_type": "markdown",
   "id": "bc01fe11-37cb-41c4-95b3-e65834817766",
   "metadata": {},
   "source": [
    "Once we have got the range for the Reference Spectra , where the Element  Spectra can be expected. Now let's try to find all the peak of the 'Sample_Spectra' , Here also tuning of the paramters are important as [er you analysis\n",
    "-------------------------------------------------------------------------------------------------------------------------------"
   ]
  },
  {
   "cell_type": "code",
   "execution_count": 32,
   "id": "0f9cdede-da9f-440a-9ba3-46fbb74ac646",
   "metadata": {},
   "outputs": [
    {
     "data": {
      "text/plain": [
       "array([  241,   245,   251, ..., 23064, 23075, 23083])"
      ]
     },
     "execution_count": 32,
     "metadata": {},
     "output_type": "execute_result"
    }
   ],
   "source": [
    "minimum_distance_2 = 0  #Minimum distance between each detected peak. The peak with the highest amplitude is preferred to satisfy this constraint.\n",
    "threshold_2 = 0.02 #looking for a value above 10% , so that Noise and  Peak with very low Intensities can be ignored \n",
    "\n",
    "Sample_Peak = indexes(Sample_Spectra.Intensities , min_dist=minimum_distance_2 , thres=threshold_2) \n",
    "Sample_Peak #Return the indices in the form of the list\n",
    "\n"
   ]
  },
  {
   "cell_type": "code",
   "execution_count": 33,
   "id": "3f2c3cb6-ac99-450e-bc95-8c61d947a2ee",
   "metadata": {},
   "outputs": [
    {
     "data": {
      "text/html": [
       "<div>\n",
       "<style scoped>\n",
       "    .dataframe tbody tr th:only-of-type {\n",
       "        vertical-align: middle;\n",
       "    }\n",
       "\n",
       "    .dataframe tbody tr th {\n",
       "        vertical-align: top;\n",
       "    }\n",
       "\n",
       "    .dataframe thead th {\n",
       "        text-align: right;\n",
       "    }\n",
       "</style>\n",
       "<table border=\"1\" class=\"dataframe\">\n",
       "  <thead>\n",
       "    <tr style=\"text-align: right;\">\n",
       "      <th></th>\n",
       "      <th>wavelength</th>\n",
       "      <th>Intensities</th>\n",
       "    </tr>\n",
       "  </thead>\n",
       "  <tbody>\n",
       "    <tr>\n",
       "      <th>241</th>\n",
       "      <td>188.033333</td>\n",
       "      <td>57.555925</td>\n",
       "    </tr>\n",
       "    <tr>\n",
       "      <th>245</th>\n",
       "      <td>188.166667</td>\n",
       "      <td>55.253306</td>\n",
       "    </tr>\n",
       "    <tr>\n",
       "      <th>251</th>\n",
       "      <td>188.366667</td>\n",
       "      <td>43.950742</td>\n",
       "    </tr>\n",
       "    <tr>\n",
       "      <th>258</th>\n",
       "      <td>188.600000</td>\n",
       "      <td>50.717117</td>\n",
       "    </tr>\n",
       "    <tr>\n",
       "      <th>274</th>\n",
       "      <td>189.133333</td>\n",
       "      <td>62.666166</td>\n",
       "    </tr>\n",
       "    <tr>\n",
       "      <th>...</th>\n",
       "      <td>...</td>\n",
       "      <td>...</td>\n",
       "    </tr>\n",
       "    <tr>\n",
       "      <th>23031</th>\n",
       "      <td>947.700000</td>\n",
       "      <td>55.842551</td>\n",
       "    </tr>\n",
       "    <tr>\n",
       "      <th>23045</th>\n",
       "      <td>948.166667</td>\n",
       "      <td>51.689552</td>\n",
       "    </tr>\n",
       "    <tr>\n",
       "      <th>23064</th>\n",
       "      <td>948.800000</td>\n",
       "      <td>45.084654</td>\n",
       "    </tr>\n",
       "    <tr>\n",
       "      <th>23075</th>\n",
       "      <td>949.166667</td>\n",
       "      <td>41.478063</td>\n",
       "    </tr>\n",
       "    <tr>\n",
       "      <th>23083</th>\n",
       "      <td>949.433333</td>\n",
       "      <td>38.668263</td>\n",
       "    </tr>\n",
       "  </tbody>\n",
       "</table>\n",
       "<p>1589 rows × 2 columns</p>\n",
       "</div>"
      ],
      "text/plain": [
       "       wavelength  Intensities\n",
       "241    188.033333    57.555925\n",
       "245    188.166667    55.253306\n",
       "251    188.366667    43.950742\n",
       "258    188.600000    50.717117\n",
       "274    189.133333    62.666166\n",
       "...           ...          ...\n",
       "23031  947.700000    55.842551\n",
       "23045  948.166667    51.689552\n",
       "23064  948.800000    45.084654\n",
       "23075  949.166667    41.478063\n",
       "23083  949.433333    38.668263\n",
       "\n",
       "[1589 rows x 2 columns]"
      ]
     },
     "execution_count": 33,
     "metadata": {},
     "output_type": "execute_result"
    }
   ],
   "source": [
    "Selected_Sample_Spectra = Sample_Spectra.iloc[Sample_Peak] \n",
    "Selected_Sample_Spectra"
   ]
  },
  {
   "cell_type": "code",
   "execution_count": 34,
   "id": "31528e1b-0a0f-4d68-819e-6cb92254e312",
   "metadata": {},
   "outputs": [
    {
     "data": {
      "text/plain": [
       "<matplotlib.collections.PathCollection at 0x12ecf4260>"
      ]
     },
     "execution_count": 34,
     "metadata": {},
     "output_type": "execute_result"
    },
    {
     "data": {
      "image/png": "[encoded data removed]",
      "text/plain": [
       "<Figure size 640x480 with 1 Axes>"
      ]
     },
     "metadata": {},
     "output_type": "display_data"
    }
   ],
   "source": [
    "plt.plot(Sample_Spectra.wavelength,Sample_Spectra.Intensities) #plot a nomral ,x ,y plot)\n",
    "plt.scatter(Selected_Sample_Spectra.wavelength,Selected_Sample_Spectra.Intensities)"
   ]
  },
  {
   "cell_type": "markdown",
   "id": "b507873a-df55-41d2-9416-2e99aa8c6129",
   "metadata": {},
   "source": [
    "Now , lets try to create an list , lets fill the list , with all the detected peaks wavelengths of the sample spectra.\n",
    "\n",
    "Remember , Sample Spectra , has all the element within like Al , Fe , Cu , Mn , Mo etc)\n"
   ]
  },
  {
   "cell_type": "code",
   "execution_count": 35,
   "id": "abacd7e2-c280-4b3a-a3cd-ca3a2db77154",
   "metadata": {},
   "outputs": [
    {
     "name": "stdout",
     "output_type": "stream",
     "text": [
      "[188.0333333, 188.1666667, 188.3666667, 188.6, 189.1333333, 189.4333333, 189.7, 189.9333333, 190.1333333, 190.7, 190.9, 191.1666667, 191.5, 191.6, 191.8666667, 192.1333333, 192.4, 192.6333333, 193.1, 193.3, 193.6333333, 193.8666667, 194.1666667, 194.3, 194.6, 194.9, 195.3333333, 195.4666667, 195.7, 195.9, 196.1333333, 196.5333333, 196.7333333, 196.9333333, 197.1333333, 197.5, 197.7666667, 198.2, 198.4666667, 198.6666667, 199.0333333, 199.3, 199.8666667, 200.1666667, 200.4666667, 200.8, 201.0666667, 202.6, 203.8, 204.1, 204.4666667, 204.8666667, 205.3333333, 205.5333333, 206.2333333, 206.4333333, 207.0333333, 207.3666667, 207.6333333, 207.9, 208.2, 208.7, 209.4666667, 209.7, 210.0, 210.2666667, 210.4333333, 210.6666667, 210.8333333, 211.1, 211.4666667, 211.6666667, 211.8666667, 212.0333333, 212.4333333, 212.6333333, 213.1, 213.8666667, 215.2333333, 215.4666667, 215.9666667, 216.4333333, 216.7666667, 217.0666667, 217.4, 217.6333333, 217.8, 218.0333333, 218.2, 218.4, 218.5666667, 218.7333333, 219.1666667, 219.6, 219.8, 220.1666667, 220.3666667, 220.9666667, 221.6, 221.9333333, 222.2666667, 222.4666667, 222.9666667, 223.4, 223.7333333, 224.2, 224.4666667, 224.6666667, 224.9, 225.2, 225.5333333, 225.8, 226.3333333, 226.5333333, 226.9, 227.1666667, 227.3666667, 227.6, 227.9333333, 228.1666667, 228.4333333, 228.7666667, 229.0333333, 229.2333333, 229.8, 230.0333333, 230.2333333, 230.4666667, 230.7666667, 231.0, 231.2333333, 231.7, 231.9333333, 232.1666667, 232.4333333, 232.7, 233.0333333, 233.2666667, 233.5, 233.7666667, 234.0666667, 234.3333333, 234.8, 235.0666667, 235.3666667, 235.6666667, 235.9666667, 236.4666667, 236.7, 236.9, 237.3333333, 237.8666667, 237.9333333, 238.2, 238.4, 238.6333333, 238.8333333, 239.0333333, 239.2666667, 239.5333333, 239.8666667, 240.1666667, 240.4333333, 241.0666667, 241.3333333, 241.7333333, 241.9, 242.0666667, 242.3666667, 242.6666667, 242.9666667, 243.2, 243.4666667, 243.7333333, 243.9, 244.2, 244.4666667, 244.9666667, 245.2333333, 245.4, 245.6666667, 245.9, 246.2, 246.5, 246.8666667, 247.0333333, 247.2666667, 247.5666667, 247.8333333, 248.0666667, 248.3, 248.8, 249.0333333, 249.3, 249.6333333, 249.8, 249.9666667, 250.2, 250.6333333, 250.8, 251.1, 251.3666667, 251.5666667, 252.3333333, 252.8333333, 253.3666667, 253.6666667, 253.8333333, 254.2333333, 254.5666667, 254.8666667, 255.1333333, 255.5333333, 255.7666667, 256.5666667, 256.7666667, 257.5, 257.9333333, 258.2333333, 258.5666667, 258.7666667, 259.0666667, 259.3333333, 259.9333333, 260.1333333, 260.3, 260.5, 260.8666667, 261.1333333, 261.3666667, 261.5666667, 261.7333333, 261.9333333, 262.1, 262.5333333, 262.8, 263.1, 263.3333333, 263.7, 264.0, 264.3666667, 264.6666667, 264.9333333, 265.2333333, 265.5333333, 265.7666667, 266.0333333, 266.4333333, 266.6333333, 266.8, 267.0666667, 267.2333333, 267.5, 267.8, 268.4333333, 269.2666667, 269.6333333, 269.9, 270.1333333, 270.3666667, 270.6, 270.9, 271.2666667, 271.8666667, 272.0333333, 272.3, 272.7333333, 273.0, 273.3666667, 273.7, 273.9333333, 274.2666667, 274.6333333, 274.9, 275.2666667, 275.6333333, 276.1333333, 277.0666667, 278.7, 279.1, 279.5333333, 280.0666667, 281.6, 282.4333333, 282.7333333, 283.1, 283.2333333, 283.5333333, 283.8, 284.0333333, 284.1, 284.3333333, 284.7333333, 284.9333333, 285.2, 285.4, 285.5666667, 285.8, 286.2666667, 286.6666667, 287.0, 287.3333333, 287.5666667, 287.9, 288.1333333, 288.6333333, 288.9, 289.1, 289.4333333, 289.5666667, 289.7666667, 290.0, 290.5333333, 290.7666667, 291.1, 291.2666667, 291.5666667, 291.8, 292.1, 292.3333333, 292.7, 292.8333333, 293.0333333, 293.3, 293.6666667, 293.9, 294.1, 294.4, 294.8666667, 295.1333333, 295.4, 295.6333333, 295.9333333, 296.0666667, 296.2666667, 296.4666667, 296.6666667, 296.9, 297.3, 297.5666667, 297.7333333, 297.9, 298.1, 298.3666667, 298.7333333, 298.9333333, 299.1333333, 299.4, 299.7, 300.0666667, 300.2666667, 300.6, 300.7666667, 300.9333333, 301.1333333, 301.4666667, 301.6333333, 301.8333333, 302.5666667, 302.7666667, 303.0333333, 303.3666667, 303.6, 304.7333333, 305.0333333, 305.4666667, 305.7, 306.2, 306.4, 306.6333333, 306.9666667, 307.2333333, 307.5666667, 307.8333333, 308.2, 308.8, 309.0333333, 309.2666667, 310.0, 310.1333333, 310.4, 310.6, 310.7666667, 311.1333333, 311.5333333, 311.7, 311.9666667, 312.3333333, 312.5666667, 312.9, 313.1333333, 313.6333333, 313.9333333, 314.1, 314.3333333, 314.5333333, 314.8333333, 315.1, 315.3666667, 315.5666667, 315.9, 316.8333333, 317.1666667, 317.5666667, 317.9333333, 318.6, 318.8, 319.1, 319.4, 319.6666667, 320.0, 320.2333333, 320.7, 321.0666667, 321.4, 321.7, 321.7666667, 322.2666667, 322.5666667, 322.9, 323.4, 323.6666667, 323.9, 324.1666667, 324.5, 324.7666667, 325.6333333, 325.8333333, 326.1333333, 326.7666667, 328.2, 328.9, 330.2333333, 331.9333333, 332.0666667, 332.2666667, 332.7333333, 332.9666667, 334.5333333, 336.1, 336.8333333, 337.0666667, 337.2666667, 337.5333333, 337.7, 338.0333333, 338.3666667, 338.6, 338.8, 339.0333333, 339.2333333, 339.4333333, 339.6, 339.9333333, 340.2333333, 340.4, 340.5666667, 340.7333333, 340.9333333, 341.1, 341.3333333, 341.5, 341.8333333, 342.0333333, 342.2333333, 342.4, 342.7, 343.0333333, 343.2333333, 343.4666667, 343.6, 343.8, 344.1, 344.4333333, 344.6333333, 344.8333333, 345.1666667, 345.4, 345.6333333, 345.8, 345.9666667, 346.1333333, 346.5666667, 346.9333333, 347.2, 347.5333333, 348.1333333, 348.4, 348.5333333, 348.7333333, 349.0666667, 349.3333333, 349.5333333, 349.7, 350.0666667, 350.2333333, 350.5, 350.8333333, 351.0666667, 351.6, 351.9333333, 352.4, 352.6, 353.1333333, 353.3, 353.4333333, 353.6666667, 354.0, 354.2, 354.4333333, 354.7333333, 354.9, 355.3333333, 355.5333333, 355.7, 355.8666667, 356.3, 356.5333333, 356.8, 357.0333333, 357.2666667, 357.5333333, 357.7, 357.8666667, 358.1333333, 358.6666667, 359.3666667, 359.6, 359.8666667, 360.1333333, 360.3, 360.5666667, 360.6666667, 360.9, 361.2, 361.5, 361.7333333, 361.9, 362.2333333, 362.4666667, 362.6666667, 362.8333333, 362.9666667, 363.1666667, 363.5333333, 363.7666667, 364.0, 364.3, 364.5, 364.8, 365.0666667, 365.3, 365.6, 366.0, 366.3, 366.5666667, 366.9, 367.1666667, 367.4333333, 367.7333333, 368.0, 368.4666667, 369.0, 369.4333333, 369.7666667, 370.2, 370.6, 370.9333333, 371.3666667, 371.6333333, 371.9666667, 372.2666667, 372.7666667, 373.6666667, 374.1, 374.5, 374.9, 375.2333333, 375.8666667, 376.3, 376.7, 377.1, 377.5666667, 377.9, 378.2666667, 378.6, 378.8333333, 379.4333333, 379.9, 380.2666667, 380.6, 380.9333333, 381.2333333, 381.5333333, 382.0333333, 382.5333333, 383.3, 383.7666667, 384.0333333, 384.6333333, 385.0, 385.5, 386.0, 386.6, 387.1, 387.8333333, 388.2333333, 388.6666667, 389.5, 390.0333333, 390.5333333, 391.0666667, 391.3333333, 392.0, 392.3333333, 392.6666667, 392.9333333, 393.3666667, 393.7333333, 394.0333333, 394.4, 395.3333333, 395.7333333, 396.1666667, 396.4666667, 396.8333333, 397.2, 397.4666667, 398.1333333, 398.9333333, 399.4, 399.8, 400.5, 400.9333333, 401.4, 401.7333333, 402.1333333, 402.4666667, 402.7, 403.2666667, 404.1, 404.5333333, 404.9666667, 405.4333333, 405.7666667, 406.3333333, 406.7666667, 407.1333333, 407.8, 408.2333333, 408.5333333, 408.9333333, 409.2, 409.4333333, 409.9333333, 410.3333333, 410.6, 410.9666667, 411.3333333, 411.8333333, 412.2, 412.5, 412.7333333, 413.2, 413.4666667, 413.8, 414.3666667, 414.8333333, 415.1, 415.4333333, 415.9333333, 417.1666667, 417.4333333, 417.8666667, 418.2333333, 418.6, 419.1333333, 420.1, 421.0, 421.2333333, 421.5666667, 421.8666667, 422.0333333, 422.3333333, 422.6666667, 422.9666667, 423.3, 423.6, 423.9, 424.1333333, 424.5, 425.1, 425.4, 426.0333333, 426.6666667, 427.1666667, 427.8, 428.2666667, 428.6333333, 428.9333333, 429.5, 430.2666667, 430.8, 431.2, 431.5, 431.8666667, 432.2333333, 432.6, 433.4333333, 434.0666667, 434.7666667, 435.5, 435.9333333, 436.2666667, 436.5333333, 437.1666667, 437.5, 437.9333333, 438.3333333, 438.7, 438.9666667, 439.5, 440.0333333, 440.4666667, 440.8333333, 441.2333333, 441.5333333, 441.8666667, 442.2, 442.5666667, 443.0, 443.5333333, 443.8333333, 444.3333333, 444.9, 445.1333333, 445.4666667, 446.3333333, 446.6333333, 446.9, 447.2, 447.4666667, 447.8666667, 448.1666667, 449.2666667, 449.8333333, 450.1333333, 450.6666667, 451.1333333, 451.4333333, 451.8333333, 452.2666667, 452.6666667, 453.3666667, 453.9, 454.4666667, 454.9333333, 455.3666667, 456.0, 456.3333333, 457.2333333, 457.8333333, 458.1333333, 458.5666667, 458.9666667, 459.3333333, 459.6666667, 460.1333333, 460.4, 460.7333333, 461.3, 461.6666667, 462.3333333, 462.6666667, 463.0666667, 464.7666667, 465.7, 465.9666667, 466.4, 466.8, 467.1666667, 467.3666667, 467.6666667, 468.0333333, 469.3, 469.8666667, 470.5, 471.3666667, 471.6, 472.2666667, 474.8, 475.1, 475.9, 476.1, 477.1, 477.8333333, 478.7666667, 479.1666667, 479.4333333, 480.0666667, 480.2666667, 481.1666667, 484.0, 484.7666667, 485.1, 486.1666667, 487.0, 487.9, 488.7666667, 489.0666667, 489.5666667, 491.2666667, 492.5, 494.3333333, 494.6, 494.9666667, 495.4, 495.7666667, 496.4666667, 496.8333333, 497.0666667, 497.3, 497.6, 497.8333333, 498.1333333, 498.5, 499.1, 499.6, 499.9333333, 500.1666667, 500.6666667, 500.9333333, 501.3666667, 501.7333333, 501.9666667, 502.2333333, 502.4666667, 502.7333333, 503.0, 503.2666667, 503.5666667, 504.1, 504.4, 504.6666667, 504.9333333, 505.2, 505.5666667, 505.9333333, 506.2, 506.4333333, 506.7333333, 506.9666667, 507.2333333, 507.6, 508.0, 508.7666667, 509.2333333, 509.6666667, 509.9, 510.1666667, 510.4666667, 510.8, 511.3, 511.6, 511.9666667, 512.3, 512.8333333, 513.4, 513.9, 514.1666667, 514.5, 514.8333333, 515.1333333, 515.3666667, 515.9, 516.4, 516.7666667, 517.2666667, 517.9, 518.2333333, 518.8, 519.2, 520.0, 520.4666667, 520.9, 521.7, 522.0, 522.4666667, 522.7, 523.2333333, 523.5666667, 523.9333333, 524.3333333, 524.6333333, 525.1, 525.4333333, 525.8333333, 526.1666667, 526.5, 527.0, 527.4, 527.7333333, 528.0333333, 528.2666667, 528.4666667, 528.8666667, 529.1333333, 529.6, 529.9, 530.3, 530.7, 530.9666667, 531.2666667, 531.5, 531.7333333, 532.1, 532.3666667, 532.7666667, 533.4666667, 533.7666667, 534.1333333, 534.5, 534.9666667, 535.3666667, 535.5666667, 535.8666667, 536.1333333, 536.3333333, 536.6, 536.8666667, 537.1, 537.3333333, 537.6333333, 538.0333333, 538.3333333, 538.7333333, 539.2, 539.4333333, 539.7333333, 539.9666667, 540.3666667, 540.7, 540.9666667, 541.4333333, 541.7, 542.2, 542.4, 542.9666667, 543.6333333, 544.0, 544.5333333, 544.7333333, 545.1666667, 545.5333333, 546.0666667, 546.3666667, 546.6333333, 546.8666667, 547.3333333, 547.7333333, 548.1, 548.3333333, 548.8, 549.0666667, 549.3333333, 549.9, 550.6333333, 551.0666667, 551.4, 551.8, 552.3, 552.6666667, 553.0333333, 553.5, 553.7, 553.9666667, 554.3, 554.6, 554.9666667, 555.3, 555.5666667, 555.9, 556.1666667, 556.4333333, 557.0, 557.2666667, 557.5666667, 558.1666667, 558.5, 558.8333333, 559.4333333, 559.8, 560.1666667, 560.7, 561.5333333, 561.9666667, 562.4333333, 562.8333333, 563.2, 563.4333333, 563.9, 564.2666667, 564.5, 564.8333333, 565.2333333, 565.8666667, 566.2, 566.4666667, 566.9, 567.3333333, 567.6666667, 568.2333333, 568.5, 568.8666667, 569.2, 569.5, 569.7333333, 570.3, 570.5333333, 570.8, 571.1333333, 571.3666667, 571.6333333, 571.8333333, 572.0666667, 572.4, 572.9333333, 573.3333333, 573.6666667, 573.9, 574.2333333, 574.4666667, 574.8333333, 575.2, 575.4, 575.6333333, 575.9, 576.3333333, 576.7333333, 577.3666667, 577.6666667, 578.0, 578.2666667, 578.6, 579.1, 579.3666667, 579.7, 579.9333333, 580.3666667, 580.6, 580.9, 581.1, 581.3666667, 581.6, 581.8333333, 582.1, 582.3, 582.5333333, 582.7666667, 583.0, 583.3666667, 583.5666667, 583.8666667, 584.0666667, 584.4666667, 584.9333333, 585.2666667, 585.4333333, 585.7333333, 586.0666667, 586.3, 586.6, 586.9, 587.1333333, 587.3666667, 587.5666667, 588.0, 588.3666667, 588.6, 589.0, 589.5666667, 590.0333333, 590.2666667, 590.5666667, 591.2333333, 591.6666667, 591.9333333, 592.6666667, 593.0, 593.2, 593.7333333, 594.1, 594.4, 594.7, 595.1, 595.3, 595.8, 596.1, 596.3666667, 596.6, 596.8666667, 597.2666667, 597.5, 597.9666667, 598.3666667, 598.6666667, 598.9333333, 599.3666667, 599.7, 600.0666667, 600.3, 600.5, 600.7666667, 601.2333333, 601.5, 602.2, 602.8, 603.0666667, 603.3, 603.5, 603.7, 604.1666667, 604.4666667, 604.7333333, 605.1333333, 605.6, 605.9666667, 606.2333333, 606.5333333, 607.2, 607.7333333, 607.9666667, 608.3333333, 608.6333333, 609.0, 609.3333333, 610.3, 612.2, 612.5333333, 612.7666667, 612.9666667, 613.2333333, 613.5666667, 613.8, 614.4666667, 615.1666667, 615.7333333, 616.4333333, 616.9666667, 617.3, 617.5666667, 617.8333333, 618.0666667, 618.3, 618.5666667, 619.4666667, 619.8666667, 620.0, 620.4333333, 620.9, 621.4, 622.5666667, 623.7, 624.5666667, 625.3333333, 625.9, 626.7333333, 627.2, 627.9333333, 628.4, 628.7333333, 629.1333333, 629.5, 630.0, 630.7666667, 631.1333333, 631.6666667, 632.1, 632.7, 635.4333333, 636.2333333, 640.3666667, 641.1666667, 641.7333333, 642.8666667, 643.9, 644.3666667, 644.9, 645.6333333, 646.2333333, 646.7333333, 647.0666667, 648.4, 648.7666667, 649.3666667, 649.9666667, 650.6, 651.7666667, 652.2, 656.2666667, 660.4666667, 661.1333333, 663.8, 664.2666667, 664.6333333, 665.2, 665.6, 666.0333333, 666.3666667, 666.7333333, 667.2333333, 667.7333333, 668.3666667, 669.0333333, 669.5, 669.8666667, 670.2333333, 670.6666667, 671.7333333, 672.3333333, 672.7666667, 673.9333333, 674.3666667, 675.3333333, 677.4333333, 678.0, 678.4, 678.7666667, 679.3, 680.1, 680.5333333, 681.0, 681.5333333, 681.9, 682.8333333, 683.6666667, 684.5, 685.0, 685.5333333, 687.1666667, 688.6666667, 689.7, 690.4666667, 691.2666667, 692.9, 693.8, 695.6, 696.0333333, 696.5, 699.0333333, 699.5, 700.0666667, 701.0333333, 701.4666667, 702.0333333, 702.4, 703.2, 703.7333333, 704.1, 705.6666667, 706.1666667, 706.7333333, 707.1666667, 709.0, 710.0, 710.6333333, 711.1, 711.8333333, 712.2333333, 712.6666667, 713.0, 713.3666667, 713.8333333, 714.7333333, 715.1333333, 715.7666667, 717.2, 717.7666667, 718.6666667, 719.3, 719.6666667, 720.2333333, 720.8333333, 721.5, 721.8666667, 722.3333333, 722.9, 723.7333333, 724.4, 725.1, 725.7, 726.2333333, 726.7666667, 727.3, 727.7333333, 729.0333333, 729.4333333, 729.8333333, 730.3666667, 731.4, 731.7333333, 732.2333333, 732.5666667, 733.1, 733.5666667, 734.4333333, 735.6, 736.1666667, 737.3333333, 737.8333333, 738.4, 740.6666667, 741.9333333, 742.3666667, 742.8666667, 743.8, 744.2, 745.8, 746.3333333, 746.8333333, 747.3, 747.8, 748.3333333, 749.5666667, 749.9, 750.3666667, 751.4333333, 754.5666667, 755.0, 755.5666667, 756.1666667, 756.6333333, 757.0, 758.6666667, 759.9, 760.6, 762.6666667, 763.0, 763.4666667, 765.9333333, 766.4, 766.9333333, 768.5, 769.1, 769.4333333, 769.8333333, 770.2666667, 770.6333333, 771.4333333, 771.8666667, 772.4, 774.7666667, 776.2666667, 777.2333333, 778.3666667, 779.3666667, 779.8, 780.7333333, 781.4333333, 782.2, 782.6, 782.9333333, 783.7666667, 784.2666667, 784.7666667, 785.1333333, 785.7666667, 786.5666667, 787.2333333, 787.6666667, 788.0333333, 789.2, 789.7666667, 790.2, 790.9, 791.6, 792.0, 792.8333333, 793.9, 794.3, 794.7666667, 797.1666667, 797.7, 798.1, 798.6, 800.0666667, 800.6, 801.4333333, 804.6666667, 805.1333333, 805.5333333, 805.9666667, 806.6666667, 809.8666667, 810.3, 810.9333333, 811.5, 814.8333333, 815.7333333, 816.0666667, 816.4666667, 816.9333333, 817.4, 817.7333333, 818.3333333, 818.7333333, 819.4, 820.0, 820.5, 821.0333333, 821.5666667, 822.2333333, 823.0, 823.4666667, 824.2, 825.6333333, 825.9333333, 826.3666667, 827.7, 828.2333333, 828.6, 828.9333333, 829.3, 829.6666667, 830.3666667, 830.7, 831.2666667, 831.7333333, 832.6, 833.0666667, 833.5, 834.4333333, 834.6333333, 835.0666667, 835.4666667, 835.7666667, 836.1666667, 837.0, 837.6, 838.1, 840.2666667, 840.7333333, 842.4, 844.5333333, 845.5, 846.1666667, 846.9, 847.5, 848.3333333, 849.2666667, 849.6666667, 851.5666667, 852.0666667, 853.5666667, 854.1, 854.9666667, 855.3, 855.7333333, 856.8, 857.5333333, 858.1, 858.7666667, 859.3, 860.6, 861.3, 861.8333333, 862.3, 862.8666667, 863.4333333, 863.9333333, 864.8666667, 865.6, 866.1, 866.7, 867.9666667, 869.1666667, 869.4333333, 870.1666667, 871.0333333, 871.7666667, 872.3666667, 872.8666667, 873.2333333, 873.6, 873.9, 874.9666667, 875.3666667, 876.7333333, 877.2666667, 878.9666667, 879.7, 880.7666667, 881.9666667, 884.0, 884.6, 885.2, 885.7666667, 886.0666667, 888.1666667, 890.8, 892.1666667, 893.9666667, 894.3, 894.9, 895.4333333, 895.7666667, 896.1333333, 896.6333333, 897.6, 899.6333333, 900.0, 901.0333333, 901.4, 902.3333333, 902.7666667, 903.0333333, 903.6333333, 904.0333333, 904.4333333, 904.8333333, 905.1666667, 906.1, 907.0, 907.3333333, 907.7, 908.1666667, 908.8333333, 909.4, 910.6, 911.1, 911.7, 912.2, 914.3, 914.6666667, 915.3333333, 915.6333333, 916.1, 916.6, 917.2666667, 917.5666667, 918.1, 918.7333333, 919.4, 920.6333333, 921.0333333, 921.6333333, 921.9333333, 922.3333333, 923.9333333, 924.3666667, 924.7, 925.0333333, 926.5, 927.7333333, 928.2666667, 929.1, 929.3333333, 929.8333333, 930.4333333, 930.8666667, 931.3, 931.6, 932.2, 932.8666667, 933.4333333, 933.9333333, 934.4666667, 934.9, 935.3333333, 935.9, 936.6333333, 937.0666667, 938.4333333, 939.1666667, 940.0333333, 940.5, 941.8333333, 942.2666667, 942.8333333, 943.1666667, 943.6333333, 944.3333333, 945.8666667, 947.1, 947.7, 948.1666667, 948.8, 949.1666667, 949.4333333]\n"
     ]
    }
   ],
   "source": [
    "Sample_Spectra_Wavelength = Sample_Spectra.iloc[Sample_Peak]\n",
    "\n",
    "Sample_Spectra_List = []\n",
    "\n",
    "for iteam in Sample_Spectra_Wavelength.wavelength:\n",
    "    iteam = float(iteam)\n",
    "    Sample_Spectra_List.append(iteam)\n",
    "    \n",
    "print(Sample_Spectra_List)\n"
   ]
  },
  {
   "cell_type": "markdown",
   "id": "0ed2b4a2-0e2e-4e9b-a1f1-ab44c45d38e3",
   "metadata": {},
   "source": [
    "# So far so now , i have two list with me \n",
    "\n",
    "1) Sample_Spectra_List = Containg wavelngths of all Peaks from data of Handheld LIBS device\n",
    "2) Reference_Spectra_Min_Max = Containing a range of wavelength , for all the peak detected in the Reference Sample\n",
    "\n",
    "   "
   ]
  },
  {
   "cell_type": "code",
   "execution_count": 36,
   "id": "dc1343d3-2bbd-460b-9181-6f8d5544de7b",
   "metadata": {},
   "outputs": [
    {
     "name": "stdout",
     "output_type": "stream",
     "text": [
      "[188.0333333, 188.1666667, 188.3666667, 188.6, 189.1333333, 189.4333333, 189.7, 189.9333333, 190.1333333, 190.7, 190.9, 191.1666667, 191.5, 191.6, 191.8666667, 192.1333333, 192.4, 192.6333333, 193.1, 193.3, 193.6333333, 193.8666667, 194.1666667, 194.3, 194.6, 194.9, 195.3333333, 195.4666667, 195.7, 195.9, 196.1333333, 196.5333333, 196.7333333, 196.9333333, 197.1333333, 197.5, 197.7666667, 198.2, 198.4666667, 198.6666667, 199.0333333, 199.3, 199.8666667, 200.1666667, 200.4666667, 200.8, 201.0666667, 202.6, 203.8, 204.1, 204.4666667, 204.8666667, 205.3333333, 205.5333333, 206.2333333, 206.4333333, 207.0333333, 207.3666667, 207.6333333, 207.9, 208.2, 208.7, 209.4666667, 209.7, 210.0, 210.2666667, 210.4333333, 210.6666667, 210.8333333, 211.1, 211.4666667, 211.6666667, 211.8666667, 212.0333333, 212.4333333, 212.6333333, 213.1, 213.8666667, 215.2333333, 215.4666667, 215.9666667, 216.4333333, 216.7666667, 217.0666667, 217.4, 217.6333333, 217.8, 218.0333333, 218.2, 218.4, 218.5666667, 218.7333333, 219.1666667, 219.6, 219.8, 220.1666667, 220.3666667, 220.9666667, 221.6, 221.9333333, 222.2666667, 222.4666667, 222.9666667, 223.4, 223.7333333, 224.2, 224.4666667, 224.6666667, 224.9, 225.2, 225.5333333, 225.8, 226.3333333, 226.5333333, 226.9, 227.1666667, 227.3666667, 227.6, 227.9333333, 228.1666667, 228.4333333, 228.7666667, 229.0333333, 229.2333333, 229.8, 230.0333333, 230.2333333, 230.4666667, 230.7666667, 231.0, 231.2333333, 231.7, 231.9333333, 232.1666667, 232.4333333, 232.7, 233.0333333, 233.2666667, 233.5, 233.7666667, 234.0666667, 234.3333333, 234.8, 235.0666667, 235.3666667, 235.6666667, 235.9666667, 236.4666667, 236.7, 236.9, 237.3333333, 237.8666667, 237.9333333, 238.2, 238.4, 238.6333333, 238.8333333, 239.0333333, 239.2666667, 239.5333333, 239.8666667, 240.1666667, 240.4333333, 241.0666667, 241.3333333, 241.7333333, 241.9, 242.0666667, 242.3666667, 242.6666667, 242.9666667, 243.2, 243.4666667, 243.7333333, 243.9, 244.2, 244.4666667, 244.9666667, 245.2333333, 245.4, 245.6666667, 245.9, 246.2, 246.5, 246.8666667, 247.0333333, 247.2666667, 247.5666667, 247.8333333, 248.0666667, 248.3, 248.8, 249.0333333, 249.3, 249.6333333, 249.8, 249.9666667, 250.2, 250.6333333, 250.8, 251.1, 251.3666667, 251.5666667, 252.3333333, 252.8333333, 253.3666667, 253.6666667, 253.8333333, 254.2333333, 254.5666667, 254.8666667, 255.1333333, 255.5333333, 255.7666667, 256.5666667, 256.7666667, 257.5, 257.9333333, 258.2333333, 258.5666667, 258.7666667, 259.0666667, 259.3333333, 259.9333333, 260.1333333, 260.3, 260.5, 260.8666667, 261.1333333, 261.3666667, 261.5666667, 261.7333333, 261.9333333, 262.1, 262.5333333, 262.8, 263.1, 263.3333333, 263.7, 264.0, 264.3666667, 264.6666667, 264.9333333, 265.2333333, 265.5333333, 265.7666667, 266.0333333, 266.4333333, 266.6333333, 266.8, 267.0666667, 267.2333333, 267.5, 267.8, 268.4333333, 269.2666667, 269.6333333, 269.9, 270.1333333, 270.3666667, 270.6, 270.9, 271.2666667, 271.8666667, 272.0333333, 272.3, 272.7333333, 273.0, 273.3666667, 273.7, 273.9333333, 274.2666667, 274.6333333, 274.9, 275.2666667, 275.6333333, 276.1333333, 277.0666667, 278.7, 279.1, 279.5333333, 280.0666667, 281.6, 282.4333333, 282.7333333, 283.1, 283.2333333, 283.5333333, 283.8, 284.0333333, 284.1, 284.3333333, 284.7333333, 284.9333333, 285.2, 285.4, 285.5666667, 285.8, 286.2666667, 286.6666667, 287.0, 287.3333333, 287.5666667, 287.9, 288.1333333, 288.6333333, 288.9, 289.1, 289.4333333, 289.5666667, 289.7666667, 290.0, 290.5333333, 290.7666667, 291.1, 291.2666667, 291.5666667, 291.8, 292.1, 292.3333333, 292.7, 292.8333333, 293.0333333, 293.3, 293.6666667, 293.9, 294.1, 294.4, 294.8666667, 295.1333333, 295.4, 295.6333333, 295.9333333, 296.0666667, 296.2666667, 296.4666667, 296.6666667, 296.9, 297.3, 297.5666667, 297.7333333, 297.9, 298.1, 298.3666667, 298.7333333, 298.9333333, 299.1333333, 299.4, 299.7, 300.0666667, 300.2666667, 300.6, 300.7666667, 300.9333333, 301.1333333, 301.4666667, 301.6333333, 301.8333333, 302.5666667, 302.7666667, 303.0333333, 303.3666667, 303.6, 304.7333333, 305.0333333, 305.4666667, 305.7, 306.2, 306.4, 306.6333333, 306.9666667, 307.2333333, 307.5666667, 307.8333333, 308.2, 308.8, 309.0333333, 309.2666667, 310.0, 310.1333333, 310.4, 310.6, 310.7666667, 311.1333333, 311.5333333, 311.7, 311.9666667, 312.3333333, 312.5666667, 312.9, 313.1333333, 313.6333333, 313.9333333, 314.1, 314.3333333, 314.5333333, 314.8333333, 315.1, 315.3666667, 315.5666667, 315.9, 316.8333333, 317.1666667, 317.5666667, 317.9333333, 318.6, 318.8, 319.1, 319.4, 319.6666667, 320.0, 320.2333333, 320.7, 321.0666667, 321.4, 321.7, 321.7666667, 322.2666667, 322.5666667, 322.9, 323.4, 323.6666667, 323.9, 324.1666667, 324.5, 324.7666667, 325.6333333, 325.8333333, 326.1333333, 326.7666667, 328.2, 328.9, 330.2333333, 331.9333333, 332.0666667, 332.2666667, 332.7333333, 332.9666667, 334.5333333, 336.1, 336.8333333, 337.0666667, 337.2666667, 337.5333333, 337.7, 338.0333333, 338.3666667, 338.6, 338.8, 339.0333333, 339.2333333, 339.4333333, 339.6, 339.9333333, 340.2333333, 340.4, 340.5666667, 340.7333333, 340.9333333, 341.1, 341.3333333, 341.5, 341.8333333, 342.0333333, 342.2333333, 342.4, 342.7, 343.0333333, 343.2333333, 343.4666667, 343.6, 343.8, 344.1, 344.4333333, 344.6333333, 344.8333333, 345.1666667, 345.4, 345.6333333, 345.8, 345.9666667, 346.1333333, 346.5666667, 346.9333333, 347.2, 347.5333333, 348.1333333, 348.4, 348.5333333, 348.7333333, 349.0666667, 349.3333333, 349.5333333, 349.7, 350.0666667, 350.2333333, 350.5, 350.8333333, 351.0666667, 351.6, 351.9333333, 352.4, 352.6, 353.1333333, 353.3, 353.4333333, 353.6666667, 354.0, 354.2, 354.4333333, 354.7333333, 354.9, 355.3333333, 355.5333333, 355.7, 355.8666667, 356.3, 356.5333333, 356.8, 357.0333333, 357.2666667, 357.5333333, 357.7, 357.8666667, 358.1333333, 358.6666667, 359.3666667, 359.6, 359.8666667, 360.1333333, 360.3, 360.5666667, 360.6666667, 360.9, 361.2, 361.5, 361.7333333, 361.9, 362.2333333, 362.4666667, 362.6666667, 362.8333333, 362.9666667, 363.1666667, 363.5333333, 363.7666667, 364.0, 364.3, 364.5, 364.8, 365.0666667, 365.3, 365.6, 366.0, 366.3, 366.5666667, 366.9, 367.1666667, 367.4333333, 367.7333333, 368.0, 368.4666667, 369.0, 369.4333333, 369.7666667, 370.2, 370.6, 370.9333333, 371.3666667, 371.6333333, 371.9666667, 372.2666667, 372.7666667, 373.6666667, 374.1, 374.5, 374.9, 375.2333333, 375.8666667, 376.3, 376.7, 377.1, 377.5666667, 377.9, 378.2666667, 378.6, 378.8333333, 379.4333333, 379.9, 380.2666667, 380.6, 380.9333333, 381.2333333, 381.5333333, 382.0333333, 382.5333333, 383.3, 383.7666667, 384.0333333, 384.6333333, 385.0, 385.5, 386.0, 386.6, 387.1, 387.8333333, 388.2333333, 388.6666667, 389.5, 390.0333333, 390.5333333, 391.0666667, 391.3333333, 392.0, 392.3333333, 392.6666667, 392.9333333, 393.3666667, 393.7333333, 394.0333333, 394.4, 395.3333333, 395.7333333, 396.1666667, 396.4666667, 396.8333333, 397.2, 397.4666667, 398.1333333, 398.9333333, 399.4, 399.8, 400.5, 400.9333333, 401.4, 401.7333333, 402.1333333, 402.4666667, 402.7, 403.2666667, 404.1, 404.5333333, 404.9666667, 405.4333333, 405.7666667, 406.3333333, 406.7666667, 407.1333333, 407.8, 408.2333333, 408.5333333, 408.9333333, 409.2, 409.4333333, 409.9333333, 410.3333333, 410.6, 410.9666667, 411.3333333, 411.8333333, 412.2, 412.5, 412.7333333, 413.2, 413.4666667, 413.8, 414.3666667, 414.8333333, 415.1, 415.4333333, 415.9333333, 417.1666667, 417.4333333, 417.8666667, 418.2333333, 418.6, 419.1333333, 420.1, 421.0, 421.2333333, 421.5666667, 421.8666667, 422.0333333, 422.3333333, 422.6666667, 422.9666667, 423.3, 423.6, 423.9, 424.1333333, 424.5, 425.1, 425.4, 426.0333333, 426.6666667, 427.1666667, 427.8, 428.2666667, 428.6333333, 428.9333333, 429.5, 430.2666667, 430.8, 431.2, 431.5, 431.8666667, 432.2333333, 432.6, 433.4333333, 434.0666667, 434.7666667, 435.5, 435.9333333, 436.2666667, 436.5333333, 437.1666667, 437.5, 437.9333333, 438.3333333, 438.7, 438.9666667, 439.5, 440.0333333, 440.4666667, 440.8333333, 441.2333333, 441.5333333, 441.8666667, 442.2, 442.5666667, 443.0, 443.5333333, 443.8333333, 444.3333333, 444.9, 445.1333333, 445.4666667, 446.3333333, 446.6333333, 446.9, 447.2, 447.4666667, 447.8666667, 448.1666667, 449.2666667, 449.8333333, 450.1333333, 450.6666667, 451.1333333, 451.4333333, 451.8333333, 452.2666667, 452.6666667, 453.3666667, 453.9, 454.4666667, 454.9333333, 455.3666667, 456.0, 456.3333333, 457.2333333, 457.8333333, 458.1333333, 458.5666667, 458.9666667, 459.3333333, 459.6666667, 460.1333333, 460.4, 460.7333333, 461.3, 461.6666667, 462.3333333, 462.6666667, 463.0666667, 464.7666667, 465.7, 465.9666667, 466.4, 466.8, 467.1666667, 467.3666667, 467.6666667, 468.0333333, 469.3, 469.8666667, 470.5, 471.3666667, 471.6, 472.2666667, 474.8, 475.1, 475.9, 476.1, 477.1, 477.8333333, 478.7666667, 479.1666667, 479.4333333, 480.0666667, 480.2666667, 481.1666667, 484.0, 484.7666667, 485.1, 486.1666667, 487.0, 487.9, 488.7666667, 489.0666667, 489.5666667, 491.2666667, 492.5, 494.3333333, 494.6, 494.9666667, 495.4, 495.7666667, 496.4666667, 496.8333333, 497.0666667, 497.3, 497.6, 497.8333333, 498.1333333, 498.5, 499.1, 499.6, 499.9333333, 500.1666667, 500.6666667, 500.9333333, 501.3666667, 501.7333333, 501.9666667, 502.2333333, 502.4666667, 502.7333333, 503.0, 503.2666667, 503.5666667, 504.1, 504.4, 504.6666667, 504.9333333, 505.2, 505.5666667, 505.9333333, 506.2, 506.4333333, 506.7333333, 506.9666667, 507.2333333, 507.6, 508.0, 508.7666667, 509.2333333, 509.6666667, 509.9, 510.1666667, 510.4666667, 510.8, 511.3, 511.6, 511.9666667, 512.3, 512.8333333, 513.4, 513.9, 514.1666667, 514.5, 514.8333333, 515.1333333, 515.3666667, 515.9, 516.4, 516.7666667, 517.2666667, 517.9, 518.2333333, 518.8, 519.2, 520.0, 520.4666667, 520.9, 521.7, 522.0, 522.4666667, 522.7, 523.2333333, 523.5666667, 523.9333333, 524.3333333, 524.6333333, 525.1, 525.4333333, 525.8333333, 526.1666667, 526.5, 527.0, 527.4, 527.7333333, 528.0333333, 528.2666667, 528.4666667, 528.8666667, 529.1333333, 529.6, 529.9, 530.3, 530.7, 530.9666667, 531.2666667, 531.5, 531.7333333, 532.1, 532.3666667, 532.7666667, 533.4666667, 533.7666667, 534.1333333, 534.5, 534.9666667, 535.3666667, 535.5666667, 535.8666667, 536.1333333, 536.3333333, 536.6, 536.8666667, 537.1, 537.3333333, 537.6333333, 538.0333333, 538.3333333, 538.7333333, 539.2, 539.4333333, 539.7333333, 539.9666667, 540.3666667, 540.7, 540.9666667, 541.4333333, 541.7, 542.2, 542.4, 542.9666667, 543.6333333, 544.0, 544.5333333, 544.7333333, 545.1666667, 545.5333333, 546.0666667, 546.3666667, 546.6333333, 546.8666667, 547.3333333, 547.7333333, 548.1, 548.3333333, 548.8, 549.0666667, 549.3333333, 549.9, 550.6333333, 551.0666667, 551.4, 551.8, 552.3, 552.6666667, 553.0333333, 553.5, 553.7, 553.9666667, 554.3, 554.6, 554.9666667, 555.3, 555.5666667, 555.9, 556.1666667, 556.4333333, 557.0, 557.2666667, 557.5666667, 558.1666667, 558.5, 558.8333333, 559.4333333, 559.8, 560.1666667, 560.7, 561.5333333, 561.9666667, 562.4333333, 562.8333333, 563.2, 563.4333333, 563.9, 564.2666667, 564.5, 564.8333333, 565.2333333, 565.8666667, 566.2, 566.4666667, 566.9, 567.3333333, 567.6666667, 568.2333333, 568.5, 568.8666667, 569.2, 569.5, 569.7333333, 570.3, 570.5333333, 570.8, 571.1333333, 571.3666667, 571.6333333, 571.8333333, 572.0666667, 572.4, 572.9333333, 573.3333333, 573.6666667, 573.9, 574.2333333, 574.4666667, 574.8333333, 575.2, 575.4, 575.6333333, 575.9, 576.3333333, 576.7333333, 577.3666667, 577.6666667, 578.0, 578.2666667, 578.6, 579.1, 579.3666667, 579.7, 579.9333333, 580.3666667, 580.6, 580.9, 581.1, 581.3666667, 581.6, 581.8333333, 582.1, 582.3, 582.5333333, 582.7666667, 583.0, 583.3666667, 583.5666667, 583.8666667, 584.0666667, 584.4666667, 584.9333333, 585.2666667, 585.4333333, 585.7333333, 586.0666667, 586.3, 586.6, 586.9, 587.1333333, 587.3666667, 587.5666667, 588.0, 588.3666667, 588.6, 589.0, 589.5666667, 590.0333333, 590.2666667, 590.5666667, 591.2333333, 591.6666667, 591.9333333, 592.6666667, 593.0, 593.2, 593.7333333, 594.1, 594.4, 594.7, 595.1, 595.3, 595.8, 596.1, 596.3666667, 596.6, 596.8666667, 597.2666667, 597.5, 597.9666667, 598.3666667, 598.6666667, 598.9333333, 599.3666667, 599.7, 600.0666667, 600.3, 600.5, 600.7666667, 601.2333333, 601.5, 602.2, 602.8, 603.0666667, 603.3, 603.5, 603.7, 604.1666667, 604.4666667, 604.7333333, 605.1333333, 605.6, 605.9666667, 606.2333333, 606.5333333, 607.2, 607.7333333, 607.9666667, 608.3333333, 608.6333333, 609.0, 609.3333333, 610.3, 612.2, 612.5333333, 612.7666667, 612.9666667, 613.2333333, 613.5666667, 613.8, 614.4666667, 615.1666667, 615.7333333, 616.4333333, 616.9666667, 617.3, 617.5666667, 617.8333333, 618.0666667, 618.3, 618.5666667, 619.4666667, 619.8666667, 620.0, 620.4333333, 620.9, 621.4, 622.5666667, 623.7, 624.5666667, 625.3333333, 625.9, 626.7333333, 627.2, 627.9333333, 628.4, 628.7333333, 629.1333333, 629.5, 630.0, 630.7666667, 631.1333333, 631.6666667, 632.1, 632.7, 635.4333333, 636.2333333, 640.3666667, 641.1666667, 641.7333333, 642.8666667, 643.9, 644.3666667, 644.9, 645.6333333, 646.2333333, 646.7333333, 647.0666667, 648.4, 648.7666667, 649.3666667, 649.9666667, 650.6, 651.7666667, 652.2, 656.2666667, 660.4666667, 661.1333333, 663.8, 664.2666667, 664.6333333, 665.2, 665.6, 666.0333333, 666.3666667, 666.7333333, 667.2333333, 667.7333333, 668.3666667, 669.0333333, 669.5, 669.8666667, 670.2333333, 670.6666667, 671.7333333, 672.3333333, 672.7666667, 673.9333333, 674.3666667, 675.3333333, 677.4333333, 678.0, 678.4, 678.7666667, 679.3, 680.1, 680.5333333, 681.0, 681.5333333, 681.9, 682.8333333, 683.6666667, 684.5, 685.0, 685.5333333, 687.1666667, 688.6666667, 689.7, 690.4666667, 691.2666667, 692.9, 693.8, 695.6, 696.0333333, 696.5, 699.0333333, 699.5, 700.0666667, 701.0333333, 701.4666667, 702.0333333, 702.4, 703.2, 703.7333333, 704.1, 705.6666667, 706.1666667, 706.7333333, 707.1666667, 709.0, 710.0, 710.6333333, 711.1, 711.8333333, 712.2333333, 712.6666667, 713.0, 713.3666667, 713.8333333, 714.7333333, 715.1333333, 715.7666667, 717.2, 717.7666667, 718.6666667, 719.3, 719.6666667, 720.2333333, 720.8333333, 721.5, 721.8666667, 722.3333333, 722.9, 723.7333333, 724.4, 725.1, 725.7, 726.2333333, 726.7666667, 727.3, 727.7333333, 729.0333333, 729.4333333, 729.8333333, 730.3666667, 731.4, 731.7333333, 732.2333333, 732.5666667, 733.1, 733.5666667, 734.4333333, 735.6, 736.1666667, 737.3333333, 737.8333333, 738.4, 740.6666667, 741.9333333, 742.3666667, 742.8666667, 743.8, 744.2, 745.8, 746.3333333, 746.8333333, 747.3, 747.8, 748.3333333, 749.5666667, 749.9, 750.3666667, 751.4333333, 754.5666667, 755.0, 755.5666667, 756.1666667, 756.6333333, 757.0, 758.6666667, 759.9, 760.6, 762.6666667, 763.0, 763.4666667, 765.9333333, 766.4, 766.9333333, 768.5, 769.1, 769.4333333, 769.8333333, 770.2666667, 770.6333333, 771.4333333, 771.8666667, 772.4, 774.7666667, 776.2666667, 777.2333333, 778.3666667, 779.3666667, 779.8, 780.7333333, 781.4333333, 782.2, 782.6, 782.9333333, 783.7666667, 784.2666667, 784.7666667, 785.1333333, 785.7666667, 786.5666667, 787.2333333, 787.6666667, 788.0333333, 789.2, 789.7666667, 790.2, 790.9, 791.6, 792.0, 792.8333333, 793.9, 794.3, 794.7666667, 797.1666667, 797.7, 798.1, 798.6, 800.0666667, 800.6, 801.4333333, 804.6666667, 805.1333333, 805.5333333, 805.9666667, 806.6666667, 809.8666667, 810.3, 810.9333333, 811.5, 814.8333333, 815.7333333, 816.0666667, 816.4666667, 816.9333333, 817.4, 817.7333333, 818.3333333, 818.7333333, 819.4, 820.0, 820.5, 821.0333333, 821.5666667, 822.2333333, 823.0, 823.4666667, 824.2, 825.6333333, 825.9333333, 826.3666667, 827.7, 828.2333333, 828.6, 828.9333333, 829.3, 829.6666667, 830.3666667, 830.7, 831.2666667, 831.7333333, 832.6, 833.0666667, 833.5, 834.4333333, 834.6333333, 835.0666667, 835.4666667, 835.7666667, 836.1666667, 837.0, 837.6, 838.1, 840.2666667, 840.7333333, 842.4, 844.5333333, 845.5, 846.1666667, 846.9, 847.5, 848.3333333, 849.2666667, 849.6666667, 851.5666667, 852.0666667, 853.5666667, 854.1, 854.9666667, 855.3, 855.7333333, 856.8, 857.5333333, 858.1, 858.7666667, 859.3, 860.6, 861.3, 861.8333333, 862.3, 862.8666667, 863.4333333, 863.9333333, 864.8666667, 865.6, 866.1, 866.7, 867.9666667, 869.1666667, 869.4333333, 870.1666667, 871.0333333, 871.7666667, 872.3666667, 872.8666667, 873.2333333, 873.6, 873.9, 874.9666667, 875.3666667, 876.7333333, 877.2666667, 878.9666667, 879.7, 880.7666667, 881.9666667, 884.0, 884.6, 885.2, 885.7666667, 886.0666667, 888.1666667, 890.8, 892.1666667, 893.9666667, 894.3, 894.9, 895.4333333, 895.7666667, 896.1333333, 896.6333333, 897.6, 899.6333333, 900.0, 901.0333333, 901.4, 902.3333333, 902.7666667, 903.0333333, 903.6333333, 904.0333333, 904.4333333, 904.8333333, 905.1666667, 906.1, 907.0, 907.3333333, 907.7, 908.1666667, 908.8333333, 909.4, 910.6, 911.1, 911.7, 912.2, 914.3, 914.6666667, 915.3333333, 915.6333333, 916.1, 916.6, 917.2666667, 917.5666667, 918.1, 918.7333333, 919.4, 920.6333333, 921.0333333, 921.6333333, 921.9333333, 922.3333333, 923.9333333, 924.3666667, 924.7, 925.0333333, 926.5, 927.7333333, 928.2666667, 929.1, 929.3333333, 929.8333333, 930.4333333, 930.8666667, 931.3, 931.6, 932.2, 932.8666667, 933.4333333, 933.9333333, 934.4666667, 934.9, 935.3333333, 935.9, 936.6333333, 937.0666667, 938.4333333, 939.1666667, 940.0333333, 940.5, 941.8333333, 942.2666667, 942.8333333, 943.1666667, 943.6333333, 944.3333333, 945.8666667, 947.1, 947.7, 948.1666667, 948.8, 949.1666667, 949.4333333]\n"
     ]
    }
   ],
   "source": [
    "print(Sample_Spectra_List)"
   ]
  },
  {
   "cell_type": "code",
   "execution_count": 37,
   "id": "48dc5a0e-6348-41b5-a13b-b63d934d3a88",
   "metadata": {},
   "outputs": [
    {
     "name": "stdout",
     "output_type": "stream",
     "text": [
      "[[199.04, 199.08], [226.89, 226.93], [237.29999999999998, 237.34], [257.5, 257.53999999999996], [309.24, 309.28], [396.14000000000004, 396.18]]\n"
     ]
    }
   ],
   "source": [
    "print(Reference_Spectra_Min_Max)"
   ]
  },
  {
   "cell_type": "code",
   "execution_count": 38,
   "id": "7b44658b-34a2-47ab-84b7-d48ae48ab63c",
   "metadata": {},
   "outputs": [],
   "source": [
    "# Finally , My  idea is see , if each iteam in (Reference_Spectra_Min_Max) , matches with each element in (Sample_Spectra_List) , and then caluclate the exact matching Percentage \n"
   ]
  },
  {
   "cell_type": "code",
   "execution_count": 56,
   "id": "2b6834d7-af69-4f6b-8301-74b358d79f70",
   "metadata": {},
   "outputs": [
    {
     "name": "stdout",
     "output_type": "stream",
     "text": [
      "5\n",
      "[226.9, 237.3333333, 257.5, 309.2666667, 396.1666667]\n"
     ]
    }
   ],
   "source": [
    "plot_list=[]\n",
    "count = 0\n",
    "for range in Reference_Spectra_Min_Max: \n",
    "    for iteam in Sample_Spectra_List:\n",
    "        if iteam >= range[0] and iteam <= range[1]:\n",
    "            count = count + 1\n",
    "            plot_list.append(iteam)\n",
    "            \n",
    "print(count)\n",
    "print(plot_list)"
   ]
  },
  {
   "cell_type": "markdown",
   "id": "2e8ee4cc-9af9-4541-bfdf-0c460fae1d1c",
   "metadata": {},
   "source": [
    "# Lets calculate the percntage detection of the Spectra lines matching between the Reference_Sample and Material_Sample"
   ]
  },
  {
   "cell_type": "code",
   "execution_count": 69,
   "id": "0907b6eb-3b8c-4346-9401-d9f62d1efaba",
   "metadata": {
    "editable": true,
    "slideshow": {
     "slide_type": ""
    },
    "tags": []
   },
   "outputs": [
    {
     "name": "stdout",
     "output_type": "stream",
     "text": [
      "CR210LA Ananlysis of Al was done , and the 5 number of spectral lines from the material sample CR210LA matched with the 6 choosen Reference element of Al therefore , we can say 83.33333333333334% matched as per the parameters set by the user\n"
     ]
    }
   ],
   "source": [
    "percentage = (count / Length_Reference_Spectra_List) * 100\n",
    "percentage\n",
    "\n",
    "print (sample + ' Ananlysis of ' + element + ' was done , and the ' + str(count) +  ' number of spectral lines from the material sample ' + sample + ' matched with the ' + str(Length_Reference_Spectra_List) + ' choosen Reference element of '+ element + ' therefore , we can say' ,  str(percentage) + '%' + ' matched as per the parameters set by the user')"
   ]
  }
 ],
 "metadata": {
  "kernelspec": {
   "display_name": "Python 3 (ipykernel)",
   "language": "python",
   "name": "python3"
  },
  "language_info": {
   "codemirror_mode": {
    "name": "ipython",
    "version": 3
   },
   "file_extension": ".py",
   "mimetype": "text/x-python",
   "name": "python",
   "nbconvert_exporter": "python",
   "pygments_lexer": "ipython3",
   "version": "3.12.0"
  }
 },
 "nbformat": 4,
 "nbformat_minor": 5
}
