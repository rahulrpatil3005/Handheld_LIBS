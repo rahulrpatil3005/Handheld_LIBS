{
 "cells": [
  {
   "cell_type": "markdown",
   "id": "708ecccf-a107-4c11-a824-97e2dcbbabac",
   "metadata": {},
   "source": [
    "# Welcome to the Tutorial. This can be a good start from someone , having absoultely zero to no experience , programming in Python , Maybe , by this tutorial series  , you and me can learn together , and see how we can use Python for LIBS Spectra Data Analysis. I will be using Jupyter Lab for the Tutorial. "
   ]
  },
  {
   "cell_type": "markdown",
   "id": "160bd004-a56a-4adf-9873-31b03148911a",
   "metadata": {},
   "source": [
    "# SOME BACKGROUND"
   ]
  },
  {
   "cell_type": "markdown",
   "id": "c6d47a06-36ea-43db-8566-50e9c533aaf4",
   "metadata": {},
   "source": [
    "~ STEP 1 :- First download the latest Python Veriosn \n",
    "            https://www.python.org/downloads/\n",
    "\n",
    "Please Install the downloaded file on your computer using custom Installation settings. "
   ]
  },
  {
   "cell_type": "markdown",
   "id": "41ec6e05-e113-4c37-b68e-765d1c1cae46",
   "metadata": {},
   "source": [
    "~ STEP 2 :- After the installation is done , Open  , In MAC - Terminal or WIN - Terminal , and type \"Python3 --version\"\n",
    " for MAC or \"Python --version\" for WIN and press Enter \n",
    "\n",
    " If , the Terminal , returns with the verion of Python like \"Python 3.11.1\" , Installation has been succesful , and then we can proceed further , if not , please check if STEP 1 has been accomplished"
   ]
  },
  {
   "cell_type": "markdown",
   "id": "1aacfe08-aba6-411a-8d7e-bbfae468ab04",
   "metadata": {},
   "source": [
    "~STEP 3 :- After we are done  with the STEP 2 , I am using the Jupytr Lab for the tutorials. , type in terminal \"pip install jupyter lab\" , this will install the latest verison of Jupyter Lab on your system , automatically you will be redirected to the browser "
   ]
  },
  {
   "cell_type": "markdown",
   "id": "177ba2c9-c172-4235-9300-55fababea016",
   "metadata": {},
   "source": [
    "~ STEP 4 :- To check , if the installation of Jupyter lab has been successful , type \"jupyter lab --version\" on Terminal. If , the Terminal , returns with the verion of Jupyter Lab like \"4.1.2\" , Installation has been succesful , and then we can proceed further , if not , please check if STEP 3 has been accomplished"
   ]
  },
  {
   "cell_type": "markdown",
   "id": "9ad27c6d-f1e2-4360-8eed-b833ec11d07d",
   "metadata": {},
   "source": [
    "~ STEP 5 :- A library is a collection of code that makes everyday tasks more efficient. For my tutorial i would recommend Installing pandas , numpy - For data analysis , seaborn , matplotlib - For Visualisation.  \n",
    "\n",
    "Also , i would be Installing a library called \"peakutils\" , this woulbe be useful for recogisation of Peaks from the Spectra. https://peakutils.readthedocs.io/en/latest/\n"
   ]
  },
  {
   "cell_type": "markdown",
   "id": "b0d6fef1-aae7-4f6e-8c4b-6f9d45d46102",
   "metadata": {},
   "source": [
    "~ STEP 6 :- For installing the library , go to terminal , and type \"pip install pandas\" and after installing . Similarly , do this for numpy , seaborn , matplotlin and PeakUtils"
   ]
  },
  {
   "cell_type": "markdown",
   "id": "14de74cd-d43a-453c-a41b-423046e89a97",
   "metadata": {},
   "source": [
    "~ STEP 7 :- Now , to open the Jupyter Lab seession in the browser , go to terminal and type \"jupyter lab\" , you will be automatically redirected to the browser in a jupyter lab session. This is where you will start programming . \n",
    "\n",
    "NOTE :- To exit the session , press \"Ctrl + C\" on the termianal , this will end the running session on your system"
   ]
  },
  {
   "cell_type": "markdown",
   "id": "be32af82-9388-46d3-9bf1-d670a3cc25ea",
   "metadata": {},
   "source": [
    "~ STEP 8 :- In jupyter lab , your lines of codes or chunk of lines of codes  are called as \"Cell\" , If the \"Cell are of type Markdown - Used for Comments / Information \" and If the \"Cells are of type Code - Used for Programming\" \n",
    "\n",
    "You can get more in fo here -  https://www.datacamp.com/tutorial/installing-jupyter-notebook\n"
   ]
  },
  {
   "cell_type": "markdown",
   "id": "e701e0f5-142f-4166-b93d-3fb7377f98f1",
   "metadata": {},
   "source": [
    "# CODE BEGINS"
   ]
  },
  {
   "cell_type": "markdown",
   "id": "a64ca9ff-760b-4d7e-9cb8-29b89c23a90c",
   "metadata": {
    "editable": true,
    "slideshow": {
     "slide_type": ""
    },
    "tags": []
   },
   "source": [
    "# Importing the Useful librararies. "
   ]
  },
  {
   "cell_type": "markdown",
   "id": "61cfd157-b86e-4bc3-a3cf-63c87de1161b",
   "metadata": {},
   "source": [
    "Line [1] is completely optional , This is used to Hide the the Warnings in the Output cell. It's recommended to skip the line[1] , and proceed with the code from line[2]."
   ]
  },
  {
   "cell_type": "code",
   "execution_count": 1,
   "id": "fe24b79d-1d3e-4dcf-bc6c-d67f6ea78c29",
   "metadata": {},
   "outputs": [],
   "source": [
    "import warnings\n",
    "warnings.filterwarnings('ignore')"
   ]
  },
  {
   "cell_type": "markdown",
   "id": "356b5399-25db-40af-8a59-79ad84b80aa8",
   "metadata": {},
   "source": [
    "Line [2] is basicllay importing the Installed Libraries earlier and calling them in the IDE for interacting with them. \n",
    "\n",
    "Now , what does import \"import pandas as pd\"  mean ? \n",
    "\n",
    "-> For pandas, we usually import pandas with the pd alias, which means we refer to pandas as pd in the code instead of writing “pandas” each time. Alias is an alternate name that can be used for referencing the same thing again and again\n",
    "\n",
    "Now , what does \"from peakutils import indexes\" mean ? \n",
    "\n",
    "-> So , here peakutils is an library , The import statement allows you to import all the functions from a library into your code. Often, though, you'll only want to import a few functions, or just one. If this is the case, you can use the from statement. This essentially mean this line will import \"indexes \" function from the library \"peakutils\".\n"
   ]
  },
  {
   "cell_type": "code",
   "execution_count": 2,
   "id": "bbf405ee-aee5-4477-a558-19a3459c48fe",
   "metadata": {},
   "outputs": [],
   "source": [
    "import pandas as pd\n",
    "import numpy as np\n",
    "import seaborn as sns\n",
    "import matplotlib\n",
    "import matplotlib.pyplot as plt\n",
    "from peakutils import indexes\n",
    "\n",
    "\n",
    "\n"
   ]
  },
  {
   "cell_type": "markdown",
   "id": "5f0a7a6f-2747-45ca-963c-556323c02bfe",
   "metadata": {},
   "source": [
    "Now lets , import an .csv file , so that we can interact with the data\n",
    "\n",
    "Line [3] , basically we have created a variable called as \"spectra_data\" , and we have used pd.read_csv function , to read the content from the .csv file. Here as mentioned earlier , we are selecting a function called as read_csv from the library Pandas , which has an alias \"pd\"\n",
    "\n",
    "Now , after just typing the variable name in line below , it will print the content of the variable , which has an content of the .csv file. \n",
    "\n",
    "Please NOTE  , there are two ways 1) Copy the .csv file in your project directory , as what i have done , and then you can simply type the name of csv file with it's extension 'Spectra Data.csv' , to display the data , or else 2) Let the .csv file , be at any location on your drive , and then you can give it ,  its absolute path of the file location. eg :- 'C:/Windows/.. /Spectra Data.csv'\n",
    "\n",
    "Both works , exactly the same , although i prefer (1) - as it helps with file organisation\n",
    "\n",
    "Also , my data in the .csv format is starting from row 0 and endinging at row 23430 , now if in your case , you have to skip some rows , because of some headers or some junk information , you can use \"eg :- skiprows = 3 \" , this will slip the data for row 3 and above."
   ]
  },
  {
   "cell_type": "code",
   "execution_count": 3,
   "id": "f62f8a36-532b-4e94-a7b3-10be9aa54af1",
   "metadata": {},
   "outputs": [
    {
     "data": {
      "text/html": [
       "<div>\n",
       "<style scoped>\n",
       "    .dataframe tbody tr th:only-of-type {\n",
       "        vertical-align: middle;\n",
       "    }\n",
       "\n",
       "    .dataframe tbody tr th {\n",
       "        vertical-align: top;\n",
       "    }\n",
       "\n",
       "    .dataframe thead th {\n",
       "        text-align: right;\n",
       "    }\n",
       "</style>\n",
       "<table border=\"1\" class=\"dataframe\">\n",
       "  <thead>\n",
       "    <tr style=\"text-align: right;\">\n",
       "      <th></th>\n",
       "      <th>wavelength</th>\n",
       "      <th>CR210LA</th>\n",
       "      <th>CR240LA</th>\n",
       "      <th>CR300LA</th>\n",
       "      <th>CR460LA</th>\n",
       "      <th>CR570CP</th>\n",
       "      <th>CR440Y</th>\n",
       "      <th>CR700Y</th>\n",
       "      <th>CR1000Y</th>\n",
       "      <th>HR660Y</th>\n",
       "    </tr>\n",
       "  </thead>\n",
       "  <tbody>\n",
       "    <tr>\n",
       "      <th>0</th>\n",
       "      <td>180.000000</td>\n",
       "      <td>0.0</td>\n",
       "      <td>0.0</td>\n",
       "      <td>0.0</td>\n",
       "      <td>0.0</td>\n",
       "      <td>0.0</td>\n",
       "      <td>0.0</td>\n",
       "      <td>0.0</td>\n",
       "      <td>0.0</td>\n",
       "      <td>0.0</td>\n",
       "    </tr>\n",
       "    <tr>\n",
       "      <th>1</th>\n",
       "      <td>180.033333</td>\n",
       "      <td>0.0</td>\n",
       "      <td>0.0</td>\n",
       "      <td>0.0</td>\n",
       "      <td>0.0</td>\n",
       "      <td>0.0</td>\n",
       "      <td>0.0</td>\n",
       "      <td>0.0</td>\n",
       "      <td>0.0</td>\n",
       "      <td>0.0</td>\n",
       "    </tr>\n",
       "    <tr>\n",
       "      <th>2</th>\n",
       "      <td>180.066667</td>\n",
       "      <td>0.0</td>\n",
       "      <td>0.0</td>\n",
       "      <td>0.0</td>\n",
       "      <td>0.0</td>\n",
       "      <td>0.0</td>\n",
       "      <td>0.0</td>\n",
       "      <td>0.0</td>\n",
       "      <td>0.0</td>\n",
       "      <td>0.0</td>\n",
       "    </tr>\n",
       "    <tr>\n",
       "      <th>3</th>\n",
       "      <td>180.100000</td>\n",
       "      <td>0.0</td>\n",
       "      <td>0.0</td>\n",
       "      <td>0.0</td>\n",
       "      <td>0.0</td>\n",
       "      <td>0.0</td>\n",
       "      <td>0.0</td>\n",
       "      <td>0.0</td>\n",
       "      <td>0.0</td>\n",
       "      <td>0.0</td>\n",
       "    </tr>\n",
       "    <tr>\n",
       "      <th>4</th>\n",
       "      <td>180.133333</td>\n",
       "      <td>0.0</td>\n",
       "      <td>0.0</td>\n",
       "      <td>0.0</td>\n",
       "      <td>0.0</td>\n",
       "      <td>0.0</td>\n",
       "      <td>0.0</td>\n",
       "      <td>0.0</td>\n",
       "      <td>0.0</td>\n",
       "      <td>0.0</td>\n",
       "    </tr>\n",
       "    <tr>\n",
       "      <th>...</th>\n",
       "      <td>...</td>\n",
       "      <td>...</td>\n",
       "      <td>...</td>\n",
       "      <td>...</td>\n",
       "      <td>...</td>\n",
       "      <td>...</td>\n",
       "      <td>...</td>\n",
       "      <td>...</td>\n",
       "      <td>...</td>\n",
       "      <td>...</td>\n",
       "    </tr>\n",
       "    <tr>\n",
       "      <th>23426</th>\n",
       "      <td>960.866667</td>\n",
       "      <td>0.0</td>\n",
       "      <td>0.0</td>\n",
       "      <td>0.0</td>\n",
       "      <td>0.0</td>\n",
       "      <td>0.0</td>\n",
       "      <td>0.0</td>\n",
       "      <td>0.0</td>\n",
       "      <td>0.0</td>\n",
       "      <td>0.0</td>\n",
       "    </tr>\n",
       "    <tr>\n",
       "      <th>23427</th>\n",
       "      <td>960.900000</td>\n",
       "      <td>0.0</td>\n",
       "      <td>0.0</td>\n",
       "      <td>0.0</td>\n",
       "      <td>0.0</td>\n",
       "      <td>0.0</td>\n",
       "      <td>0.0</td>\n",
       "      <td>0.0</td>\n",
       "      <td>0.0</td>\n",
       "      <td>0.0</td>\n",
       "    </tr>\n",
       "    <tr>\n",
       "      <th>23428</th>\n",
       "      <td>960.933333</td>\n",
       "      <td>0.0</td>\n",
       "      <td>0.0</td>\n",
       "      <td>0.0</td>\n",
       "      <td>0.0</td>\n",
       "      <td>0.0</td>\n",
       "      <td>0.0</td>\n",
       "      <td>0.0</td>\n",
       "      <td>0.0</td>\n",
       "      <td>0.0</td>\n",
       "    </tr>\n",
       "    <tr>\n",
       "      <th>23429</th>\n",
       "      <td>960.966667</td>\n",
       "      <td>0.0</td>\n",
       "      <td>0.0</td>\n",
       "      <td>0.0</td>\n",
       "      <td>0.0</td>\n",
       "      <td>0.0</td>\n",
       "      <td>0.0</td>\n",
       "      <td>0.0</td>\n",
       "      <td>0.0</td>\n",
       "      <td>0.0</td>\n",
       "    </tr>\n",
       "    <tr>\n",
       "      <th>23430</th>\n",
       "      <td>961.000000</td>\n",
       "      <td>0.0</td>\n",
       "      <td>0.0</td>\n",
       "      <td>0.0</td>\n",
       "      <td>0.0</td>\n",
       "      <td>0.0</td>\n",
       "      <td>0.0</td>\n",
       "      <td>0.0</td>\n",
       "      <td>0.0</td>\n",
       "      <td>0.0</td>\n",
       "    </tr>\n",
       "  </tbody>\n",
       "</table>\n",
       "<p>23431 rows × 10 columns</p>\n",
       "</div>"
      ],
      "text/plain": [
       "       wavelength  CR210LA  CR240LA  CR300LA  CR460LA  CR570CP  CR440Y  \\\n",
       "0      180.000000      0.0      0.0      0.0      0.0      0.0     0.0   \n",
       "1      180.033333      0.0      0.0      0.0      0.0      0.0     0.0   \n",
       "2      180.066667      0.0      0.0      0.0      0.0      0.0     0.0   \n",
       "3      180.100000      0.0      0.0      0.0      0.0      0.0     0.0   \n",
       "4      180.133333      0.0      0.0      0.0      0.0      0.0     0.0   \n",
       "...           ...      ...      ...      ...      ...      ...     ...   \n",
       "23426  960.866667      0.0      0.0      0.0      0.0      0.0     0.0   \n",
       "23427  960.900000      0.0      0.0      0.0      0.0      0.0     0.0   \n",
       "23428  960.933333      0.0      0.0      0.0      0.0      0.0     0.0   \n",
       "23429  960.966667      0.0      0.0      0.0      0.0      0.0     0.0   \n",
       "23430  961.000000      0.0      0.0      0.0      0.0      0.0     0.0   \n",
       "\n",
       "       CR700Y  CR1000Y  HR660Y  \n",
       "0         0.0      0.0     0.0  \n",
       "1         0.0      0.0     0.0  \n",
       "2         0.0      0.0     0.0  \n",
       "3         0.0      0.0     0.0  \n",
       "4         0.0      0.0     0.0  \n",
       "...       ...      ...     ...  \n",
       "23426     0.0      0.0     0.0  \n",
       "23427     0.0      0.0     0.0  \n",
       "23428     0.0      0.0     0.0  \n",
       "23429     0.0      0.0     0.0  \n",
       "23430     0.0      0.0     0.0  \n",
       "\n",
       "[23431 rows x 10 columns]"
      ]
     },
     "execution_count": 3,
     "metadata": {},
     "output_type": "execute_result"
    }
   ],
   "source": [
    "spectra_data = pd.read_csv(r'Spectra Data.csv', skiprows=0)\n",
    "spectra_data"
   ]
  },
  {
   "cell_type": "markdown",
   "id": "7756f741-4fa2-42ed-9f2c-7f9d9738feeb",
   "metadata": {},
   "source": [
    "In the data above , we see 'spectra_data' has lot of information contained in itself , in column 1 - Wavelength , and from column 2 to column 10 , we see Intensities of different material samples. \n",
    "\n",
    "-------------------------------------------------------------------------------------------------------\n",
    "Now , In my alogrithm i choosed to interact with one material sample at a time. if.. else loop is used by me to choose between different material samples\n",
    "\n",
    "---------------------------------------------------------------------------------------------------------------------\n",
    "In the first line (sample = 'CR210LA') , here in '' , type any material sample of your choice , which you choose to interact with, here in a variable called as 'sample' , has a stored string value 'CR210LA'\n",
    "\n",
    "---------------------------------------------------------------------------------------------------------------------------\n",
    "# Now I will explain one condition in detail: \n",
    "\n",
    "if sample =='CR210LA': \n",
    "    Raw_Sample_Spectra = spectra_data.filter(['wavelength','CR210LA'],axis=1)\n",
    "    Sample_Spectra = Raw_Sample_Spectra.rename({'CR210LA':'Intensities'},axis=1)\n",
    "    plt.plot(spectra_data.wavelength,spectra_data.CR210LA)\n",
    "    \n",
    "----------------------------------------------------------------------------------------------------------------------------\n",
    "In line [3] Now , Here i am comparing the string value stored in sample , with a fixed string 'CR210LA' , if this condition is true , the code intended after the line will execute and then it will exit the loop, if the condition is false , it will check the next elif statement , until the condition is true. \n",
    "If , for some situation , no condition is true , it will execute , whatever is written in the else statement.\n",
    "\n",
    "In line [3],Now , since , 'spectra_data' has a lot of information , and i just want to interact with the material sample of choice , its essentially to filter out the content , which we dont want (eg: other material sample intensities.)\n",
    "\n",
    "In line [3],From the spectra_data variable , i am selecting just the content of the column 1 - wavelength and content of column 2 - CR210LA , and i am storing this data in new variable 'Raw_Sample_Spectra'. \n",
    "\n",
    "Now , From  this variable of 'Raw_Sample_Sepctra' , has two columns , Column 1 - Wavelength and Column 2 - CR210LA , Similarly as per different value in variable 'sample' , Column 2 will have different will have different name like CR240LA , CR1000Y , HR660Y etc. \n",
    "\n",
    "Now , a better idea would be to rename this columns to name to such as like \"Intensities\" , so that it would be easier for us to interact with.\n",
    "\n",
    "In line [3],This is what exactly is done , and the data with column name 'Wavelength' and 'Intensities' are stored in variable 'Sample_Spectra'\n",
    "\n",
    "In line [3],plt.plot(spectra_data.wavelength,spectra_data.CR210LA) -> This will create a line plot , with x axis = wavelngth and Y axis = Intensities.\n"
   ]
  },
  {
   "cell_type": "code",
   "execution_count": 4,
   "id": "3ff93e69-f92a-48f1-8631-3b8b1cc20a12",
   "metadata": {},
   "outputs": [
    {
     "name": "stdout",
     "output_type": "stream",
     "text": [
      "       wavelength  Intensities\n",
      "0      180.000000          0.0\n",
      "1      180.033333          0.0\n",
      "2      180.066667          0.0\n",
      "3      180.100000          0.0\n",
      "4      180.133333          0.0\n",
      "...           ...          ...\n",
      "23426  960.866667          0.0\n",
      "23427  960.900000          0.0\n",
      "23428  960.933333          0.0\n",
      "23429  960.966667          0.0\n",
      "23430  961.000000          0.0\n",
      "\n",
      "[23431 rows x 2 columns]\n"
     ]
    },
    {
     "data": {
      "image/png": "[encoded data removed]",
      "text/plain": [
       "<Figure size 640x480 with 1 Axes>"
      ]
     },
     "metadata": {},
     "output_type": "display_data"
    }
   ],
   "source": [
    "sample = 'CR210LA' # ENTER YOUR SAMPLE OF CHOICE\n",
    "if sample =='CR210LA':\n",
    "    Raw_Sample_Spectra = spectra_data.filter(['wavelength','CR210LA'],axis=1)\n",
    "    Sample_Spectra = Raw_Sample_Spectra.rename({'CR210LA':'Intensities'},axis=1)\n",
    "    plt.plot(spectra_data.wavelength,spectra_data.CR210LA)\n",
    "elif sample =='CR240LA':\n",
    "    Raw_Sample_Spectra = spectra_data.filter(['wavelength','CR240LA'],axis=1)\n",
    "    Sample_Spectra = Raw_Sample_Spectra.rename({'CR240LA':'Intensities'},axis=1)\n",
    "    plt.plot(spectra_data.wavelength,spectra_data.CR240LA)\n",
    "elif sample =='CR300LA':\n",
    "    Raw_Sample_Spectra = spectra_data.filter(['wavelength','CR300LA'],axis=1)\n",
    "    Sample_Spectra = Raw_Sample_Spectra.rename({'CR300LA':'Intensities'},axis=1)\n",
    "    plt.plot(spectra_data.wavelength,spectra_data.CR300LA)\n",
    "elif sample =='CR460LA':\n",
    "    Raw_Sample_Spectra = spectra_data.filter(['wavelength','CR460LA'],axis=1)\n",
    "    Sample_Spectra = Raw_Sample_Spectra.rename({'CR460LA':'Intensities'},axis=1)\n",
    "    plt.plot(spectra_data.wavelength,spectra_data.CR460LA)\n",
    "elif sample =='CR570CP':\n",
    "    Raw_Sample_Spectra = spectra_data.filter(['wavelength','CR570CP'],axis=1)\n",
    "    Sample_Spectra = Raw_Sample_Spectra.rename({'CR570CP':'Intensities'},axis=1)\n",
    "    plt.plot(spectra_data.wavelength,spectra_data.CR570CP)\n",
    "elif sample =='CR440Y':\n",
    "    Raw_Sample_Spectra = spectra_data.filter(['wavelength','CR440Y'],axis=1)\n",
    "    Sample_Spectra = Raw_Sample_Spectra.rename({'CR440Y':'Intensities'},axis=1)\n",
    "    plt.plot(spectra_data.wavelength,spectra_data.CR440Y)\n",
    "elif sample =='CR700Y':\n",
    "    Raw_Sample_Spectra = spectra_data.filter(['wavelength','CR700Y'],axis=1)\n",
    "    Sample_Spectra = Raw_Sample_Spectra.rename({'CR700Y':'Intensities'},axis=1)\n",
    "    plt.plot(spectra_data.wavelength,spectra_data.CR700Y)\n",
    "elif sample =='CR1000Y':\n",
    "    Raw_Sample_Spectra = spectra_data.filter(['wavelength','CR1000Y'],axis=1)\n",
    "    Sample_Spectra = Raw_Sample_Spectra.rename({'CR1000Y':'Intensities'},axis=1)\n",
    "    plt.plot(spectra_data.wavelength,spectra_data.CR1000Y)\n",
    "elif sample =='HR660Y':\n",
    "    Raw_Sample_Spectra = spectra_data.filter(['wavelength','HR660Y'],axis=1)\n",
    "    Sample_Spectra = Raw_Sample_Spectra.rename({'HR660Y':'Intensities'},axis=1)\n",
    "    plt.plot(spectra_data.wavelength,spectra_data.HR660Y)\n",
    "elif sample == '':\n",
    "    print(\"Please Enter Sample\")\n",
    "else:\n",
    "    print (\"Invalid Element Sample\")\n",
    "\n",
    "print(Sample_Spectra)\n",
    "plt.show()\n"
   ]
  },
  {
   "cell_type": "markdown",
   "id": "ac899085-cede-49e5-9eaa-e29e6f5f69d3",
   "metadata": {
    "editable": true,
    "slideshow": {
     "slide_type": ""
    },
    "tags": []
   },
   "source": [
    "Now , as we see in the figure avove , the spectral information of  'CR201LA' , may have different element composition , like Fe , Al ,Cr , Cu.  \n",
    "\n",
    "My Goal of this tutorial is to identify the Peaks for the element like Al, Cr , Cu , Fe , Mn , Mo , Ni , Si from the above spectral information. \n",
    "Ofcourse , Quantitative analysis would be difficult , but we can try to do Qualitative analysis.\n",
    "\n",
    "In line [4] , Here, Also i will , try to focus on one element at a time thats why , i have used if..elif..else statement. \n",
    "\n",
    "Now , i have visited the https://physics.nist.gov/PhysRefData/ASD/LIBS/libs-form.html  , website one of the best LIBS database to get information on element spectra. \n",
    "\n",
    "I have searched the spectra of each element , from the website and the Spectra Information of the elemnt is stored in /NIST/ folder in the directory in their specific .csv format , example: Al.csv will have all the spectral information for Aluminium \n",
    "\n"
   ]
  },
  {
   "cell_type": "code",
   "execution_count": 5,
   "id": "dc059679-4d8e-4852-8196-4d5d2b9110e9",
   "metadata": {
    "editable": true,
    "slideshow": {
     "slide_type": ""
    },
    "tags": []
   },
   "outputs": [
    {
     "name": "stdout",
     "output_type": "stream",
     "text": [
      "       Wavelength       Spectra\n",
      "0          169.08  2.630000e-10\n",
      "1          169.12  5.470000e-09\n",
      "2          169.16  1.020000e-07\n",
      "3          169.20  1.700000e-06\n",
      "4          169.24  2.550000e-05\n",
      "...           ...           ...\n",
      "16653      963.36  9.000000e+01\n",
      "16654      963.40  1.090000e+02\n",
      "16655      963.44  1.310000e+02\n",
      "16656      963.48  1.570000e+02\n",
      "16657      963.52  1.870000e+02\n",
      "\n",
      "[16658 rows x 2 columns]\n"
     ]
    },
    {
     "data": {
      "image/png": "[encoded data removed]",
      "text/plain": [
       "<Figure size 640x480 with 1 Axes>"
      ]
     },
     "metadata": {},
     "output_type": "display_data"
    }
   ],
   "source": [
    "element = 'Fe' # ENTER YOUR ELEMENT OF \n",
    "\n",
    "if element =='Al':\n",
    "    Reference_Spectra = pd.read_csv(r\"NIST/Al.csv\" ,encoding = 'windows - 1252')\n",
    "  \n",
    "elif element =='Cr':\n",
    "    Reference_Spectra = pd.read_csv(r\"NIST/Cr.csv\" , encoding = 'windows - 1252')\n",
    "    \n",
    "elif element =='Cu':\n",
    "    Reference_Spectra = pd.read_csv(r\"NIST/Cu.csv\" , encoding = 'windows - 1252')\n",
    "    \n",
    "elif element =='Fe':\n",
    "    Reference_Spectra = pd.read_csv(r\"NIST/Fe.csv\" , encoding = 'windows - 1252')\n",
    "    \n",
    "\n",
    "elif element =='Mn':\n",
    "    Reference_Spectra = pd.read_csv(r\"NIST/Mn.csv\" , encoding = 'windows - 1252')\n",
    "    \n",
    "elif element =='Mo':\n",
    "    Reference_Spectra = pd.read_csv(r\"NIST/Mo.csv\" , encoding = 'windows - 1252')\n",
    "    \n",
    "elif element =='Ni':\n",
    "    Reference_Spectra = pd.read_csv(r\"NIST/Ni.csv\" , encoding = 'windows - 1252')\n",
    "    \n",
    "elif element =='Si':\n",
    "    Reference_Spectra = pd.read_csv(r\"NIST/Si.csv\" , encoding = 'windows - 1252')\n",
    "    \n",
    "elif element == '':\n",
    "    print(\"Please Enter Element\")\n",
    "    \n",
    "else:\n",
    "    print (\"Invalid Element Entered\")\n",
    "\n",
    "print(Reference_Spectra)\n",
    "plt.plot(Reference_Spectra.Wavelength , Reference_Spectra.Spectra)\n",
    "plt.show()"
   ]
  },
  {
   "cell_type": "markdown",
   "id": "1292293e-ab6a-4745-b570-e7496c5f0c4b",
   "metadata": {},
   "source": [
    "# 1:- MANUAL APPROACH FOR PEAK DETECTION (Peak_Util library)"
   ]
  },
  {
   "cell_type": "markdown",
   "id": "be7ce344-2499-4558-a5a3-2a50e7a7315a",
   "metadata": {},
   "source": [
    "Now, uptil now , we have selected the Material Sample ,which we want to Interact with and the data is stored in variable \"Sample_Spectra\"\n",
    "Also , we have choosen the element , which we want to detect in this 'Sample_Spectra' , and the spectral information for that element is stored in variable \"Reference_Spectra\" \n",
    "\n",
    "Now , from this 'Reference_Spectra' , Let's try to get all the Peaks this Spectra has\n",
    "\n",
    "I have used a library called as Peak_Utils \n",
    "\n",
    "https://peakutils.readthedocs.io/en/latest/reference.html\n",
    "\n",
    "The detail of the function is given below. \n",
    "\n",
    "---------------------------------------------------------------------------------------------------------------------------"
   ]
  },
  {
   "cell_type": "markdown",
   "id": "b8c65c23-0f57-40e0-a703-8978c7b52b1f",
   "metadata": {},
   "source": [
    "---------------------------------------------------------------------------------------------------------------------------\n",
    "peakutils.peak.indexes(y, thres=0.3, min_dist=1, thres_abs=False)\n",
    "\n",
    "Finds the numeric index of the peaks in y by taking its first-order difference. By using thres and min_dist parameters, it is possible to reduce the number of detected peaks. y must be signed.\n",
    "\n",
    "Parameters:\t\n",
    "\n",
    "y (ndarray (signed)) – 1D amplitude data to search for peaks.\n",
    "\n",
    "thres (float between [0., 1.]) – Normalized threshold. Only the peaks with an amplitude higher than the threshold will be detected. Percentage as compared to the highest peak, Everything above the \"thres\" value will be detected\n",
    "\n",
    "min_dist (int) – Minimum distance between each detected peak. The peak with the highest amplitude is preferred to satisfy this constraint.\n",
    "\n",
    "Returns:\t\n",
    "An array containing the numeric indexes of the peaks that were detected. When using with Pandas DataFrames, iloc should be used to access the values at the returned positions.\n",
    "\n",
    "----------------------------------------------------------------------------------------------------------------------------\n"
   ]
  },
  {
   "cell_type": "markdown",
   "id": "3cfc1ac2-cdb5-4fea-b968-b4a32be155c8",
   "metadata": {},
   "source": [
    "NOTE :- Now if we keep the minimum_distance_1 = 0 and threshold_1 = 0 , we get all the peaks in the spectra , Tuning of these parameter are most important as per your signal.\n",
    "\n",
    "Setting the value in parameter 'minimum_distance_1' , will allows to skip the peaks , which are very close to each other. \n",
    "Setting the value in parameter 'threshold_1', will allows to skip the peaks with low intensity and also seperate the Peaks , with that of noise signal. \n",
    "\n",
    "So , its important to choose the value's as per your convenience \n",
    "\n",
    "----------------------------------------------------------------------------------------------------------------------------"
   ]
  },
  {
   "cell_type": "code",
   "execution_count": 6,
   "id": "ef8e082c-14c2-4d24-85fe-62a1b7b66ffb",
   "metadata": {
    "scrolled": true
   },
   "outputs": [
    {
     "data": {
      "text/plain": [
       "array([  27,  232, 1562, 1682, 1836, 1951, 2062, 2211, 2573])"
      ]
     },
     "execution_count": 6,
     "metadata": {},
     "output_type": "execute_result"
    }
   ],
   "source": [
    "minimum_distance_1 = 100  #Minimum distance between each detected peak. The peak with the highest amplitude is preferred to satisfy this constraint.\n",
    "threshold_1 = 0.05 #looking for a value above 0.5% , so that Noise and  Peak with very low Intensities can be ignored \n",
    "\n",
    "Reference_Peak = indexes(Reference_Spectra.Spectra , min_dist=minimum_distance_1 , thres=threshold_1) \n",
    "Reference_Peak #Return the indices in the form of the list"
   ]
  },
  {
   "cell_type": "code",
   "execution_count": 7,
   "id": "894d8bc8-4be1-4c84-b037-d8ecf80d8aba",
   "metadata": {},
   "outputs": [
    {
     "data": {
      "text/html": [
       "<div>\n",
       "<style scoped>\n",
       "    .dataframe tbody tr th:only-of-type {\n",
       "        vertical-align: middle;\n",
       "    }\n",
       "\n",
       "    .dataframe tbody tr th {\n",
       "        vertical-align: top;\n",
       "    }\n",
       "\n",
       "    .dataframe thead th {\n",
       "        text-align: right;\n",
       "    }\n",
       "</style>\n",
       "<table border=\"1\" class=\"dataframe\">\n",
       "  <thead>\n",
       "    <tr style=\"text-align: right;\">\n",
       "      <th></th>\n",
       "      <th>Wavelength</th>\n",
       "      <th>Spectra</th>\n",
       "    </tr>\n",
       "  </thead>\n",
       "  <tbody>\n",
       "    <tr>\n",
       "      <th>27</th>\n",
       "      <td>170.19</td>\n",
       "      <td>1.630000e+09</td>\n",
       "    </tr>\n",
       "    <tr>\n",
       "      <th>232</th>\n",
       "      <td>178.61</td>\n",
       "      <td>1.680000e+09</td>\n",
       "    </tr>\n",
       "    <tr>\n",
       "      <th>1562</th>\n",
       "      <td>233.26</td>\n",
       "      <td>5.780000e+09</td>\n",
       "    </tr>\n",
       "    <tr>\n",
       "      <th>1682</th>\n",
       "      <td>238.19</td>\n",
       "      <td>2.860000e+10</td>\n",
       "    </tr>\n",
       "    <tr>\n",
       "      <th>1836</th>\n",
       "      <td>244.52</td>\n",
       "      <td>2.510000e+09</td>\n",
       "    </tr>\n",
       "    <tr>\n",
       "      <th>1951</th>\n",
       "      <td>249.24</td>\n",
       "      <td>5.950000e+09</td>\n",
       "    </tr>\n",
       "    <tr>\n",
       "      <th>2062</th>\n",
       "      <td>253.80</td>\n",
       "      <td>5.080000e+09</td>\n",
       "    </tr>\n",
       "    <tr>\n",
       "      <th>2211</th>\n",
       "      <td>259.92</td>\n",
       "      <td>2.730000e+10</td>\n",
       "    </tr>\n",
       "    <tr>\n",
       "      <th>2573</th>\n",
       "      <td>274.80</td>\n",
       "      <td>1.370000e+10</td>\n",
       "    </tr>\n",
       "  </tbody>\n",
       "</table>\n",
       "</div>"
      ],
      "text/plain": [
       "      Wavelength       Spectra\n",
       "27        170.19  1.630000e+09\n",
       "232       178.61  1.680000e+09\n",
       "1562      233.26  5.780000e+09\n",
       "1682      238.19  2.860000e+10\n",
       "1836      244.52  2.510000e+09\n",
       "1951      249.24  5.950000e+09\n",
       "2062      253.80  5.080000e+09\n",
       "2211      259.92  2.730000e+10\n",
       "2573      274.80  1.370000e+10"
      ]
     },
     "execution_count": 7,
     "metadata": {},
     "output_type": "execute_result"
    }
   ],
   "source": [
    "Selected_Reference_Spectra = Reference_Spectra.iloc[Reference_Peak] #from the indices , lets try to find the Wavelength and Spectra. \n",
    "\n",
    "Selected_Reference_Spectra\n"
   ]
  },
  {
   "cell_type": "markdown",
   "id": "fe947ffc-aed5-4136-9c02-131443ed2f32",
   "metadata": {},
   "source": [
    "# Here , I am trying to plot the detected Peaks\n",
    "\n",
    "I Have plotted the 'Line Plot' for the Reference_Spectra , from the matplotlib library. \n",
    "\n",
    "And , I have also plotted a 'scatter plot' for the Refrecence_Peak  , from the matplotlib\n"
   ]
  },
  {
   "cell_type": "code",
   "execution_count": 8,
   "id": "b72fdfd2-19f7-45dc-9391-fce4a9a8e318",
   "metadata": {
    "scrolled": true
   },
   "outputs": [
    {
     "data": {
      "text/plain": [
       "<matplotlib.collections.PathCollection at 0x11f56b0b0>"
      ]
     },
     "execution_count": 8,
     "metadata": {},
     "output_type": "execute_result"
    },
    {
     "data": {
      "image/png": "[encoded data removed]",
      "text/plain": [
       "<Figure size 640x480 with 1 Axes>"
      ]
     },
     "metadata": {},
     "output_type": "display_data"
    }
   ],
   "source": [
    "plt.plot(Reference_Spectra.Wavelength,Reference_Spectra.Spectra) #plot a nomral ,x ,y plot)\n",
    "plt.scatter(Selected_Reference_Spectra.Wavelength,Selected_Reference_Spectra.Spectra)"
   ]
  },
  {
   "cell_type": "markdown",
   "id": "9908c10c-ed35-4883-9e1f-4aba73775d7c",
   "metadata": {},
   "source": [
    "# Now , lets try to create an list , lets fill the list , with all the detected peaks wavelengths. "
   ]
  },
  {
   "cell_type": "code",
   "execution_count": 9,
   "id": "35d58bb0-090b-41fb-bbd6-7ffe0e968985",
   "metadata": {},
   "outputs": [
    {
     "name": "stdout",
     "output_type": "stream",
     "text": [
      "[233.26, 238.19, 244.52, 249.24, 253.8, 259.92, 274.8]\n"
     ]
    }
   ],
   "source": [
    "\n",
    "Refernce_Spectra_Wavelength = Reference_Spectra.iloc[Reference_Peak]\n",
    "Reference_Spectra_List = []\n",
    "\n",
    "for iteam in Refernce_Spectra_Wavelength.Wavelength:\n",
    "    iteam = float(iteam)\n",
    "    if iteam > 188.0:        #Only those iteam will be selected , whose wavelength would be greater than 188 nm ,  as our Handheld LIBS range starts from 188nm\n",
    "        Reference_Spectra_List.append(iteam)\n",
    "    \n",
    "print(Reference_Spectra_List)\n",
    "Length_Reference_Spectra_List = (len(Reference_Spectra_List))   #Used for Calculating Percentage Detection"
   ]
  },
  {
   "cell_type": "markdown",
   "id": "54ed8819-b495-4457-a9b1-94aa35fd5256",
   "metadata": {},
   "source": [
    "Now , we have a list of all wavelengths , detected for Peaks in Reference Spectra , Now for each element lets try to create a min and max of each element in the list. \n",
    "\n",
    "'Reference_Spectra_Min_Max' is list consisting of a sublist , the sublist have a min and max value or a range of element in the list.\n",
    "\n",
    "Now , for the two wavelengths , to exactly match with each other , is going to be difficult , because of physical constarints in optics , instruments etc, It's always better , to find a span or range for wavelength , and to look for peak in that span or range, which would give us more probability in detecting a peak. A offset of 1nm is selected for the same (Completely Randomly Selected). \n",
    "\n",
    "Eg : - A peak of 199.06 nm can be found in between [ 199.04  and 199.08] , this gives us more room to find a wavelength \n",
    "\n",
    "-------------------------------------------------------------------------------------------------------------------------------"
   ]
  },
  {
   "cell_type": "code",
   "execution_count": 10,
   "id": "4567b335-e768-4f88-8e84-9ba3f9fbee3a",
   "metadata": {},
   "outputs": [],
   "source": [
    "# 0.02 is like a offset in both end , and this can be changed as per your requirement."
   ]
  },
  {
   "cell_type": "code",
   "execution_count": 11,
   "id": "c9c9d819-9514-44f7-87ce-c4a3a14e3d2d",
   "metadata": {},
   "outputs": [
    {
     "name": "stdout",
     "output_type": "stream",
     "text": [
      "[[233.16, 233.35999999999999], [238.09, 238.29], [244.42000000000002, 244.62], [249.14000000000001, 249.34], [253.70000000000002, 253.9], [259.82, 260.02000000000004], [274.7, 274.90000000000003]]\n"
     ]
    }
   ],
   "source": [
    "Reference_Spectra_Min_Max = []\n",
    "\n",
    "Reference_Spectra_Min_Max = [[num - 0.1 , num + 0.1] for num in Reference_Spectra_List]     \n",
    "    \n",
    "print(Reference_Spectra_Min_Max)"
   ]
  },
  {
   "cell_type": "markdown",
   "id": "bc01fe11-37cb-41c4-95b3-e65834817766",
   "metadata": {},
   "source": [
    "Once we have got the range for the Reference Spectra , where the Element  Spectra can be expected. Now let's try to find all the peak of the 'Sample_Spectra' , Here also tuning of the paramters are important as [er you analysis\n",
    "-------------------------------------------------------------------------------------------------------------------------------"
   ]
  },
  {
   "cell_type": "code",
   "execution_count": 21,
   "id": "0f9cdede-da9f-440a-9ba3-46fbb74ac646",
   "metadata": {},
   "outputs": [
    {
     "data": {
      "text/plain": [
       "array([  393,   678,   787,   793,   811,   837,   861,   891,   900,\n",
       "         908,   913,  1016,  2106,  2273,  2912,  2986,  3002,  3817,\n",
       "        3846,  3878,  4446,  4507,  4636,  6401,  6432,  6485,  6505,\n",
       "        7280,  8641,  8768,  9035,  9375, 12270, 13663, 13687, 14288,\n",
       "       15495, 15802, 16752, 17111, 17143, 17504, 17772, 18443, 18643,\n",
       "       18909, 18945, 19391, 19822, 19872, 21966])"
      ]
     },
     "execution_count": 21,
     "metadata": {},
     "output_type": "execute_result"
    }
   ],
   "source": [
    "minimum_distance_2 = 0  #Minimum distance between each detected peak. The peak with the highest amplitude is preferred to satisfy this constraint.\n",
    "threshold_2 = 0.1 #looking for a value above 10% , so that Noise and  Peak with very low Intensities can be ignored \n",
    "\n",
    "Sample_Peak = indexes(Sample_Spectra.Intensities , min_dist=minimum_distance_2 , thres=threshold_2) \n",
    "Sample_Peak #Return the indices in the form of the list\n",
    "\n"
   ]
  },
  {
   "cell_type": "code",
   "execution_count": 22,
   "id": "3f2c3cb6-ac99-450e-bc95-8c61d947a2ee",
   "metadata": {},
   "outputs": [
    {
     "data": {
      "text/html": [
       "<div>\n",
       "<style scoped>\n",
       "    .dataframe tbody tr th:only-of-type {\n",
       "        vertical-align: middle;\n",
       "    }\n",
       "\n",
       "    .dataframe tbody tr th {\n",
       "        vertical-align: top;\n",
       "    }\n",
       "\n",
       "    .dataframe thead th {\n",
       "        text-align: right;\n",
       "    }\n",
       "</style>\n",
       "<table border=\"1\" class=\"dataframe\">\n",
       "  <thead>\n",
       "    <tr style=\"text-align: right;\">\n",
       "      <th></th>\n",
       "      <th>wavelength</th>\n",
       "      <th>Intensities</th>\n",
       "    </tr>\n",
       "  </thead>\n",
       "  <tbody>\n",
       "    <tr>\n",
       "      <th>393</th>\n",
       "      <td>193.100000</td>\n",
       "      <td>3824.837849</td>\n",
       "    </tr>\n",
       "    <tr>\n",
       "      <th>678</th>\n",
       "      <td>202.600000</td>\n",
       "      <td>24386.180990</td>\n",
       "    </tr>\n",
       "    <tr>\n",
       "      <th>787</th>\n",
       "      <td>206.233333</td>\n",
       "      <td>25108.345570</td>\n",
       "    </tr>\n",
       "    <tr>\n",
       "      <th>793</th>\n",
       "      <td>206.433333</td>\n",
       "      <td>20124.366410</td>\n",
       "    </tr>\n",
       "    <tr>\n",
       "      <th>811</th>\n",
       "      <td>207.033333</td>\n",
       "      <td>8602.400657</td>\n",
       "    </tr>\n",
       "    <tr>\n",
       "      <th>837</th>\n",
       "      <td>207.900000</td>\n",
       "      <td>5262.653337</td>\n",
       "    </tr>\n",
       "    <tr>\n",
       "      <th>861</th>\n",
       "      <td>208.700000</td>\n",
       "      <td>16611.568680</td>\n",
       "    </tr>\n",
       "    <tr>\n",
       "      <th>891</th>\n",
       "      <td>209.700000</td>\n",
       "      <td>5861.493851</td>\n",
       "    </tr>\n",
       "    <tr>\n",
       "      <th>900</th>\n",
       "      <td>210.000000</td>\n",
       "      <td>21253.132040</td>\n",
       "    </tr>\n",
       "    <tr>\n",
       "      <th>908</th>\n",
       "      <td>210.266667</td>\n",
       "      <td>8297.589938</td>\n",
       "    </tr>\n",
       "    <tr>\n",
       "      <th>913</th>\n",
       "      <td>210.433333</td>\n",
       "      <td>7905.469576</td>\n",
       "    </tr>\n",
       "    <tr>\n",
       "      <th>1016</th>\n",
       "      <td>213.866667</td>\n",
       "      <td>25351.255860</td>\n",
       "    </tr>\n",
       "    <tr>\n",
       "      <th>2106</th>\n",
       "      <td>250.200000</td>\n",
       "      <td>13174.077090</td>\n",
       "    </tr>\n",
       "    <tr>\n",
       "      <th>2273</th>\n",
       "      <td>255.766667</td>\n",
       "      <td>19362.097440</td>\n",
       "    </tr>\n",
       "    <tr>\n",
       "      <th>2912</th>\n",
       "      <td>277.066667</td>\n",
       "      <td>5229.525414</td>\n",
       "    </tr>\n",
       "    <tr>\n",
       "      <th>2986</th>\n",
       "      <td>279.533333</td>\n",
       "      <td>3395.834677</td>\n",
       "    </tr>\n",
       "    <tr>\n",
       "      <th>3002</th>\n",
       "      <td>280.066667</td>\n",
       "      <td>8527.450475</td>\n",
       "    </tr>\n",
       "    <tr>\n",
       "      <th>3817</th>\n",
       "      <td>307.233333</td>\n",
       "      <td>3267.527870</td>\n",
       "    </tr>\n",
       "    <tr>\n",
       "      <th>3846</th>\n",
       "      <td>308.200000</td>\n",
       "      <td>3533.290376</td>\n",
       "    </tr>\n",
       "    <tr>\n",
       "      <th>3878</th>\n",
       "      <td>309.266667</td>\n",
       "      <td>5120.516637</td>\n",
       "    </tr>\n",
       "    <tr>\n",
       "      <th>4446</th>\n",
       "      <td>328.200000</td>\n",
       "      <td>21230.274610</td>\n",
       "    </tr>\n",
       "    <tr>\n",
       "      <th>4507</th>\n",
       "      <td>330.233333</td>\n",
       "      <td>26997.691900</td>\n",
       "    </tr>\n",
       "    <tr>\n",
       "      <th>4636</th>\n",
       "      <td>334.533333</td>\n",
       "      <td>27114.185630</td>\n",
       "    </tr>\n",
       "    <tr>\n",
       "      <th>6401</th>\n",
       "      <td>393.366667</td>\n",
       "      <td>11366.852240</td>\n",
       "    </tr>\n",
       "    <tr>\n",
       "      <th>6432</th>\n",
       "      <td>394.400000</td>\n",
       "      <td>8066.100875</td>\n",
       "    </tr>\n",
       "    <tr>\n",
       "      <th>6485</th>\n",
       "      <td>396.166667</td>\n",
       "      <td>11055.200330</td>\n",
       "    </tr>\n",
       "    <tr>\n",
       "      <th>6505</th>\n",
       "      <td>396.833333</td>\n",
       "      <td>8961.141663</td>\n",
       "    </tr>\n",
       "    <tr>\n",
       "      <th>7280</th>\n",
       "      <td>422.666667</td>\n",
       "      <td>2717.763448</td>\n",
       "    </tr>\n",
       "    <tr>\n",
       "      <th>8641</th>\n",
       "      <td>468.033333</td>\n",
       "      <td>26899.832820</td>\n",
       "    </tr>\n",
       "    <tr>\n",
       "      <th>8768</th>\n",
       "      <td>472.266667</td>\n",
       "      <td>27171.960910</td>\n",
       "    </tr>\n",
       "    <tr>\n",
       "      <th>9035</th>\n",
       "      <td>481.166667</td>\n",
       "      <td>26164.520670</td>\n",
       "    </tr>\n",
       "    <tr>\n",
       "      <th>9375</th>\n",
       "      <td>492.500000</td>\n",
       "      <td>2673.567842</td>\n",
       "    </tr>\n",
       "    <tr>\n",
       "      <th>12270</th>\n",
       "      <td>589.000000</td>\n",
       "      <td>2385.990413</td>\n",
       "    </tr>\n",
       "    <tr>\n",
       "      <th>13663</th>\n",
       "      <td>635.433333</td>\n",
       "      <td>3597.289189</td>\n",
       "    </tr>\n",
       "    <tr>\n",
       "      <th>13687</th>\n",
       "      <td>636.233333</td>\n",
       "      <td>29292.836010</td>\n",
       "    </tr>\n",
       "    <tr>\n",
       "      <th>14288</th>\n",
       "      <td>656.266667</td>\n",
       "      <td>7581.529279</td>\n",
       "    </tr>\n",
       "    <tr>\n",
       "      <th>15495</th>\n",
       "      <td>696.500000</td>\n",
       "      <td>7803.328226</td>\n",
       "    </tr>\n",
       "    <tr>\n",
       "      <th>15802</th>\n",
       "      <td>706.733333</td>\n",
       "      <td>6788.609037</td>\n",
       "    </tr>\n",
       "    <tr>\n",
       "      <th>16752</th>\n",
       "      <td>738.400000</td>\n",
       "      <td>9141.289465</td>\n",
       "    </tr>\n",
       "    <tr>\n",
       "      <th>17111</th>\n",
       "      <td>750.366667</td>\n",
       "      <td>6153.543398</td>\n",
       "    </tr>\n",
       "    <tr>\n",
       "      <th>17143</th>\n",
       "      <td>751.433333</td>\n",
       "      <td>7623.091274</td>\n",
       "    </tr>\n",
       "    <tr>\n",
       "      <th>17504</th>\n",
       "      <td>763.466667</td>\n",
       "      <td>16133.748440</td>\n",
       "    </tr>\n",
       "    <tr>\n",
       "      <th>17772</th>\n",
       "      <td>772.400000</td>\n",
       "      <td>6737.612953</td>\n",
       "    </tr>\n",
       "    <tr>\n",
       "      <th>18443</th>\n",
       "      <td>794.766667</td>\n",
       "      <td>4814.375752</td>\n",
       "    </tr>\n",
       "    <tr>\n",
       "      <th>18643</th>\n",
       "      <td>801.433333</td>\n",
       "      <td>4465.325531</td>\n",
       "    </tr>\n",
       "    <tr>\n",
       "      <th>18909</th>\n",
       "      <td>810.300000</td>\n",
       "      <td>6122.320917</td>\n",
       "    </tr>\n",
       "    <tr>\n",
       "      <th>18945</th>\n",
       "      <td>811.500000</td>\n",
       "      <td>14862.939960</td>\n",
       "    </tr>\n",
       "    <tr>\n",
       "      <th>19391</th>\n",
       "      <td>826.366667</td>\n",
       "      <td>2794.225246</td>\n",
       "    </tr>\n",
       "    <tr>\n",
       "      <th>19822</th>\n",
       "      <td>840.733333</td>\n",
       "      <td>5132.516374</td>\n",
       "    </tr>\n",
       "    <tr>\n",
       "      <th>19872</th>\n",
       "      <td>842.400000</td>\n",
       "      <td>6440.618490</td>\n",
       "    </tr>\n",
       "    <tr>\n",
       "      <th>21966</th>\n",
       "      <td>912.200000</td>\n",
       "      <td>3043.593601</td>\n",
       "    </tr>\n",
       "  </tbody>\n",
       "</table>\n",
       "</div>"
      ],
      "text/plain": [
       "       wavelength   Intensities\n",
       "393    193.100000   3824.837849\n",
       "678    202.600000  24386.180990\n",
       "787    206.233333  25108.345570\n",
       "793    206.433333  20124.366410\n",
       "811    207.033333   8602.400657\n",
       "837    207.900000   5262.653337\n",
       "861    208.700000  16611.568680\n",
       "891    209.700000   5861.493851\n",
       "900    210.000000  21253.132040\n",
       "908    210.266667   8297.589938\n",
       "913    210.433333   7905.469576\n",
       "1016   213.866667  25351.255860\n",
       "2106   250.200000  13174.077090\n",
       "2273   255.766667  19362.097440\n",
       "2912   277.066667   5229.525414\n",
       "2986   279.533333   3395.834677\n",
       "3002   280.066667   8527.450475\n",
       "3817   307.233333   3267.527870\n",
       "3846   308.200000   3533.290376\n",
       "3878   309.266667   5120.516637\n",
       "4446   328.200000  21230.274610\n",
       "4507   330.233333  26997.691900\n",
       "4636   334.533333  27114.185630\n",
       "6401   393.366667  11366.852240\n",
       "6432   394.400000   8066.100875\n",
       "6485   396.166667  11055.200330\n",
       "6505   396.833333   8961.141663\n",
       "7280   422.666667   2717.763448\n",
       "8641   468.033333  26899.832820\n",
       "8768   472.266667  27171.960910\n",
       "9035   481.166667  26164.520670\n",
       "9375   492.500000   2673.567842\n",
       "12270  589.000000   2385.990413\n",
       "13663  635.433333   3597.289189\n",
       "13687  636.233333  29292.836010\n",
       "14288  656.266667   7581.529279\n",
       "15495  696.500000   7803.328226\n",
       "15802  706.733333   6788.609037\n",
       "16752  738.400000   9141.289465\n",
       "17111  750.366667   6153.543398\n",
       "17143  751.433333   7623.091274\n",
       "17504  763.466667  16133.748440\n",
       "17772  772.400000   6737.612953\n",
       "18443  794.766667   4814.375752\n",
       "18643  801.433333   4465.325531\n",
       "18909  810.300000   6122.320917\n",
       "18945  811.500000  14862.939960\n",
       "19391  826.366667   2794.225246\n",
       "19822  840.733333   5132.516374\n",
       "19872  842.400000   6440.618490\n",
       "21966  912.200000   3043.593601"
      ]
     },
     "execution_count": 22,
     "metadata": {},
     "output_type": "execute_result"
    }
   ],
   "source": [
    "Selected_Sample_Spectra = Sample_Spectra.iloc[Sample_Peak] \n",
    "Selected_Sample_Spectra"
   ]
  },
  {
   "cell_type": "code",
   "execution_count": 23,
   "id": "31528e1b-0a0f-4d68-819e-6cb92254e312",
   "metadata": {},
   "outputs": [
    {
     "data": {
      "text/plain": [
       "<matplotlib.collections.PathCollection at 0x11f4070e0>"
      ]
     },
     "execution_count": 23,
     "metadata": {},
     "output_type": "execute_result"
    },
    {
     "data": {
      "image/png": "[encoded data removed]",
      "text/plain": [
       "<Figure size 640x480 with 1 Axes>"
      ]
     },
     "metadata": {},
     "output_type": "display_data"
    }
   ],
   "source": [
    "plt.plot(Sample_Spectra.wavelength,Sample_Spectra.Intensities) #plot a nomral ,x ,y plot)\n",
    "plt.scatter(Selected_Sample_Spectra.wavelength,Selected_Sample_Spectra.Intensities)"
   ]
  },
  {
   "cell_type": "markdown",
   "id": "b507873a-df55-41d2-9416-2e99aa8c6129",
   "metadata": {},
   "source": [
    "Now , lets try to create an list , lets fill the list , with all the detected peaks wavelengths of the sample spectra.\n",
    "\n",
    "Remember , Sample Spectra , has all the element within like Al , Fe , Cu , Mn , Mo etc)\n"
   ]
  },
  {
   "cell_type": "code",
   "execution_count": 24,
   "id": "abacd7e2-c280-4b3a-a3cd-ca3a2db77154",
   "metadata": {},
   "outputs": [
    {
     "name": "stdout",
     "output_type": "stream",
     "text": [
      "[193.1, 202.6, 206.2333333, 206.4333333, 207.0333333, 207.9, 208.7, 209.7, 210.0, 210.2666667, 210.4333333, 213.8666667, 250.2, 255.7666667, 277.0666667, 279.5333333, 280.0666667, 307.2333333, 308.2, 309.2666667, 328.2, 330.2333333, 334.5333333, 393.3666667, 394.4, 396.1666667, 396.8333333, 422.6666667, 468.0333333, 472.2666667, 481.1666667, 492.5, 589.0, 635.4333333, 636.2333333, 656.2666667, 696.5, 706.7333333, 738.4, 750.3666667, 751.4333333, 763.4666667, 772.4, 794.7666667, 801.4333333, 810.3, 811.5, 826.3666667, 840.7333333, 842.4, 912.2]\n"
     ]
    }
   ],
   "source": [
    "Sample_Spectra_Wavelength = Sample_Spectra.iloc[Sample_Peak]\n",
    "\n",
    "Sample_Spectra_List = []\n",
    "\n",
    "for iteam in Sample_Spectra_Wavelength.wavelength:\n",
    "    iteam = float(iteam)\n",
    "    Sample_Spectra_List.append(iteam)\n",
    "    \n",
    "print(Sample_Spectra_List)\n"
   ]
  },
  {
   "cell_type": "markdown",
   "id": "0ed2b4a2-0e2e-4e9b-a1f1-ab44c45d38e3",
   "metadata": {},
   "source": [
    "# So far so now , i have two list with me \n",
    "\n",
    "1) Sample_Spectra_List = Containg wavelngths of all Peaks from data of Handheld LIBS device\n",
    "2) Reference_Spectra_Min_Max = Containing a range of wavelength , for all the peak detected in the Reference Sample\n",
    "\n",
    "   "
   ]
  },
  {
   "cell_type": "code",
   "execution_count": 25,
   "id": "dc1343d3-2bbd-460b-9181-6f8d5544de7b",
   "metadata": {},
   "outputs": [
    {
     "name": "stdout",
     "output_type": "stream",
     "text": [
      "[193.1, 202.6, 206.2333333, 206.4333333, 207.0333333, 207.9, 208.7, 209.7, 210.0, 210.2666667, 210.4333333, 213.8666667, 250.2, 255.7666667, 277.0666667, 279.5333333, 280.0666667, 307.2333333, 308.2, 309.2666667, 328.2, 330.2333333, 334.5333333, 393.3666667, 394.4, 396.1666667, 396.8333333, 422.6666667, 468.0333333, 472.2666667, 481.1666667, 492.5, 589.0, 635.4333333, 636.2333333, 656.2666667, 696.5, 706.7333333, 738.4, 750.3666667, 751.4333333, 763.4666667, 772.4, 794.7666667, 801.4333333, 810.3, 811.5, 826.3666667, 840.7333333, 842.4, 912.2]\n"
     ]
    }
   ],
   "source": [
    "print(Sample_Spectra_List)"
   ]
  },
  {
   "cell_type": "code",
   "execution_count": 26,
   "id": "48dc5a0e-6348-41b5-a13b-b63d934d3a88",
   "metadata": {},
   "outputs": [
    {
     "name": "stdout",
     "output_type": "stream",
     "text": [
      "[[233.16, 233.35999999999999], [238.09, 238.29], [244.42000000000002, 244.62], [249.14000000000001, 249.34], [253.70000000000002, 253.9], [259.82, 260.02000000000004], [274.7, 274.90000000000003]]\n"
     ]
    }
   ],
   "source": [
    "print(Reference_Spectra_Min_Max)"
   ]
  },
  {
   "cell_type": "code",
   "execution_count": 27,
   "id": "7b44658b-34a2-47ab-84b7-d48ae48ab63c",
   "metadata": {},
   "outputs": [],
   "source": [
    "# Finally , My  idea is see , if each iteam in (Reference_Spectra_Min_Max) , matches with each element in (Sample_Spectra_List) , and then caluclate the exact matching Percentage \n"
   ]
  },
  {
   "cell_type": "code",
   "execution_count": 28,
   "id": "2b6834d7-af69-4f6b-8301-74b358d79f70",
   "metadata": {},
   "outputs": [
    {
     "name": "stdout",
     "output_type": "stream",
     "text": [
      "0\n",
      "[]\n"
     ]
    }
   ],
   "source": [
    "plot_list=[]\n",
    "count = 0\n",
    "for range in Reference_Spectra_Min_Max: \n",
    "    for iteam in Sample_Spectra_List:\n",
    "        if iteam >= range[0] and iteam <= range[1]:\n",
    "            count = count + 1\n",
    "            plot_list.append(iteam)\n",
    "            \n",
    "print(count)\n",
    "print(plot_list)"
   ]
  },
  {
   "cell_type": "markdown",
   "id": "2e8ee4cc-9af9-4541-bfdf-0c460fae1d1c",
   "metadata": {},
   "source": [
    "# Lets calculate the percntage detection of the Spectra lines matching between the Reference_Sample and Material_Sample"
   ]
  },
  {
   "cell_type": "code",
   "execution_count": 29,
   "id": "0907b6eb-3b8c-4346-9401-d9f62d1efaba",
   "metadata": {
    "editable": true,
    "slideshow": {
     "slide_type": ""
    },
    "tags": []
   },
   "outputs": [
    {
     "name": "stdout",
     "output_type": "stream",
     "text": [
      "CR210LA Ananlysis of Fe was done , and the 0 number of spectral lines from the material sample CR210LA matched with the 7 choosen Reference element of Fe therefore , we can say 0.0% matched as per the parameters set by the user\n"
     ]
    }
   ],
   "source": [
    "percentage = (count / Length_Reference_Spectra_List) * 100\n",
    "percentage\n",
    "\n",
    "print (sample + ' Ananlysis of ' + element + ' was done , and the ' + str(count) +  ' number of spectral lines from the material sample ' + sample + ' matched with the ' + str(Length_Reference_Spectra_List) + ' choosen Reference element of '+ element + ' therefore , we can say' ,  str(percentage) + '%' + ' matched as per the parameters set by the user')"
   ]
  },
  {
   "cell_type": "code",
   "execution_count": null,
   "id": "078ad04f-ed68-48c4-b9f8-5feae94bf702",
   "metadata": {},
   "outputs": [],
   "source": []
  },
  {
   "cell_type": "code",
   "execution_count": null,
   "id": "3c6c9205-a95d-4fc7-b92c-5077d341f2cf",
   "metadata": {},
   "outputs": [],
   "source": []
  },
  {
   "cell_type": "code",
   "execution_count": null,
   "id": "a52c50cd-19a6-4df7-801e-271a9ead6cda",
   "metadata": {},
   "outputs": [],
   "source": []
  }
 ],
 "metadata": {
  "kernelspec": {
   "display_name": "Python 3 (ipykernel)",
   "language": "python",
   "name": "python3"
  },
  "language_info": {
   "codemirror_mode": {
    "name": "ipython",
    "version": 3
   },
   "file_extension": ".py",
   "mimetype": "text/x-python",
   "name": "python",
   "nbconvert_exporter": "python",
   "pygments_lexer": "ipython3",
   "version": "3.12.0"
  }
 },
 "nbformat": 4,
 "nbformat_minor": 5
}
